{
 "cells": [
  {
   "cell_type": "markdown",
   "metadata": {},
   "source": [
    "# Usage of the \"brenda\" module for obtaining molecules from the BRENDA database"
   ]
  },
  {
   "cell_type": "markdown",
   "metadata": {},
   "source": [
    "First create a molecule object that holds all the data. Here we use only molecules that are listed in the **\"Natural substrates\"** table of BRENDA"
   ]
  },
  {
   "cell_type": "code",
   "execution_count": 1,
   "metadata": {},
   "outputs": [
    {
     "data": {
      "text/plain": [
       "cheminformatics.brenda.BrendaNaturalMols"
      ]
     },
     "execution_count": 1,
     "metadata": {},
     "output_type": "execute_result"
    }
   ],
   "source": [
    "from cheminformatics import brenda\n",
    "\n",
    "# other valid values for typeof are 'product', 'substrates', 'products'\n",
    "mol_obj = brenda.BrendaNaturalMols(typeof='substrate') \n",
    "\n",
    "type(mol_obj)"
   ]
  },
  {
   "cell_type": "markdown",
   "metadata": {},
   "source": [
    "You can equally well use molecules form the **\"Substrates\"** tabel in BRENDA"
   ]
  },
  {
   "cell_type": "code",
   "execution_count": 2,
   "metadata": {},
   "outputs": [
    {
     "data": {
      "text/plain": [
       "cheminformatics.brenda.BrendaMols"
      ]
     },
     "execution_count": 2,
     "metadata": {},
     "output_type": "execute_result"
    }
   ],
   "source": [
    "mol_obj = brenda.BrendaMols(typeof='substrate') \n",
    "\n",
    "type(mol_obj)"
   ]
  },
  {
   "cell_type": "markdown",
   "metadata": {},
   "source": [
    "Get a list of all unique molecules from all EC numbers"
   ]
  },
  {
   "cell_type": "code",
   "execution_count": 3,
   "metadata": {},
   "outputs": [
    {
     "data": {
      "text/plain": [
       "['(((4-((4-dimethylamino)phenyl)azo)phenyl)sulfonyl)amino-(gamma-aminobutyric acid)-pqvl-f(no2)-vmh-(5-(2-aminoethylamino)-1-naphthalenesulfonic acid)',\n",
       " '(((4-((4-dimethylamino)phenyl)azo)phenyl)sulfonyl)amino-(gamma-aminobutyric acid)-pqvl-pvmh-(5-(2-aminoethylamino)-1-naphthalenesulfonic acid)',\n",
       " '((1s,3s)-3-(7-amino-2h-2,3,5,6-tetraazabenzo[cd]azulen-2-yl)cyclobutyl)methyl tetrahydrogen triphosphate',\n",
       " '((7-methoxycoumarin-4-yl)acetyl)-ser-glu-val-asn-leu-asp-ala-glu-phe-lys(2,4-dinitrophenyl)',\n",
       " '((7-methoxycoumarin-4-yl)acetyl)-ser-glu-val-asn-leu-asp-ala-glu-phe-lys(2,4-dinitrophenyl)-arg-arg-nh2',\n",
       " '((7-methoxycoumarin-4-yl)acetyl-pro-leu-gly-leu-n-3-(2,4-dinitro-phenyl)-l-2,3-diaminopropionyl-ala-arg-nh2)',\n",
       " '(([(1e)-phenylmethylidene]amino)oxy)acetic acid',\n",
       " \"((e,e)-4,4'-dihydroxy-5,5'-dimethoxy-3,3'-bicinnamic acid l-arg-p-o-yl ester)\",\n",
       " '((gp-4-hydroxy-l-proline)5gpk(7-methoxycoumarin-4-yl)acetyl)gpqglrgqk(2,4-dinitrophenyl)gvr((gp-4-hydroxy-l-proline)5-nh2)3',\n",
       " '(+-)-11-hydroxy-delta9-tetrahydrocannabinol']"
      ]
     },
     "execution_count": 3,
     "metadata": {},
     "output_type": "execute_result"
    }
   ],
   "source": [
    "molecules = mol_obj.names()\n",
    "\n",
    "molecules[:10]"
   ]
  },
  {
   "cell_type": "markdown",
   "metadata": {},
   "source": [
    "Get a list of all EC numbers in the dataset"
   ]
  },
  {
   "cell_type": "code",
   "execution_count": 4,
   "metadata": {},
   "outputs": [
    {
     "data": {
      "text/plain": [
       "['1.1.1.1',\n",
       " '1.1.1.10',\n",
       " '1.1.1.100',\n",
       " '1.1.1.101',\n",
       " '1.1.1.102',\n",
       " '1.1.1.103',\n",
       " '1.1.1.104',\n",
       " '1.1.1.105',\n",
       " '1.1.1.106',\n",
       " '1.1.1.107']"
      ]
     },
     "execution_count": 4,
     "metadata": {},
     "output_type": "execute_result"
    }
   ],
   "source": [
    "ec_nums = mol_obj.ec()\n",
    "\n",
    "ec_nums[:10]"
   ]
  },
  {
   "cell_type": "markdown",
   "metadata": {},
   "source": [
    "Get a dictionary with EC number keys holding lists of molecule names"
   ]
  },
  {
   "cell_type": "code",
   "execution_count": 5,
   "metadata": {},
   "outputs": [
    {
     "name": "stdout",
     "output_type": "stream",
     "text": [
      "['1.1.1.1', '1.1.1.10', '1.1.1.100', '1.1.1.101', '1.1.1.102', '1.1.1.103', '1.1.1.104', '1.1.1.105', '1.1.1.106', '1.1.1.107']\n",
      "\n",
      "\n",
      "['1,5-anhydro-d-fructose', '1,5-anhydro-d-glucitol', '1,5-anhydro-s-sorbitol', '1,6-anhydro-d-glucose', '1-beta-aurothioglucose', \"2,2'-azinobis(3-ethylbenzthiazolinesulfonic acid)\", '2,6-dichloroindophenol', '2,6-dimethyl-1,4-benzoquinone', '2-chloro-1,4-benzoquinone', '2-deoxy-2-fluoro-d-glucose', '2-deoxy-d-galactose', '2-deoxy-d-glucose', '2-keto-d-glucose', '2-methoxy-1,4-benzoquinone', '3-deoxy-3-fluoro-beta-d-glucose', '3-deoxy-d-glucose', '3-o-methyl-d-glucose', '5-thioglucose', '6-deoxy-d-glucose', 'allose', 'alpha-d-glucose', 'alpha-d-melibiose', 'arabinose', 'beta-d-galactose', 'cellobiose', 'ferricenium hexafluorophosphate', 'fructose', 'fucono-1,5-lactone', 'fucose', 'galactose', 'gentibiose', 'glucono-1,5-lactone', 'gluconolactone', 'glucose', 'idose', 'lactose', 'maltoheptaose', 'maltopentaose', 'maltose', 'maltotriose', 'mannoheptose', 'mannose', 'melibiose', 'methyl alpha-d-glucoside', 'methyl beta-d-glucoside', 'methyl-beta-d-glucoside', 'ribose', 'sorbose', 'sorbose d-allose', 'sucrose', 'tetrafluoro-1,4-benzoquinone', 'trehalose', 'wheat flour', 'xylose']\n"
     ]
    }
   ],
   "source": [
    "mol_data = mol_obj.data_dict()\n",
    "\n",
    "print(list(mol_data.keys())[:10])\n",
    "\n",
    "print('\\n')\n",
    "\n",
    "print(mol_data['1.1.3.10'])\n"
   ]
  },
  {
   "cell_type": "markdown",
   "metadata": {},
   "source": [
    "Get a data frame holding the EC number and substrate name data"
   ]
  },
  {
   "cell_type": "code",
   "execution_count": 6,
   "metadata": {},
   "outputs": [
    {
     "data": {
      "text/html": [
       "<div>\n",
       "<style scoped>\n",
       "    .dataframe tbody tr th:only-of-type {\n",
       "        vertical-align: middle;\n",
       "    }\n",
       "\n",
       "    .dataframe tbody tr th {\n",
       "        vertical-align: top;\n",
       "    }\n",
       "\n",
       "    .dataframe thead th {\n",
       "        text-align: right;\n",
       "    }\n",
       "</style>\n",
       "<table border=\"1\" class=\"dataframe\">\n",
       "  <thead>\n",
       "    <tr style=\"text-align: right;\">\n",
       "      <th></th>\n",
       "      <th>ec_number</th>\n",
       "      <th>molecule</th>\n",
       "    </tr>\n",
       "  </thead>\n",
       "  <tbody>\n",
       "    <tr>\n",
       "      <th>0</th>\n",
       "      <td>1.1.1.1</td>\n",
       "      <td>(1s,3s)-3-methylcyclohexanol</td>\n",
       "    </tr>\n",
       "    <tr>\n",
       "      <th>1</th>\n",
       "      <td>1.1.1.1</td>\n",
       "      <td>(2e)-2-methylpent-2-enal</td>\n",
       "    </tr>\n",
       "    <tr>\n",
       "      <th>2</th>\n",
       "      <td>1.1.1.1</td>\n",
       "      <td>(2e)-3,7-dimethylocta-2,6-dienal</td>\n",
       "    </tr>\n",
       "    <tr>\n",
       "      <th>3</th>\n",
       "      <td>1.1.1.1</td>\n",
       "      <td>(2e)-but-2-en-1-ol</td>\n",
       "    </tr>\n",
       "    <tr>\n",
       "      <th>4</th>\n",
       "      <td>1.1.1.1</td>\n",
       "      <td>(2e)-but-2-enal</td>\n",
       "    </tr>\n",
       "  </tbody>\n",
       "</table>\n",
       "</div>"
      ],
      "text/plain": [
       "  ec_number                          molecule\n",
       "0   1.1.1.1      (1s,3s)-3-methylcyclohexanol\n",
       "1   1.1.1.1          (2e)-2-methylpent-2-enal\n",
       "2   1.1.1.1  (2e)-3,7-dimethylocta-2,6-dienal\n",
       "3   1.1.1.1                (2e)-but-2-en-1-ol\n",
       "4   1.1.1.1                   (2e)-but-2-enal"
      ]
     },
     "execution_count": 6,
     "metadata": {},
     "output_type": "execute_result"
    }
   ],
   "source": [
    "mol_data = mol_obj.data_frame()\n",
    "\n",
    "mol_data.head()"
   ]
  },
  {
   "cell_type": "markdown",
   "metadata": {},
   "source": [
    "# Usage of the \"cheminfo\" module for working with the molecules"
   ]
  },
  {
   "cell_type": "markdown",
   "metadata": {},
   "source": [
    "First create a molecule object that holds all the data. Conversion from names to SMILES occurs automatically on creation of the object.\n",
    "\n",
    "The cheminfo module is dependent on the following cheminformatics packages:\n",
    "\n",
    "cirpy\n",
    "\n",
    "pubchempy\n",
    "\n",
    "rdkit"
   ]
  },
  {
   "cell_type": "markdown",
   "metadata": {},
   "source": [
    "### First let's look at name to SMILE conversion"
   ]
  },
  {
   "cell_type": "markdown",
   "metadata": {},
   "source": [
    "The SMILES are fetched from saved data where possible, otherwise tries to get them from a server. The retest_none variable can be used to force the script to try to get SMILES for the molecule names that did not work in previous runs."
   ]
  },
  {
   "cell_type": "code",
   "execution_count": 7,
   "metadata": {},
   "outputs": [
    {
     "name": "stderr",
     "output_type": "stream",
     "text": [
      "/home/martin/anaconda3/envs/py37/lib/python3.7/site-packages/sklearn/externals/joblib/__init__.py:15: DeprecationWarning: sklearn.externals.joblib is deprecated in 0.21 and will be removed in 0.23. Please import this functionality directly from joblib, which can be installed with: pip install joblib. If this warning is raised when loading pickled models, you may need to re-serialize those models with scikit-learn 0.21+.\n",
      "  warnings.warn(msg, category=DeprecationWarning)\n"
     ]
    },
    {
     "data": {
      "text/plain": [
       "cheminformatics.cheminfo.NameToSmile"
      ]
     },
     "execution_count": 7,
     "metadata": {},
     "output_type": "execute_result"
    }
   ],
   "source": [
    "from cheminformatics import cheminfo\n",
    "\n",
    "mols = ['(S)-Lactate', 'Glycolate', 'Tryptophane', 'ATP', 'ADP', 'AMP']\n",
    "\n",
    "chem_obj = cheminfo.NameToSmile(names=mols, retest_none=False)\n",
    "\n",
    "type(chem_obj)"
   ]
  },
  {
   "cell_type": "markdown",
   "metadata": {},
   "source": [
    "Get a list of molecule names"
   ]
  },
  {
   "cell_type": "code",
   "execution_count": 8,
   "metadata": {},
   "outputs": [
    {
     "data": {
      "text/plain": [
       "['lactate', 'glycolate', 'tryptophane', 'atp', 'adp', 'amp']"
      ]
     },
     "execution_count": 8,
     "metadata": {},
     "output_type": "execute_result"
    }
   ],
   "source": [
    "molecules = chem_obj.names()\n",
    "\n",
    "molecules[:10]"
   ]
  },
  {
   "cell_type": "markdown",
   "metadata": {},
   "source": [
    "Get a list of all the smiles"
   ]
  },
  {
   "cell_type": "code",
   "execution_count": 9,
   "metadata": {},
   "outputs": [
    {
     "data": {
      "text/plain": [
       "['CC(C(=O)O)O',\n",
       " 'C(C(=O)O)O',\n",
       " 'C1=CC=C2C(=C1)C(=CN2)CC(C(=O)O)N',\n",
       " 'C1=NC2=C(C(=N1)N)N=CN2C3C(C(C(O3)COP(=O)(O)OP(=O)(O)OP(=O)(O)O)O)O',\n",
       " 'C1=NC2=C(C(=N1)N)N=CN2C3C(C(C(O3)COP(=O)(O)OP(=O)(O)O)O)O',\n",
       " 'C1=NC2=C(C(=N1)N)N=CN2C3C(C(C(O3)COP(=O)(O)O)O)O']"
      ]
     },
     "execution_count": 9,
     "metadata": {},
     "output_type": "execute_result"
    }
   ],
   "source": [
    "smiles = chem_obj.smiles()\n",
    "\n",
    "smiles[:10]"
   ]
  },
  {
   "cell_type": "markdown",
   "metadata": {},
   "source": [
    "Get a dictionary of all data with metabolite names as keys and smiles as values"
   ]
  },
  {
   "cell_type": "code",
   "execution_count": 10,
   "metadata": {},
   "outputs": [
    {
     "name": "stdout",
     "output_type": "stream",
     "text": [
      "['lactate', 'glycolate', 'tryptophane', 'atp', 'adp', 'amp']\n",
      "\n",
      "\n",
      "CC(C(=O)O)O\n"
     ]
    }
   ],
   "source": [
    "smile_data = chem_obj.data_dict()\n",
    "\n",
    "print(list(smile_data.keys())[:10])\n",
    "\n",
    "print('\\n')\n",
    "\n",
    "print(smile_data['lactate'])"
   ]
  },
  {
   "cell_type": "markdown",
   "metadata": {},
   "source": [
    "Get a data frame with the molecule names and smiles data"
   ]
  },
  {
   "cell_type": "code",
   "execution_count": 11,
   "metadata": {},
   "outputs": [
    {
     "data": {
      "text/html": [
       "<div>\n",
       "<style scoped>\n",
       "    .dataframe tbody tr th:only-of-type {\n",
       "        vertical-align: middle;\n",
       "    }\n",
       "\n",
       "    .dataframe tbody tr th {\n",
       "        vertical-align: top;\n",
       "    }\n",
       "\n",
       "    .dataframe thead th {\n",
       "        text-align: right;\n",
       "    }\n",
       "</style>\n",
       "<table border=\"1\" class=\"dataframe\">\n",
       "  <thead>\n",
       "    <tr style=\"text-align: right;\">\n",
       "      <th></th>\n",
       "      <th>molecule</th>\n",
       "      <th>smile</th>\n",
       "    </tr>\n",
       "  </thead>\n",
       "  <tbody>\n",
       "    <tr>\n",
       "      <th>0</th>\n",
       "      <td>lactate</td>\n",
       "      <td>CC(C(=O)O)O</td>\n",
       "    </tr>\n",
       "    <tr>\n",
       "      <th>1</th>\n",
       "      <td>glycolate</td>\n",
       "      <td>C(C(=O)O)O</td>\n",
       "    </tr>\n",
       "    <tr>\n",
       "      <th>2</th>\n",
       "      <td>tryptophane</td>\n",
       "      <td>C1=CC=C2C(=C1)C(=CN2)CC(C(=O)O)N</td>\n",
       "    </tr>\n",
       "    <tr>\n",
       "      <th>3</th>\n",
       "      <td>atp</td>\n",
       "      <td>C1=NC2=C(C(=N1)N)N=CN2C3C(C(C(O3)COP(=O)(O)OP(...</td>\n",
       "    </tr>\n",
       "    <tr>\n",
       "      <th>4</th>\n",
       "      <td>adp</td>\n",
       "      <td>C1=NC2=C(C(=N1)N)N=CN2C3C(C(C(O3)COP(=O)(O)OP(...</td>\n",
       "    </tr>\n",
       "  </tbody>\n",
       "</table>\n",
       "</div>"
      ],
      "text/plain": [
       "      molecule                                              smile\n",
       "0      lactate                                        CC(C(=O)O)O\n",
       "1    glycolate                                         C(C(=O)O)O\n",
       "2  tryptophane                   C1=CC=C2C(=C1)C(=CN2)CC(C(=O)O)N\n",
       "3          atp  C1=NC2=C(C(=N1)N)N=CN2C3C(C(C(O3)COP(=O)(O)OP(...\n",
       "4          adp  C1=NC2=C(C(=N1)N)N=CN2C3C(C(C(O3)COP(=O)(O)OP(..."
      ]
     },
     "execution_count": 11,
     "metadata": {},
     "output_type": "execute_result"
    }
   ],
   "source": [
    "smile_data = chem_obj.data_frame()\n",
    "\n",
    "smile_data.head()"
   ]
  },
  {
   "cell_type": "markdown",
   "metadata": {},
   "source": [
    "**Note**\n",
    "\n",
    "Each of the four methods names(), smiles(), data_dict(), and data_frame() take the optional argument \"exclude_none\". By default this is set to True and all molecule names for which no SMILE could be obtained are excluded. If set to False, these will be included in the output."
   ]
  },
  {
   "cell_type": "markdown",
   "metadata": {},
   "source": [
    "### Now let's look at getting interesting data out of the SMILES"
   ]
  },
  {
   "cell_type": "markdown",
   "metadata": {},
   "source": [
    "First create a data object using molecule names and smiles as input."
   ]
  },
  {
   "cell_type": "code",
   "execution_count": 12,
   "metadata": {},
   "outputs": [
    {
     "data": {
      "text/plain": [
       "cheminformatics.cheminfo.SmileToData"
      ]
     },
     "execution_count": 12,
     "metadata": {},
     "output_type": "execute_result"
    }
   ],
   "source": [
    "data_obj = cheminfo.SmileToData(names=chem_obj.names(),\n",
    "                                smiles=chem_obj.smiles(), \n",
    "                                descriptor='morgan5', \n",
    "                                metric='tanimoto')\n",
    "\n",
    "type(data_obj)"
   ]
  },
  {
   "cell_type": "markdown",
   "metadata": {},
   "source": [
    "Several different alortithms for calculating descriptors are available. A list of the available ones can easily be obtained."
   ]
  },
  {
   "cell_type": "code",
   "execution_count": 13,
   "metadata": {},
   "outputs": [
    {
     "data": {
      "text/plain": [
       "['maccs',\n",
       " 'atompair',\n",
       " 'atompairtorsion',\n",
       " 'pattern',\n",
       " 'layered',\n",
       " 'morgan2',\n",
       " 'morgan3',\n",
       " 'morgan4',\n",
       " 'morgan5',\n",
       " 'rdkit']"
      ]
     },
     "execution_count": 13,
     "metadata": {},
     "output_type": "execute_result"
    }
   ],
   "source": [
    "data_obj.valid_descriptors()"
   ]
  },
  {
   "cell_type": "markdown",
   "metadata": {},
   "source": [
    "Additionally several different metrics for comparing the molecules are available. A list of the available ones can easily be obtained."
   ]
  },
  {
   "cell_type": "code",
   "execution_count": 14,
   "metadata": {},
   "outputs": [
    {
     "data": {
      "text/plain": [
       "['asymmetric',\n",
       " 'braunblanquet',\n",
       " 'cosine',\n",
       " 'dice',\n",
       " 'kulczynski',\n",
       " 'mcconnaughey',\n",
       " 'rogotgoldberg',\n",
       " 'russel',\n",
       " 'sokal',\n",
       " 'tanimoto']"
      ]
     },
     "execution_count": 14,
     "metadata": {},
     "output_type": "execute_result"
    }
   ],
   "source": [
    "data_obj.valid_metrics()"
   ]
  },
  {
   "cell_type": "markdown",
   "metadata": {},
   "source": [
    "#### Obtaining basic properties for the molecules"
   ]
  },
  {
   "cell_type": "markdown",
   "metadata": {},
   "source": [
    "Get a list of the molecule names "
   ]
  },
  {
   "cell_type": "code",
   "execution_count": 15,
   "metadata": {},
   "outputs": [
    {
     "data": {
      "text/plain": [
       "['lactate', 'glycolate', 'tryptophane', 'atp', 'adp', 'amp']"
      ]
     },
     "execution_count": 15,
     "metadata": {},
     "output_type": "execute_result"
    }
   ],
   "source": [
    "names = data_obj.names()\n",
    "\n",
    "names[:10]"
   ]
  },
  {
   "cell_type": "markdown",
   "metadata": {},
   "source": [
    "Get a list of the molecule smiles"
   ]
  },
  {
   "cell_type": "code",
   "execution_count": 16,
   "metadata": {},
   "outputs": [
    {
     "data": {
      "text/plain": [
       "['CC(C(=O)O)O',\n",
       " 'C(C(=O)O)O',\n",
       " 'C1=CC=C2C(=C1)C(=CN2)CC(C(=O)O)N',\n",
       " 'C1=NC2=C(C(=N1)N)N=CN2C3C(C(C(O3)COP(=O)(O)OP(=O)(O)OP(=O)(O)O)O)O',\n",
       " 'C1=NC2=C(C(=N1)N)N=CN2C3C(C(C(O3)COP(=O)(O)OP(=O)(O)O)O)O',\n",
       " 'C1=NC2=C(C(=N1)N)N=CN2C3C(C(C(O3)COP(=O)(O)O)O)O']"
      ]
     },
     "execution_count": 16,
     "metadata": {},
     "output_type": "execute_result"
    }
   ],
   "source": [
    "smiles = data_obj.smiles()\n",
    "\n",
    "smiles[:10]"
   ]
  },
  {
   "cell_type": "markdown",
   "metadata": {},
   "source": [
    "Get a list of the molecule objects obtained from the smiles"
   ]
  },
  {
   "cell_type": "code",
   "execution_count": 17,
   "metadata": {},
   "outputs": [
    {
     "name": "stdout",
     "output_type": "stream",
     "text": [
      "[<rdkit.Chem.rdchem.Mol object at 0x7f06aa5a9e40>, <rdkit.Chem.rdchem.Mol object at 0x7f06aa5a9f80>, <rdkit.Chem.rdchem.Mol object at 0x7f06aa5a9df0>, <rdkit.Chem.rdchem.Mol object at 0x7f06aa5a9f30>, <rdkit.Chem.rdchem.Mol object at 0x7f06aa5a9da0>, <rdkit.Chem.rdchem.Mol object at 0x7f06aa5a9d00>]\n"
     ]
    },
    {
     "data": {
      "image/png": "[encoded data removed]",
      "text/plain": [
       "<rdkit.Chem.rdchem.Mol at 0x7f06aa5a9e40>"
      ]
     },
     "metadata": {},
     "output_type": "display_data"
    },
    {
     "data": {
      "image/png": "[encoded data removed]",
      "text/plain": [
       "<rdkit.Chem.rdchem.Mol at 0x7f06aa5a9f80>"
      ]
     },
     "metadata": {},
     "output_type": "display_data"
    },
    {
     "data": {
      "image/png": "[encoded data removed]",
      "text/plain": [
       "<rdkit.Chem.rdchem.Mol at 0x7f06aa5a9df0>"
      ]
     },
     "metadata": {},
     "output_type": "display_data"
    },
    {
     "data": {
      "image/png": "[encoded data removed]",
      "text/plain": [
       "<rdkit.Chem.rdchem.Mol at 0x7f06aa5a9f30>"
      ]
     },
     "metadata": {},
     "output_type": "display_data"
    },
    {
     "data": {
      "image/png": "[encoded data removed]",
      "text/plain": [
       "<rdkit.Chem.rdchem.Mol at 0x7f06aa5a9da0>"
      ]
     },
     "metadata": {},
     "output_type": "display_data"
    },
    {
     "data": {
      "image/png": "[encoded data removed]",
      "text/plain": [
       "<rdkit.Chem.rdchem.Mol at 0x7f06aa5a9d00>"
      ]
     },
     "metadata": {},
     "output_type": "display_data"
    }
   ],
   "source": [
    "mols = data_obj.molecules()\n",
    "\n",
    "print(mols[:10])\n",
    "\n",
    "for m in mols[:10]:\n",
    "    display(m)"
   ]
  },
  {
   "cell_type": "markdown",
   "metadata": {},
   "source": [
    "It is also possible to specify the a molecules name to obtain only that molecule object"
   ]
  },
  {
   "cell_type": "code",
   "execution_count": 18,
   "metadata": {},
   "outputs": [
    {
     "data": {
      "image/png": "[encoded data removed]",
      "text/plain": [
       "<rdkit.Chem.rdchem.Mol at 0x7f06aa5a9e40>"
      ]
     },
     "execution_count": 18,
     "metadata": {},
     "output_type": "execute_result"
    }
   ],
   "source": [
    "m = data_obj.molecules('lactate')\n",
    "m"
   ]
  },
  {
   "cell_type": "markdown",
   "metadata": {},
   "source": [
    "Get a list of fingerprint objects for each of the molecules"
   ]
  },
  {
   "cell_type": "code",
   "execution_count": 19,
   "metadata": {},
   "outputs": [
    {
     "data": {
      "text/plain": [
       "<rdkit.DataStructs.cDataStructs.ExplicitBitVect at 0x7f06aa5a9990>"
      ]
     },
     "execution_count": 19,
     "metadata": {},
     "output_type": "execute_result"
    }
   ],
   "source": [
    "fingerp = data_obj.fingerprints()\n",
    "\n",
    "fingerp[0]"
   ]
  },
  {
   "cell_type": "markdown",
   "metadata": {},
   "source": [
    "It is also possible to get the fingerprints as bitstrings"
   ]
  },
  {
   "cell_type": "code",
   "execution_count": 20,
   "metadata": {},
   "outputs": [
    {
     "data": {
      "text/plain": [
       "'00000000000000000000000000100000000000000000000000000110000000000000100000000000000000000000000000000000000000000000000000000000000000000000000000000000000000000000000000000100000000000000000000000000001000000000000001000000000000000000000000000000000000000000000000000000000000000000000000000000000000000000000000000000000000000000000000000000000000000000000000000000000000000000000000000000001000000000000010000000000000000100110000000000000000010000000000000000010001000000000000000000100000000000000000000000000000000001000100000000000000000000000000000000000000000000000000000000000000000000000000100000000000000100001000000001000000000000000000000000000000000000000001000000000000000000000000000010000000000000000000000000000000000000000000000000000010010000000000000100001000000000000000000000000000000000000000000000000000000000000000000000000000000000000001000000001000000000000000000000001000000000000010000000000100000000000000000100011000000000010000010001000000000000000000000000000000000001000000000000000000100100000001000100000000000000000000000100000000000000000000000000000000000000000000000000000000001000100000000000000000000000000000010000000001000000000000000110010001000100000000000000000000000000000000000100000010000000000000000000000000000000000000000000000000000100000100000000000000000000000000000000010000000000000000000000000000000000100000000000000000000010000000000000000100000000001011000000000000000000000000000000000000000000100000000000000000000000000000000000000000000000000000001000000000000000000000000000000000000000000000000000000001000000000000000000000000000000000000000000000000000000000000000000000000000000000000000000000000000000000000000000000000000000000000000000010000000000000000000000000000000000000000000000000010000000000000000000000000000000000000000000000010000000000000000000000000000000000000000000000000000000000000000000000000000000000000000000000000000000010000000000000000000000000000000000000000000100000010000000000001000000000000000000000000010000000000010000000000000000000000000000'"
      ]
     },
     "execution_count": 20,
     "metadata": {},
     "output_type": "execute_result"
    }
   ],
   "source": [
    "fingerp = data_obj.fingerprints_str()\n",
    "\n",
    "fingerp[0]"
   ]
  },
  {
   "cell_type": "markdown",
   "metadata": {},
   "source": [
    "Or as a bit list if one prefers... Only the first 40 bits are printed here."
   ]
  },
  {
   "cell_type": "code",
   "execution_count": 21,
   "metadata": {},
   "outputs": [
    {
     "data": {
      "text/plain": [
       "[0,\n",
       " 0,\n",
       " 0,\n",
       " 0,\n",
       " 0,\n",
       " 0,\n",
       " 0,\n",
       " 0,\n",
       " 0,\n",
       " 0,\n",
       " 0,\n",
       " 0,\n",
       " 0,\n",
       " 0,\n",
       " 0,\n",
       " 0,\n",
       " 0,\n",
       " 0,\n",
       " 0,\n",
       " 0,\n",
       " 0,\n",
       " 0,\n",
       " 0,\n",
       " 0,\n",
       " 0,\n",
       " 0,\n",
       " 1,\n",
       " 0,\n",
       " 0,\n",
       " 0,\n",
       " 0,\n",
       " 0,\n",
       " 0,\n",
       " 0,\n",
       " 0,\n",
       " 0,\n",
       " 0,\n",
       " 0,\n",
       " 0,\n",
       " 0]"
      ]
     },
     "execution_count": 21,
     "metadata": {},
     "output_type": "execute_result"
    }
   ],
   "source": [
    "fingerp = data_obj.fingerprints_list()\n",
    "\n",
    "fingerp[0][:40]"
   ]
  },
  {
   "cell_type": "markdown",
   "metadata": {},
   "source": [
    "Get a list of molecule properties for the molecules, in this case molecular weight."
   ]
  },
  {
   "cell_type": "code",
   "execution_count": 22,
   "metadata": {},
   "outputs": [
    {
     "data": {
      "text/plain": [
       "[90.031694052,\n",
       " 76.016043988,\n",
       " 204.089877624,\n",
       " 506.9957454619997,\n",
       " 427.0294149399998,\n",
       " 347.06308441799985]"
      ]
     },
     "execution_count": 22,
     "metadata": {},
     "output_type": "execute_result"
    }
   ],
   "source": [
    "props = data_obj.property(property_type='molwt')\n",
    "\n",
    "props[:10]"
   ]
  },
  {
   "cell_type": "markdown",
   "metadata": {},
   "source": [
    "You can easiliy obtain a list of which properties that are available"
   ]
  },
  {
   "cell_type": "code",
   "execution_count": 23,
   "metadata": {},
   "outputs": [
    {
     "data": {
      "text/plain": [
       "['molwt',\n",
       " 'num_alirings',\n",
       " 'num_arorings',\n",
       " 'num_hbond_acceptors',\n",
       " 'num_hbond_donors',\n",
       " 'num_hetatom',\n",
       " 'num_nhoh',\n",
       " 'num_no',\n",
       " 'num_rotbond',\n",
       " 'tpsa']"
      ]
     },
     "execution_count": 23,
     "metadata": {},
     "output_type": "execute_result"
    }
   ],
   "source": [
    "data_obj.valid_properties()"
   ]
  },
  {
   "cell_type": "markdown",
   "metadata": {},
   "source": [
    "These are a bit cryptic, so one can also get the explanation."
   ]
  },
  {
   "cell_type": "code",
   "execution_count": 24,
   "metadata": {},
   "outputs": [
    {
     "data": {
      "text/plain": [
       "['\"molwt\": molecular weight',\n",
       " '\"num_alirings\": number of aliphatic rings',\n",
       " '\"num_arorings\": number of aromatic rings',\n",
       " '\"num_hbond_acceptors\": number of hydrogen bond acceptors',\n",
       " '\"num_hbond_donors\": number of hydrogen bond donors',\n",
       " '\"num_hetatom\": number of hetero atoms',\n",
       " '\"num_nhoh\": number of NH and OH groups',\n",
       " '\"num_no\": number of N and O atoms',\n",
       " '\"num_rotbond\": number of rotatable bonds',\n",
       " '\"tpsa\": polar surface area']"
      ]
     },
     "execution_count": 24,
     "metadata": {},
     "output_type": "execute_result"
    }
   ],
   "source": [
    "data_obj.explain_properties()"
   ]
  },
  {
   "cell_type": "markdown",
   "metadata": {},
   "source": [
    "Get a dictionary containing a selection of chemical properties for each molecule"
   ]
  },
  {
   "cell_type": "code",
   "execution_count": 25,
   "metadata": {},
   "outputs": [
    {
     "name": "stdout",
     "output_type": "stream",
     "text": [
      "dict_keys(['lactate', 'glycolate', 'tryptophane', 'atp', 'adp', 'amp'])\n"
     ]
    },
    {
     "data": {
      "text/plain": [
       "{'smile': 'CC(C(=O)O)O',\n",
       " 'molwt': 90.031694052,\n",
       " 'num_alirings': 0,\n",
       " 'num_arorings': 0,\n",
       " 'num_hbond_acceptors': 2,\n",
       " 'num_hbond_donors': 2,\n",
       " 'num_hetatom': 3,\n",
       " 'num_nhoh': 2,\n",
       " 'num_no': 3,\n",
       " 'num_rotbond': 1,\n",
       " 'tpsa': 57.53}"
      ]
     },
     "execution_count": 25,
     "metadata": {},
     "output_type": "execute_result"
    }
   ],
   "source": [
    "prop_dict = data_obj.data_dict()\n",
    "\n",
    "print(prop_dict.keys())\n",
    "\n",
    "prop_dict['lactate']"
   ]
  },
  {
   "cell_type": "markdown",
   "metadata": {},
   "source": [
    "Get a data frame containing a selection of chemical properties for each molecule"
   ]
  },
  {
   "cell_type": "code",
   "execution_count": 26,
   "metadata": {},
   "outputs": [
    {
     "data": {
      "text/html": [
       "<div>\n",
       "<style scoped>\n",
       "    .dataframe tbody tr th:only-of-type {\n",
       "        vertical-align: middle;\n",
       "    }\n",
       "\n",
       "    .dataframe tbody tr th {\n",
       "        vertical-align: top;\n",
       "    }\n",
       "\n",
       "    .dataframe thead th {\n",
       "        text-align: right;\n",
       "    }\n",
       "</style>\n",
       "<table border=\"1\" class=\"dataframe\">\n",
       "  <thead>\n",
       "    <tr style=\"text-align: right;\">\n",
       "      <th></th>\n",
       "      <th>molecule</th>\n",
       "      <th>smile</th>\n",
       "      <th>molwt</th>\n",
       "      <th>num_alirings</th>\n",
       "      <th>num_arorings</th>\n",
       "      <th>num_hbond_acceptors</th>\n",
       "      <th>num_hbond_donors</th>\n",
       "      <th>num_hetatom</th>\n",
       "      <th>num_nhoh</th>\n",
       "      <th>num_no</th>\n",
       "      <th>num_rotbond</th>\n",
       "      <th>tpsa</th>\n",
       "    </tr>\n",
       "  </thead>\n",
       "  <tbody>\n",
       "    <tr>\n",
       "      <th>0</th>\n",
       "      <td>lactate</td>\n",
       "      <td>CC(C(=O)O)O</td>\n",
       "      <td>90.031694</td>\n",
       "      <td>0</td>\n",
       "      <td>0</td>\n",
       "      <td>2</td>\n",
       "      <td>2</td>\n",
       "      <td>3</td>\n",
       "      <td>2</td>\n",
       "      <td>3</td>\n",
       "      <td>1</td>\n",
       "      <td>57.53</td>\n",
       "    </tr>\n",
       "    <tr>\n",
       "      <th>1</th>\n",
       "      <td>glycolate</td>\n",
       "      <td>C(C(=O)O)O</td>\n",
       "      <td>76.016044</td>\n",
       "      <td>0</td>\n",
       "      <td>0</td>\n",
       "      <td>2</td>\n",
       "      <td>2</td>\n",
       "      <td>3</td>\n",
       "      <td>2</td>\n",
       "      <td>3</td>\n",
       "      <td>1</td>\n",
       "      <td>57.53</td>\n",
       "    </tr>\n",
       "    <tr>\n",
       "      <th>2</th>\n",
       "      <td>tryptophane</td>\n",
       "      <td>C1=CC=C2C(=C1)C(=CN2)CC(C(=O)O)N</td>\n",
       "      <td>204.089878</td>\n",
       "      <td>0</td>\n",
       "      <td>2</td>\n",
       "      <td>2</td>\n",
       "      <td>3</td>\n",
       "      <td>4</td>\n",
       "      <td>4</td>\n",
       "      <td>4</td>\n",
       "      <td>3</td>\n",
       "      <td>79.11</td>\n",
       "    </tr>\n",
       "    <tr>\n",
       "      <th>3</th>\n",
       "      <td>atp</td>\n",
       "      <td>C1=NC2=C(C(=N1)N)N=CN2C3C(C(C(O3)COP(=O)(O)OP(...</td>\n",
       "      <td>506.995745</td>\n",
       "      <td>1</td>\n",
       "      <td>2</td>\n",
       "      <td>14</td>\n",
       "      <td>7</td>\n",
       "      <td>21</td>\n",
       "      <td>8</td>\n",
       "      <td>18</td>\n",
       "      <td>8</td>\n",
       "      <td>279.13</td>\n",
       "    </tr>\n",
       "    <tr>\n",
       "      <th>4</th>\n",
       "      <td>adp</td>\n",
       "      <td>C1=NC2=C(C(=N1)N)N=CN2C3C(C(C(O3)COP(=O)(O)OP(...</td>\n",
       "      <td>427.029415</td>\n",
       "      <td>1</td>\n",
       "      <td>2</td>\n",
       "      <td>12</td>\n",
       "      <td>6</td>\n",
       "      <td>17</td>\n",
       "      <td>7</td>\n",
       "      <td>15</td>\n",
       "      <td>6</td>\n",
       "      <td>232.60</td>\n",
       "    </tr>\n",
       "  </tbody>\n",
       "</table>\n",
       "</div>"
      ],
      "text/plain": [
       "      molecule                                              smile       molwt  \\\n",
       "0      lactate                                        CC(C(=O)O)O   90.031694   \n",
       "1    glycolate                                         C(C(=O)O)O   76.016044   \n",
       "2  tryptophane                   C1=CC=C2C(=C1)C(=CN2)CC(C(=O)O)N  204.089878   \n",
       "3          atp  C1=NC2=C(C(=N1)N)N=CN2C3C(C(C(O3)COP(=O)(O)OP(...  506.995745   \n",
       "4          adp  C1=NC2=C(C(=N1)N)N=CN2C3C(C(C(O3)COP(=O)(O)OP(...  427.029415   \n",
       "\n",
       "   num_alirings  num_arorings  num_hbond_acceptors  num_hbond_donors  \\\n",
       "0             0             0                    2                 2   \n",
       "1             0             0                    2                 2   \n",
       "2             0             2                    2                 3   \n",
       "3             1             2                   14                 7   \n",
       "4             1             2                   12                 6   \n",
       "\n",
       "   num_hetatom  num_nhoh  num_no  num_rotbond    tpsa  \n",
       "0            3         2       3            1   57.53  \n",
       "1            3         2       3            1   57.53  \n",
       "2            4         4       4            3   79.11  \n",
       "3           21         8      18            8  279.13  \n",
       "4           17         7      15            6  232.60  "
      ]
     },
     "execution_count": 26,
     "metadata": {},
     "output_type": "execute_result"
    }
   ],
   "source": [
    "prop_data = data_obj.data_frame()\n",
    "\n",
    "prop_data.head()"
   ]
  },
  {
   "cell_type": "markdown",
   "metadata": {},
   "source": [
    "Get a matrix of all pairwise similarities between molecules"
   ]
  },
  {
   "cell_type": "code",
   "execution_count": 27,
   "metadata": {},
   "outputs": [
    {
     "data": {
      "text/html": [
       "<div>\n",
       "<style scoped>\n",
       "    .dataframe tbody tr th:only-of-type {\n",
       "        vertical-align: middle;\n",
       "    }\n",
       "\n",
       "    .dataframe tbody tr th {\n",
       "        vertical-align: top;\n",
       "    }\n",
       "\n",
       "    .dataframe thead th {\n",
       "        text-align: right;\n",
       "    }\n",
       "</style>\n",
       "<table border=\"1\" class=\"dataframe\">\n",
       "  <thead>\n",
       "    <tr style=\"text-align: right;\">\n",
       "      <th></th>\n",
       "      <th>lactate</th>\n",
       "      <th>glycolate</th>\n",
       "      <th>tryptophane</th>\n",
       "      <th>atp</th>\n",
       "      <th>adp</th>\n",
       "      <th>amp</th>\n",
       "    </tr>\n",
       "  </thead>\n",
       "  <tbody>\n",
       "    <tr>\n",
       "      <th>lactate</th>\n",
       "      <td>1.000000</td>\n",
       "      <td>0.636364</td>\n",
       "      <td>0.256506</td>\n",
       "      <td>0.114923</td>\n",
       "      <td>0.123845</td>\n",
       "      <td>0.134809</td>\n",
       "    </tr>\n",
       "    <tr>\n",
       "      <th>glycolate</th>\n",
       "      <td>0.636364</td>\n",
       "      <td>1.000000</td>\n",
       "      <td>0.178707</td>\n",
       "      <td>0.070568</td>\n",
       "      <td>0.076067</td>\n",
       "      <td>0.082828</td>\n",
       "    </tr>\n",
       "    <tr>\n",
       "      <th>tryptophane</th>\n",
       "      <td>0.256506</td>\n",
       "      <td>0.178707</td>\n",
       "      <td>1.000000</td>\n",
       "      <td>0.371711</td>\n",
       "      <td>0.396825</td>\n",
       "      <td>0.430210</td>\n",
       "    </tr>\n",
       "    <tr>\n",
       "      <th>atp</th>\n",
       "      <td>0.114923</td>\n",
       "      <td>0.070568</td>\n",
       "      <td>0.371711</td>\n",
       "      <td>1.000000</td>\n",
       "      <td>0.926702</td>\n",
       "      <td>0.849913</td>\n",
       "    </tr>\n",
       "    <tr>\n",
       "      <th>adp</th>\n",
       "      <td>0.123845</td>\n",
       "      <td>0.076067</td>\n",
       "      <td>0.396825</td>\n",
       "      <td>0.926702</td>\n",
       "      <td>1.000000</td>\n",
       "      <td>0.917137</td>\n",
       "    </tr>\n",
       "    <tr>\n",
       "      <th>amp</th>\n",
       "      <td>0.134809</td>\n",
       "      <td>0.082828</td>\n",
       "      <td>0.430210</td>\n",
       "      <td>0.849913</td>\n",
       "      <td>0.917137</td>\n",
       "      <td>1.000000</td>\n",
       "    </tr>\n",
       "  </tbody>\n",
       "</table>\n",
       "</div>"
      ],
      "text/plain": [
       "              lactate  glycolate  tryptophane       atp       adp       amp\n",
       "lactate      1.000000   0.636364     0.256506  0.114923  0.123845  0.134809\n",
       "glycolate    0.636364   1.000000     0.178707  0.070568  0.076067  0.082828\n",
       "tryptophane  0.256506   0.178707     1.000000  0.371711  0.396825  0.430210\n",
       "atp          0.114923   0.070568     0.371711  1.000000  0.926702  0.849913\n",
       "adp          0.123845   0.076067     0.396825  0.926702  1.000000  0.917137\n",
       "amp          0.134809   0.082828     0.430210  0.849913  0.917137  1.000000"
      ]
     },
     "execution_count": 27,
     "metadata": {},
     "output_type": "execute_result"
    }
   ],
   "source": [
    "data_obj.similarity()"
   ]
  },
  {
   "cell_type": "markdown",
   "metadata": {},
   "source": [
    "Get a matrix of all pairwise distances between molecules"
   ]
  },
  {
   "cell_type": "code",
   "execution_count": 28,
   "metadata": {},
   "outputs": [
    {
     "data": {
      "text/html": [
       "<div>\n",
       "<style scoped>\n",
       "    .dataframe tbody tr th:only-of-type {\n",
       "        vertical-align: middle;\n",
       "    }\n",
       "\n",
       "    .dataframe tbody tr th {\n",
       "        vertical-align: top;\n",
       "    }\n",
       "\n",
       "    .dataframe thead th {\n",
       "        text-align: right;\n",
       "    }\n",
       "</style>\n",
       "<table border=\"1\" class=\"dataframe\">\n",
       "  <thead>\n",
       "    <tr style=\"text-align: right;\">\n",
       "      <th></th>\n",
       "      <th>lactate</th>\n",
       "      <th>glycolate</th>\n",
       "      <th>tryptophane</th>\n",
       "      <th>atp</th>\n",
       "      <th>adp</th>\n",
       "      <th>amp</th>\n",
       "    </tr>\n",
       "  </thead>\n",
       "  <tbody>\n",
       "    <tr>\n",
       "      <th>lactate</th>\n",
       "      <td>0.000000</td>\n",
       "      <td>0.363636</td>\n",
       "      <td>0.743494</td>\n",
       "      <td>0.885077</td>\n",
       "      <td>0.876155</td>\n",
       "      <td>0.865191</td>\n",
       "    </tr>\n",
       "    <tr>\n",
       "      <th>glycolate</th>\n",
       "      <td>0.363636</td>\n",
       "      <td>0.000000</td>\n",
       "      <td>0.821293</td>\n",
       "      <td>0.929432</td>\n",
       "      <td>0.923933</td>\n",
       "      <td>0.917172</td>\n",
       "    </tr>\n",
       "    <tr>\n",
       "      <th>tryptophane</th>\n",
       "      <td>0.743494</td>\n",
       "      <td>0.821293</td>\n",
       "      <td>0.000000</td>\n",
       "      <td>0.628289</td>\n",
       "      <td>0.603175</td>\n",
       "      <td>0.569790</td>\n",
       "    </tr>\n",
       "    <tr>\n",
       "      <th>atp</th>\n",
       "      <td>0.885077</td>\n",
       "      <td>0.929432</td>\n",
       "      <td>0.628289</td>\n",
       "      <td>0.000000</td>\n",
       "      <td>0.073298</td>\n",
       "      <td>0.150087</td>\n",
       "    </tr>\n",
       "    <tr>\n",
       "      <th>adp</th>\n",
       "      <td>0.876155</td>\n",
       "      <td>0.923933</td>\n",
       "      <td>0.603175</td>\n",
       "      <td>0.073298</td>\n",
       "      <td>0.000000</td>\n",
       "      <td>0.082863</td>\n",
       "    </tr>\n",
       "    <tr>\n",
       "      <th>amp</th>\n",
       "      <td>0.865191</td>\n",
       "      <td>0.917172</td>\n",
       "      <td>0.569790</td>\n",
       "      <td>0.150087</td>\n",
       "      <td>0.082863</td>\n",
       "      <td>0.000000</td>\n",
       "    </tr>\n",
       "  </tbody>\n",
       "</table>\n",
       "</div>"
      ],
      "text/plain": [
       "              lactate  glycolate  tryptophane       atp       adp       amp\n",
       "lactate      0.000000   0.363636     0.743494  0.885077  0.876155  0.865191\n",
       "glycolate    0.363636   0.000000     0.821293  0.929432  0.923933  0.917172\n",
       "tryptophane  0.743494   0.821293     0.000000  0.628289  0.603175  0.569790\n",
       "atp          0.885077   0.929432     0.628289  0.000000  0.073298  0.150087\n",
       "adp          0.876155   0.923933     0.603175  0.073298  0.000000  0.082863\n",
       "amp          0.865191   0.917172     0.569790  0.150087  0.082863  0.000000"
      ]
     },
     "execution_count": 28,
     "metadata": {},
     "output_type": "execute_result"
    }
   ],
   "source": [
    "data_obj.distance()"
   ]
  },
  {
   "cell_type": "markdown",
   "metadata": {},
   "source": [
    "Get similarity statistics (minimum similarity, maximum similarity, etc.) for each molecule in the whole set. The diagonal (self-similarity) is ignored in these calculations. Molecules with a low max and a low sum might be considered outliers."
   ]
  },
  {
   "cell_type": "code",
   "execution_count": 29,
   "metadata": {},
   "outputs": [
    {
     "data": {
      "text/html": [
       "<div>\n",
       "<style scoped>\n",
       "    .dataframe tbody tr th:only-of-type {\n",
       "        vertical-align: middle;\n",
       "    }\n",
       "\n",
       "    .dataframe tbody tr th {\n",
       "        vertical-align: top;\n",
       "    }\n",
       "\n",
       "    .dataframe thead th {\n",
       "        text-align: right;\n",
       "    }\n",
       "</style>\n",
       "<table border=\"1\" class=\"dataframe\">\n",
       "  <thead>\n",
       "    <tr style=\"text-align: right;\">\n",
       "      <th></th>\n",
       "      <th>min</th>\n",
       "      <th>max</th>\n",
       "      <th>sum</th>\n",
       "      <th>median</th>\n",
       "      <th>mean</th>\n",
       "      <th>stdev</th>\n",
       "    </tr>\n",
       "  </thead>\n",
       "  <tbody>\n",
       "    <tr>\n",
       "      <th>lactate</th>\n",
       "      <td>0.114923</td>\n",
       "      <td>0.636364</td>\n",
       "      <td>1.266446</td>\n",
       "      <td>0.134809</td>\n",
       "      <td>0.253289</td>\n",
       "      <td>0.221752</td>\n",
       "    </tr>\n",
       "    <tr>\n",
       "      <th>glycolate</th>\n",
       "      <td>0.070568</td>\n",
       "      <td>0.636364</td>\n",
       "      <td>1.044534</td>\n",
       "      <td>0.082828</td>\n",
       "      <td>0.208907</td>\n",
       "      <td>0.243059</td>\n",
       "    </tr>\n",
       "    <tr>\n",
       "      <th>tryptophane</th>\n",
       "      <td>0.178707</td>\n",
       "      <td>0.430210</td>\n",
       "      <td>1.633959</td>\n",
       "      <td>0.371711</td>\n",
       "      <td>0.326792</td>\n",
       "      <td>0.105460</td>\n",
       "    </tr>\n",
       "    <tr>\n",
       "      <th>atp</th>\n",
       "      <td>0.070568</td>\n",
       "      <td>0.926702</td>\n",
       "      <td>2.333816</td>\n",
       "      <td>0.371711</td>\n",
       "      <td>0.466763</td>\n",
       "      <td>0.402537</td>\n",
       "    </tr>\n",
       "    <tr>\n",
       "      <th>adp</th>\n",
       "      <td>0.076067</td>\n",
       "      <td>0.926702</td>\n",
       "      <td>2.440576</td>\n",
       "      <td>0.396825</td>\n",
       "      <td>0.488115</td>\n",
       "      <td>0.414496</td>\n",
       "    </tr>\n",
       "    <tr>\n",
       "      <th>amp</th>\n",
       "      <td>0.082828</td>\n",
       "      <td>0.917137</td>\n",
       "      <td>2.414898</td>\n",
       "      <td>0.430210</td>\n",
       "      <td>0.482980</td>\n",
       "      <td>0.389635</td>\n",
       "    </tr>\n",
       "  </tbody>\n",
       "</table>\n",
       "</div>"
      ],
      "text/plain": [
       "                  min       max       sum    median      mean     stdev\n",
       "lactate      0.114923  0.636364  1.266446  0.134809  0.253289  0.221752\n",
       "glycolate    0.070568  0.636364  1.044534  0.082828  0.208907  0.243059\n",
       "tryptophane  0.178707  0.430210  1.633959  0.371711  0.326792  0.105460\n",
       "atp          0.070568  0.926702  2.333816  0.371711  0.466763  0.402537\n",
       "adp          0.076067  0.926702  2.440576  0.396825  0.488115  0.414496\n",
       "amp          0.082828  0.917137  2.414898  0.430210  0.482980  0.389635"
      ]
     },
     "execution_count": 29,
     "metadata": {},
     "output_type": "execute_result"
    }
   ],
   "source": [
    "sim_data = data_obj.molecule_similarity_stats()\n",
    "\n",
    "sim_data\n"
   ]
  },
  {
   "cell_type": "markdown",
   "metadata": {},
   "source": [
    "Get similarity statistics for the entire set of molecules."
   ]
  },
  {
   "cell_type": "code",
   "execution_count": 30,
   "metadata": {},
   "outputs": [
    {
     "data": {
      "text/plain": [
       "{'min': 0.07056798623063683,\n",
       " 'max': 0.9267015706806283,\n",
       " 'sum': 5.567113929744614,\n",
       " 'median': 0.25650557620817843,\n",
       " 'mean': 0.37114092864964093,\n",
       " 'stdev': 0.3166611074774275}"
      ]
     },
     "execution_count": 30,
     "metadata": {},
     "output_type": "execute_result"
    }
   ],
   "source": [
    "sim_data = data_obj.global_similarity_stats()\n",
    "\n",
    "sim_data"
   ]
  },
  {
   "cell_type": "markdown",
   "metadata": {},
   "source": [
    "Get a subset of diverse molecules, chosen from the total set of molecules. It is possible to specify already selected molecules in the \"firstpicks\" argument."
   ]
  },
  {
   "cell_type": "code",
   "execution_count": 31,
   "metadata": {},
   "outputs": [
    {
     "data": {
      "text/plain": [
       "['glycolate', 'atp', 'tryptophane']"
      ]
     },
     "execution_count": 31,
     "metadata": {},
     "output_type": "execute_result"
    }
   ],
   "source": [
    "data_obj.diversity_pick(n=3, firstpicks=['glycolate'])"
   ]
  },
  {
   "cell_type": "markdown",
   "metadata": {},
   "source": [
    "Draw all molecules. These are aligned based on their maximum common substrucuture, which, in the case shown here, is not highlighted."
   ]
  },
  {
   "cell_type": "code",
   "execution_count": 32,
   "metadata": {},
   "outputs": [
    {
     "data": {
      "image/png": "[encoded data removed]",
      "text/plain": [
       "<PIL.PngImagePlugin.PngImageFile image mode=RGB size=600x900 at 0x7F06AA599DD8>"
      ]
     },
     "execution_count": 32,
     "metadata": {},
     "output_type": "execute_result"
    }
   ],
   "source": [
    "data_obj.draw_structures()"
   ]
  },
  {
   "cell_type": "markdown",
   "metadata": {},
   "source": [
    "Optionally one can also highlight the maximum common substrucuture setting the \"highlight_substructure\" to True"
   ]
  },
  {
   "cell_type": "code",
   "execution_count": 33,
   "metadata": {},
   "outputs": [
    {
     "data": {
      "image/png": "[encoded data removed]",
      "text/plain": [
       "<PIL.PngImagePlugin.PngImageFile image mode=RGB size=600x900 at 0x7F06A9EA6748>"
      ]
     },
     "execution_count": 33,
     "metadata": {},
     "output_type": "execute_result"
    }
   ],
   "source": [
    "data_obj.draw_structures(highlight_substructure=True)"
   ]
  },
  {
   "cell_type": "markdown",
   "metadata": {},
   "source": [
    "One can specifically compare the structure of two molecules."
   ]
  },
  {
   "cell_type": "code",
   "execution_count": 34,
   "metadata": {
    "scrolled": false
   },
   "outputs": [
    {
     "ename": "OverflowError",
     "evalue": "can't convert negative value to unsigned int",
     "output_type": "error",
     "traceback": [
      "\u001b[0;31m---------------------------------------------------------------------------\u001b[0m",
      "\u001b[0;31mOverflowError\u001b[0m                             Traceback (most recent call last)",
      "\u001b[0;32m<ipython-input-34-204b0938c162>\u001b[0m in \u001b[0;36m<module>\u001b[0;34m\u001b[0m\n\u001b[0;32m----> 1\u001b[0;31m \u001b[0mdata_obj\u001b[0m\u001b[0;34m.\u001b[0m\u001b[0mdraw_mol_comparison\u001b[0m\u001b[0;34m(\u001b[0m\u001b[0mrefmol\u001b[0m\u001b[0;34m=\u001b[0m\u001b[0;34m'lactate'\u001b[0m\u001b[0;34m,\u001b[0m \u001b[0mmol\u001b[0m\u001b[0;34m=\u001b[0m\u001b[0;34m'glycolate'\u001b[0m\u001b[0;34m)\u001b[0m\u001b[0;34m\u001b[0m\u001b[0;34m\u001b[0m\u001b[0m\n\u001b[0m",
      "\u001b[0;32m/data/Work/projects/cheminformatics/cheminformatics/cheminfo.py\u001b[0m in \u001b[0;36mdraw_mol_comparison\u001b[0;34m(self, refmol, mol)\u001b[0m\n\u001b[1;32m    633\u001b[0m                                                 \u001b[0mprobeMol\u001b[0m\u001b[0;34m=\u001b[0m\u001b[0mself\u001b[0m\u001b[0;34m.\u001b[0m\u001b[0mmolecules\u001b[0m\u001b[0;34m(\u001b[0m\u001b[0mmol\u001b[0m\u001b[0;34m)\u001b[0m\u001b[0;34m,\u001b[0m\u001b[0;34m\u001b[0m\u001b[0;34m\u001b[0m\u001b[0m\n\u001b[1;32m    634\u001b[0m                                                 \u001b[0mfpFunction\u001b[0m\u001b[0;34m=\u001b[0m\u001b[0mself\u001b[0m\u001b[0;34m.\u001b[0m\u001b[0mdescriptor_functions\u001b[0m\u001b[0;34m[\u001b[0m\u001b[0mself\u001b[0m\u001b[0;34m.\u001b[0m\u001b[0mdescriptor\u001b[0m\u001b[0;34m]\u001b[0m\u001b[0;34m,\u001b[0m\u001b[0;34m\u001b[0m\u001b[0;34m\u001b[0m\u001b[0m\n\u001b[0;32m--> 635\u001b[0;31m \t\t\t\t\t\tmetric=self.metrics[self.metric])\n\u001b[0m\u001b[1;32m    636\u001b[0m                 \u001b[0;32mreturn\u001b[0m \u001b[0mfig\u001b[0m\u001b[0;34m,\u001b[0m \u001b[0mmaxweight\u001b[0m\u001b[0;34m\u001b[0m\u001b[0;34m\u001b[0m\u001b[0m\n\u001b[1;32m    637\u001b[0m \u001b[0;34m\u001b[0m\u001b[0m\n",
      "\u001b[0;32m~/anaconda3/envs/py37/lib/python3.7/site-packages/rdkit/Chem/Draw/SimilarityMaps.py\u001b[0m in \u001b[0;36mGetSimilarityMapForFingerprint\u001b[0;34m(refMol, probeMol, fpFunction, metric, **kwargs)\u001b[0m\n\u001b[1;32m    193\u001b[0m     \u001b[0mkwargs\u001b[0m \u001b[0;34m-\u001b[0m\u001b[0;34m-\u001b[0m \u001b[0madditional\u001b[0m \u001b[0marguments\u001b[0m \u001b[0;32mfor\u001b[0m \u001b[0mdrawing\u001b[0m\u001b[0;34m\u001b[0m\u001b[0;34m\u001b[0m\u001b[0m\n\u001b[1;32m    194\u001b[0m   \"\"\"\n\u001b[0;32m--> 195\u001b[0;31m   \u001b[0mweights\u001b[0m \u001b[0;34m=\u001b[0m \u001b[0mGetAtomicWeightsForFingerprint\u001b[0m\u001b[0;34m(\u001b[0m\u001b[0mrefMol\u001b[0m\u001b[0;34m,\u001b[0m \u001b[0mprobeMol\u001b[0m\u001b[0;34m,\u001b[0m \u001b[0mfpFunction\u001b[0m\u001b[0;34m,\u001b[0m \u001b[0mmetric\u001b[0m\u001b[0;34m)\u001b[0m\u001b[0;34m\u001b[0m\u001b[0;34m\u001b[0m\u001b[0m\n\u001b[0m\u001b[1;32m    196\u001b[0m   \u001b[0mweights\u001b[0m\u001b[0;34m,\u001b[0m \u001b[0mmaxWeight\u001b[0m \u001b[0;34m=\u001b[0m \u001b[0mGetStandardizedWeights\u001b[0m\u001b[0;34m(\u001b[0m\u001b[0mweights\u001b[0m\u001b[0;34m)\u001b[0m\u001b[0;34m\u001b[0m\u001b[0;34m\u001b[0m\u001b[0m\n\u001b[1;32m    197\u001b[0m   \u001b[0mfig\u001b[0m \u001b[0;34m=\u001b[0m \u001b[0mGetSimilarityMapFromWeights\u001b[0m\u001b[0;34m(\u001b[0m\u001b[0mprobeMol\u001b[0m\u001b[0;34m,\u001b[0m \u001b[0mweights\u001b[0m\u001b[0;34m,\u001b[0m \u001b[0;34m**\u001b[0m\u001b[0mkwargs\u001b[0m\u001b[0;34m)\u001b[0m\u001b[0;34m\u001b[0m\u001b[0;34m\u001b[0m\u001b[0m\n",
      "\u001b[0;32m~/anaconda3/envs/py37/lib/python3.7/site-packages/rdkit/Chem/Draw/SimilarityMaps.py\u001b[0m in \u001b[0;36mGetAtomicWeightsForFingerprint\u001b[0;34m(refMol, probeMol, fpFunction, metric)\u001b[0m\n\u001b[1;32m     63\u001b[0m   \u001b[0;32mif\u001b[0m \u001b[0mhasattr\u001b[0m\u001b[0;34m(\u001b[0m\u001b[0mrefMol\u001b[0m\u001b[0;34m,\u001b[0m \u001b[0;34m'_fpInfo'\u001b[0m\u001b[0;34m)\u001b[0m\u001b[0;34m:\u001b[0m\u001b[0;34m\u001b[0m\u001b[0;34m\u001b[0m\u001b[0m\n\u001b[1;32m     64\u001b[0m     \u001b[0mdelattr\u001b[0m\u001b[0;34m(\u001b[0m\u001b[0mrefMol\u001b[0m\u001b[0;34m,\u001b[0m \u001b[0;34m'_fpInfo'\u001b[0m\u001b[0;34m)\u001b[0m\u001b[0;34m\u001b[0m\u001b[0;34m\u001b[0m\u001b[0m\n\u001b[0;32m---> 65\u001b[0;31m   \u001b[0mrefFP\u001b[0m \u001b[0;34m=\u001b[0m \u001b[0mfpFunction\u001b[0m\u001b[0;34m(\u001b[0m\u001b[0mrefMol\u001b[0m\u001b[0;34m,\u001b[0m \u001b[0;34m-\u001b[0m\u001b[0;36m1\u001b[0m\u001b[0;34m)\u001b[0m\u001b[0;34m\u001b[0m\u001b[0;34m\u001b[0m\u001b[0m\n\u001b[0m\u001b[1;32m     66\u001b[0m   \u001b[0mprobeFP\u001b[0m \u001b[0;34m=\u001b[0m \u001b[0mfpFunction\u001b[0m\u001b[0;34m(\u001b[0m\u001b[0mprobeMol\u001b[0m\u001b[0;34m,\u001b[0m \u001b[0;34m-\u001b[0m\u001b[0;36m1\u001b[0m\u001b[0;34m)\u001b[0m\u001b[0;34m\u001b[0m\u001b[0;34m\u001b[0m\u001b[0m\n\u001b[1;32m     67\u001b[0m   \u001b[0mbaseSimilarity\u001b[0m \u001b[0;34m=\u001b[0m \u001b[0mmetric\u001b[0m\u001b[0;34m(\u001b[0m\u001b[0mrefFP\u001b[0m\u001b[0;34m,\u001b[0m \u001b[0mprobeFP\u001b[0m\u001b[0;34m)\u001b[0m\u001b[0;34m\u001b[0m\u001b[0;34m\u001b[0m\u001b[0m\n",
      "\u001b[0;31mOverflowError\u001b[0m: can't convert negative value to unsigned int"
     ]
    }
   ],
   "source": [
    "data_obj.draw_mol_comparison(refmol='lactate', mol='glycolate')"
   ]
  },
  {
   "cell_type": "markdown",
   "metadata": {},
   "source": [
    "Cluster the molecules and obtain a vector indicating cluster identity for each molecule. In this case Butina clustering is used on **pre-computed distances**."
   ]
  },
  {
   "cell_type": "code",
   "execution_count": null,
   "metadata": {},
   "outputs": [],
   "source": [
    "data_obj.cluster_butina(cutoff=0.7)"
   ]
  },
  {
   "cell_type": "markdown",
   "metadata": {},
   "source": [
    "Alternately cluster molecules using DBSCAN on **pre-computed distances**. Similarly to Butina clustering the function returns a list of cluster belongings."
   ]
  },
  {
   "cell_type": "code",
   "execution_count": null,
   "metadata": {},
   "outputs": [],
   "source": [
    "data_obj.cluster_dbscan(eps=0.3, min_samples=2)"
   ]
  },
  {
   "cell_type": "markdown",
   "metadata": {},
   "source": [
    "### Plotting\n"
   ]
  },
  {
   "cell_type": "markdown",
   "metadata": {},
   "source": [
    "Use PCA to visualize the relationship between all molecules __based on molecule fingerprints__. \n",
    "\n",
    "Optional arguments include:\n",
    "\n",
    "include_labels: True or False\n",
    "\n",
    "color_categories: None or a list of numbers the same length as the data indicating which point belong to what group.\n",
    "\n",
    "No color but with labels"
   ]
  },
  {
   "cell_type": "code",
   "execution_count": null,
   "metadata": {},
   "outputs": [],
   "source": [
    "data_obj.pca(include_labels=True)"
   ]
  },
  {
   "cell_type": "markdown",
   "metadata": {},
   "source": [
    "No labels, but with coloring"
   ]
  },
  {
   "cell_type": "code",
   "execution_count": null,
   "metadata": {},
   "outputs": [],
   "source": [
    "data_obj.pca(color_categories=[3, 2, 1, 0, 0, 0])"
   ]
  },
  {
   "cell_type": "markdown",
   "metadata": {},
   "source": [
    "Use MDS to visualize the relationship between all molecules __based on pre-computed distances__. The options are same as for PCA. First with labels."
   ]
  },
  {
   "cell_type": "code",
   "execution_count": null,
   "metadata": {},
   "outputs": [],
   "source": [
    "data_obj.mds(include_labels=True)"
   ]
  },
  {
   "cell_type": "markdown",
   "metadata": {},
   "source": [
    "Now with colors instead of labels."
   ]
  },
  {
   "cell_type": "code",
   "execution_count": null,
   "metadata": {},
   "outputs": [],
   "source": [
    "data_obj.mds(color_categories=[3, 2, 1, 0, 0, 0])"
   ]
  },
  {
   "cell_type": "markdown",
   "metadata": {},
   "source": [
    "Use t-SNE to visualize the relationship between all molecules __based on molecule fingerprints__. The options are same as for PCA. First with labels."
   ]
  },
  {
   "cell_type": "code",
   "execution_count": null,
   "metadata": {},
   "outputs": [],
   "source": [
    "data_obj.tsne(include_labels=True)"
   ]
  },
  {
   "cell_type": "markdown",
   "metadata": {},
   "source": [
    "Now with colors instead of labels."
   ]
  },
  {
   "cell_type": "code",
   "execution_count": null,
   "metadata": {},
   "outputs": [],
   "source": [
    "data_obj.tsne(color_categories=[3, 2, 1, 0, 0, 0])"
   ]
  },
  {
   "cell_type": "markdown",
   "metadata": {},
   "source": [
    "Use UMAP to visualize the relationship between all molecules __based on molecule fingerprints__. The options are same as for PCA. First with labels."
   ]
  },
  {
   "cell_type": "code",
   "execution_count": null,
   "metadata": {},
   "outputs": [],
   "source": [
    "data_obj.umap(color_categories=[3, 2, 1, 0, 0, 0])"
   ]
  },
  {
   "cell_type": "markdown",
   "metadata": {},
   "source": [
    "## Example usage"
   ]
  },
  {
   "cell_type": "markdown",
   "metadata": {},
   "source": [
    "So let's say I'm interested in looking at EC 1.1.3.15. I might do something along these lines:"
   ]
  },
  {
   "cell_type": "code",
   "execution_count": null,
   "metadata": {},
   "outputs": [],
   "source": [
    "# first get all the substrates\n",
    "mol_obj = brenda.BrendaMols(typeof='substrate') \n",
    "my_ec_data = mol_obj.data_dict()['1.1.3.15']\n",
    "\n",
    "my_ec_data"
   ]
  },
  {
   "cell_type": "code",
   "execution_count": null,
   "metadata": {},
   "outputs": [],
   "source": [
    "# need to get smiles for these substrates\n",
    "chem_obj = cheminfo.NameToSmile(names=my_ec_data)\n",
    "\n",
    "# as you can see any \"strange\" substrates that did not give smiles have been excluded\n",
    "chem_obj.data_dict()"
   ]
  },
  {
   "cell_type": "code",
   "execution_count": null,
   "metadata": {},
   "outputs": [],
   "source": [
    "# now I make the data object to do the fun stuff\n",
    "data_obj = cheminfo.SmileToData(names=chem_obj.names(),\n",
    "                                smiles=chem_obj.smiles(), \n",
    "                                descriptor='morgan3', \n",
    "                                metric='tanimoto')\n",
    "\n",
    "# cluster them\n",
    "clu = data_obj.cluster_butina()\n",
    "\n",
    "# use to cluster categories to color points in an MDS plot\n",
    "data_obj.mds(include_labels=True, color_categories=clu)"
   ]
  },
  {
   "cell_type": "code",
   "execution_count": null,
   "metadata": {},
   "outputs": [],
   "source": [
    "# that's a lot of different types of molecules in there, I wonder how similar they are on average\n",
    "data_obj.global_similarity_stats()"
   ]
  },
  {
   "cell_type": "code",
   "execution_count": null,
   "metadata": {},
   "outputs": [],
   "source": [
    "# I happen to know that EC 1.4.3.2 is also active on a range of substrates. \n",
    "# I wonder if that EC class takes substrates that are on average more or less similar\n",
    "\n",
    "my_ec_data = mol_obj.data_dict()['1.4.3.2']\n",
    "chem_obj = cheminfo.NameToSmile(names=my_ec_data)\n",
    "data_obj = cheminfo.SmileToData(names=chem_obj.names(),\n",
    "                                smiles=chem_obj.smiles(), \n",
    "                                descriptor='morgan3', \n",
    "                                metric='tanimoto')\n",
    "\n",
    "# cluster them\n",
    "clu = data_obj.cluster_butina()\n",
    "\n",
    "# use to cluster categories to color points in an MDS plot\n",
    "data_obj.mds(include_labels=True, color_categories=clu)"
   ]
  },
  {
   "cell_type": "code",
   "execution_count": null,
   "metadata": {},
   "outputs": [],
   "source": [
    "# seems like the mean similarity is a bit higher here, but on the whole I would say they are comparable\n",
    "data_obj.global_similarity_stats()"
   ]
  },
  {
   "cell_type": "code",
   "execution_count": null,
   "metadata": {},
   "outputs": [],
   "source": [
    "# what is orn? Don't know what that is really..\n",
    "\n",
    "data_obj.molecules('orn')\n",
    "\n",
    "# Aha, looks like ornithine! Who would have guessed..."
   ]
  }
 ],
 "metadata": {
  "kernelspec": {
   "display_name": "Python 3",
   "language": "python",
   "name": "python3"
  },
  "language_info": {
   "codemirror_mode": {
    "name": "ipython",
    "version": 3
   },
   "file_extension": ".py",
   "mimetype": "text/x-python",
   "name": "python",
   "nbconvert_exporter": "python",
   "pygments_lexer": "ipython3",
   "version": "3.7.1"
  }
 },
 "nbformat": 4,
 "nbformat_minor": 2
}
