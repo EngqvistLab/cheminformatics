{
 "cells": [
  {
   "cell_type": "markdown",
   "metadata": {},
   "source": [
    "# Usage of the \"brenda\" module for obtaining molecules from the BRENDA database"
   ]
  },
  {
   "cell_type": "markdown",
   "metadata": {},
   "source": [
    "First create a molecule object that holds all the data. Here we use only molecules that are listed in the **\"Natural substrates\"** table of BRENDA"
   ]
  },
  {
   "cell_type": "code",
   "execution_count": 50,
   "metadata": {},
   "outputs": [
    {
     "data": {
      "text/plain": [
       "cheminformatics.brenda.BrendaNaturalMols"
      ]
     },
     "execution_count": 50,
     "metadata": {},
     "output_type": "execute_result"
    }
   ],
   "source": [
    "from cheminformatics import brenda\n",
    "\n",
    "# other valid values for typeof are 'product', 'substrates', 'products'\n",
    "mol_obj = brenda.BrendaNaturalMols(typeof='substrate') \n",
    "\n",
    "type(mol_obj)"
   ]
  },
  {
   "cell_type": "markdown",
   "metadata": {},
   "source": [
    "You can equally well use molecules form the **\"Substrates\"** tabel in BRENDA"
   ]
  },
  {
   "cell_type": "code",
   "execution_count": 51,
   "metadata": {},
   "outputs": [
    {
     "data": {
      "text/plain": [
       "cheminformatics.brenda.BrendaMols"
      ]
     },
     "execution_count": 51,
     "metadata": {},
     "output_type": "execute_result"
    }
   ],
   "source": [
    "mol_obj = brenda.BrendaMols(typeof='substrate') \n",
    "\n",
    "type(mol_obj)"
   ]
  },
  {
   "cell_type": "markdown",
   "metadata": {},
   "source": [
    "Get a list of all unique molecules from all EC numbers"
   ]
  },
  {
   "cell_type": "code",
   "execution_count": 52,
   "metadata": {},
   "outputs": [
    {
     "data": {
      "text/plain": [
       "['(((4-((4-dimethylamino)phenyl)azo)phenyl)sulfonyl)amino-(gamma-aminobutyric acid)-pqvl-f(no2)-vmh-(5-(2-aminoethylamino)-1-naphthalenesulfonic acid)',\n",
       " '(((4-((4-dimethylamino)phenyl)azo)phenyl)sulfonyl)amino-(gamma-aminobutyric acid)-pqvl-pvmh-(5-(2-aminoethylamino)-1-naphthalenesulfonic acid)',\n",
       " '((1s,3s)-3-(7-amino-2h-2,3,5,6-tetraazabenzo[cd]azulen-2-yl)cyclobutyl)methyl tetrahydrogen triphosphate',\n",
       " '((7-methoxycoumarin-4-yl)acetyl)-ser-glu-val-asn-leu-asp-ala-glu-phe-lys(2,4-dinitrophenyl)',\n",
       " '((7-methoxycoumarin-4-yl)acetyl)-ser-glu-val-asn-leu-asp-ala-glu-phe-lys(2,4-dinitrophenyl)-arg-arg-nh2',\n",
       " '((7-methoxycoumarin-4-yl)acetyl-pro-leu-gly-leu-n-3-(2,4-dinitro-phenyl)-l-2,3-diaminopropionyl-ala-arg-nh2)',\n",
       " '(([(1e)-phenylmethylidene]amino)oxy)acetic acid',\n",
       " \"((e,e)-4,4'-dihydroxy-5,5'-dimethoxy-3,3'-bicinnamic acid l-arg-p-o-yl ester)\",\n",
       " '((gp-4-hydroxy-l-proline)5gpk(7-methoxycoumarin-4-yl)acetyl)gpqglrgqk(2,4-dinitrophenyl)gvr((gp-4-hydroxy-l-proline)5-nh2)3',\n",
       " '(+-)-11-hydroxy-delta9-tetrahydrocannabinol']"
      ]
     },
     "execution_count": 52,
     "metadata": {},
     "output_type": "execute_result"
    }
   ],
   "source": [
    "molecules = mol_obj.names()\n",
    "\n",
    "molecules[:10]"
   ]
  },
  {
   "cell_type": "markdown",
   "metadata": {},
   "source": [
    "Get a list of all EC numbers in the dataset"
   ]
  },
  {
   "cell_type": "code",
   "execution_count": 53,
   "metadata": {},
   "outputs": [
    {
     "data": {
      "text/plain": [
       "['1.1.1.1',\n",
       " '1.1.1.10',\n",
       " '1.1.1.100',\n",
       " '1.1.1.101',\n",
       " '1.1.1.102',\n",
       " '1.1.1.103',\n",
       " '1.1.1.104',\n",
       " '1.1.1.105',\n",
       " '1.1.1.106',\n",
       " '1.1.1.107']"
      ]
     },
     "execution_count": 53,
     "metadata": {},
     "output_type": "execute_result"
    }
   ],
   "source": [
    "ec_nums = mol_obj.ec()\n",
    "\n",
    "ec_nums[:10]"
   ]
  },
  {
   "cell_type": "markdown",
   "metadata": {},
   "source": [
    "Get a dictionary with EC number keys holding lists of molecule names"
   ]
  },
  {
   "cell_type": "code",
   "execution_count": 54,
   "metadata": {},
   "outputs": [
    {
     "name": "stdout",
     "output_type": "stream",
     "text": [
      "['1.1.1.1', '1.1.1.10', '1.1.1.100', '1.1.1.101', '1.1.1.102', '1.1.1.103', '1.1.1.104', '1.1.1.105', '1.1.1.106', '1.1.1.107']\n",
      "\n",
      "\n",
      "['1,5-anhydro-d-fructose', '1,5-anhydro-d-glucitol', '1,5-anhydro-s-sorbitol', '1,6-anhydro-d-glucose', '1-beta-aurothioglucose', \"2,2'-azinobis(3-ethylbenzthiazolinesulfonic acid)\", '2,6-dichloroindophenol', '2,6-dimethyl-1,4-benzoquinone', '2-chloro-1,4-benzoquinone', '2-deoxy-2-fluoro-d-glucose', '2-deoxy-d-galactose', '2-deoxy-d-glucose', '2-keto-d-glucose', '2-methoxy-1,4-benzoquinone', '3-deoxy-3-fluoro-beta-d-glucose', '3-deoxy-d-glucose', '3-o-methyl-d-glucose', '5-thioglucose', '6-deoxy-d-glucose', 'allose', 'alpha-d-glucose', 'alpha-d-melibiose', 'arabinose', 'beta-d-galactose', 'cellobiose', 'ferricenium hexafluorophosphate', 'fructose', 'fucono-1,5-lactone', 'fucose', 'galactose', 'gentibiose', 'glucono-1,5-lactone', 'gluconolactone', 'glucose', 'idose', 'lactose', 'maltoheptaose', 'maltopentaose', 'maltose', 'maltotriose', 'mannoheptose', 'mannose', 'melibiose', 'methyl alpha-d-glucoside', 'methyl beta-d-glucoside', 'methyl-beta-d-glucoside', 'ribose', 'sorbose', 'sorbose d-allose', 'sucrose', 'tetrafluoro-1,4-benzoquinone', 'trehalose', 'wheat flour', 'xylose']\n"
     ]
    }
   ],
   "source": [
    "mol_data = mol_obj.data_dict()\n",
    "\n",
    "print(list(mol_data.keys())[:10])\n",
    "\n",
    "print('\\n')\n",
    "\n",
    "print(mol_data['1.1.3.10'])\n"
   ]
  },
  {
   "cell_type": "markdown",
   "metadata": {},
   "source": [
    "Get a data frame holding the EC number and substrate name data"
   ]
  },
  {
   "cell_type": "code",
   "execution_count": 55,
   "metadata": {},
   "outputs": [
    {
     "data": {
      "text/html": [
       "<div>\n",
       "<style scoped>\n",
       "    .dataframe tbody tr th:only-of-type {\n",
       "        vertical-align: middle;\n",
       "    }\n",
       "\n",
       "    .dataframe tbody tr th {\n",
       "        vertical-align: top;\n",
       "    }\n",
       "\n",
       "    .dataframe thead th {\n",
       "        text-align: right;\n",
       "    }\n",
       "</style>\n",
       "<table border=\"1\" class=\"dataframe\">\n",
       "  <thead>\n",
       "    <tr style=\"text-align: right;\">\n",
       "      <th></th>\n",
       "      <th>ec_number</th>\n",
       "      <th>molecule</th>\n",
       "    </tr>\n",
       "  </thead>\n",
       "  <tbody>\n",
       "    <tr>\n",
       "      <th>0</th>\n",
       "      <td>1.1.1.1</td>\n",
       "      <td>(1s,3s)-3-methylcyclohexanol</td>\n",
       "    </tr>\n",
       "    <tr>\n",
       "      <th>1</th>\n",
       "      <td>1.1.1.1</td>\n",
       "      <td>(2e)-2-methylpent-2-enal</td>\n",
       "    </tr>\n",
       "    <tr>\n",
       "      <th>2</th>\n",
       "      <td>1.1.1.1</td>\n",
       "      <td>(2e)-3,7-dimethylocta-2,6-dienal</td>\n",
       "    </tr>\n",
       "    <tr>\n",
       "      <th>3</th>\n",
       "      <td>1.1.1.1</td>\n",
       "      <td>(2e)-but-2-en-1-ol</td>\n",
       "    </tr>\n",
       "    <tr>\n",
       "      <th>4</th>\n",
       "      <td>1.1.1.1</td>\n",
       "      <td>(2e)-but-2-enal</td>\n",
       "    </tr>\n",
       "  </tbody>\n",
       "</table>\n",
       "</div>"
      ],
      "text/plain": [
       "  ec_number                          molecule\n",
       "0   1.1.1.1      (1s,3s)-3-methylcyclohexanol\n",
       "1   1.1.1.1          (2e)-2-methylpent-2-enal\n",
       "2   1.1.1.1  (2e)-3,7-dimethylocta-2,6-dienal\n",
       "3   1.1.1.1                (2e)-but-2-en-1-ol\n",
       "4   1.1.1.1                   (2e)-but-2-enal"
      ]
     },
     "execution_count": 55,
     "metadata": {},
     "output_type": "execute_result"
    }
   ],
   "source": [
    "mol_data = mol_obj.data_frame()\n",
    "\n",
    "mol_data.head()"
   ]
  },
  {
   "cell_type": "markdown",
   "metadata": {},
   "source": [
    "# Usage of the \"cheminfo\" module for working with the molecules"
   ]
  },
  {
   "cell_type": "markdown",
   "metadata": {},
   "source": [
    "First create a molecule object that holds all the data. Conversion from names to SMILES occurs automatically on creation of the object.\n",
    "\n",
    "The cheminfo module is dependent on the following cheminformatics packages:\n",
    "\n",
    "cirpy\n",
    "\n",
    "pubchempy\n",
    "\n",
    "rdkit"
   ]
  },
  {
   "cell_type": "markdown",
   "metadata": {},
   "source": [
    "### First let's look at name to SMILE conversion"
   ]
  },
  {
   "cell_type": "markdown",
   "metadata": {},
   "source": [
    "The SMILES are fetched from saved data where possible, otherwise tries to get them from a server. The retest_none variable can be used to force the script to try to get SMILES for the molecule names that did not work in previous runs."
   ]
  },
  {
   "cell_type": "code",
   "execution_count": 56,
   "metadata": {},
   "outputs": [
    {
     "data": {
      "text/plain": [
       "cheminformatics.cheminfo.NameToSmile"
      ]
     },
     "execution_count": 56,
     "metadata": {},
     "output_type": "execute_result"
    }
   ],
   "source": [
    "from cheminformatics import cheminfo\n",
    "\n",
    "mols = ['(S)-Lactate', 'Glycolate', 'Tryptophane', 'ATP', 'ADP', 'AMP']\n",
    "\n",
    "chem_obj = cheminfo.NameToSmile(names=mols, retest_none=False)\n",
    "\n",
    "type(chem_obj)"
   ]
  },
  {
   "cell_type": "markdown",
   "metadata": {},
   "source": [
    "Get a list of molecule names"
   ]
  },
  {
   "cell_type": "code",
   "execution_count": 57,
   "metadata": {},
   "outputs": [
    {
     "data": {
      "text/plain": [
       "['lactate', 'glycolate', 'tryptophane', 'atp', 'adp', 'amp']"
      ]
     },
     "execution_count": 57,
     "metadata": {},
     "output_type": "execute_result"
    }
   ],
   "source": [
    "molecules = chem_obj.names()\n",
    "\n",
    "molecules[:10]"
   ]
  },
  {
   "cell_type": "markdown",
   "metadata": {},
   "source": [
    "Get a list of all the smiles"
   ]
  },
  {
   "cell_type": "code",
   "execution_count": 58,
   "metadata": {},
   "outputs": [
    {
     "data": {
      "text/plain": [
       "['CC(C(=O)O)O',\n",
       " 'C(C(=O)O)O',\n",
       " 'C1=CC=C2C(=C1)C(=CN2)CC(C(=O)O)N',\n",
       " 'C1=NC2=C(C(=N1)N)N=CN2C3C(C(C(O3)COP(=O)(O)OP(=O)(O)OP(=O)(O)O)O)O',\n",
       " 'C1=NC2=C(C(=N1)N)N=CN2C3C(C(C(O3)COP(=O)(O)OP(=O)(O)O)O)O',\n",
       " 'C1=NC2=C(C(=N1)N)N=CN2C3C(C(C(O3)COP(=O)(O)O)O)O']"
      ]
     },
     "execution_count": 58,
     "metadata": {},
     "output_type": "execute_result"
    }
   ],
   "source": [
    "smiles = chem_obj.smiles()\n",
    "\n",
    "smiles[:10]"
   ]
  },
  {
   "cell_type": "markdown",
   "metadata": {},
   "source": [
    "Get a dictionary of all data with metabolite names as keys and smiles as values"
   ]
  },
  {
   "cell_type": "code",
   "execution_count": 59,
   "metadata": {},
   "outputs": [
    {
     "name": "stdout",
     "output_type": "stream",
     "text": [
      "['lactate', 'glycolate', 'tryptophane', 'atp', 'adp', 'amp']\n",
      "\n",
      "\n",
      "CC(C(=O)O)O\n"
     ]
    }
   ],
   "source": [
    "smile_data = chem_obj.data_dict()\n",
    "\n",
    "print(list(smile_data.keys())[:10])\n",
    "\n",
    "print('\\n')\n",
    "\n",
    "print(smile_data['lactate'])"
   ]
  },
  {
   "cell_type": "markdown",
   "metadata": {},
   "source": [
    "Get a data frame with the molecule names and smiles data"
   ]
  },
  {
   "cell_type": "code",
   "execution_count": 60,
   "metadata": {},
   "outputs": [
    {
     "data": {
      "text/html": [
       "<div>\n",
       "<style scoped>\n",
       "    .dataframe tbody tr th:only-of-type {\n",
       "        vertical-align: middle;\n",
       "    }\n",
       "\n",
       "    .dataframe tbody tr th {\n",
       "        vertical-align: top;\n",
       "    }\n",
       "\n",
       "    .dataframe thead th {\n",
       "        text-align: right;\n",
       "    }\n",
       "</style>\n",
       "<table border=\"1\" class=\"dataframe\">\n",
       "  <thead>\n",
       "    <tr style=\"text-align: right;\">\n",
       "      <th></th>\n",
       "      <th>molecule</th>\n",
       "      <th>smile</th>\n",
       "    </tr>\n",
       "  </thead>\n",
       "  <tbody>\n",
       "    <tr>\n",
       "      <th>0</th>\n",
       "      <td>lactate</td>\n",
       "      <td>CC(C(=O)O)O</td>\n",
       "    </tr>\n",
       "    <tr>\n",
       "      <th>1</th>\n",
       "      <td>glycolate</td>\n",
       "      <td>C(C(=O)O)O</td>\n",
       "    </tr>\n",
       "    <tr>\n",
       "      <th>2</th>\n",
       "      <td>tryptophane</td>\n",
       "      <td>C1=CC=C2C(=C1)C(=CN2)CC(C(=O)O)N</td>\n",
       "    </tr>\n",
       "    <tr>\n",
       "      <th>3</th>\n",
       "      <td>atp</td>\n",
       "      <td>C1=NC2=C(C(=N1)N)N=CN2C3C(C(C(O3)COP(=O)(O)OP(...</td>\n",
       "    </tr>\n",
       "    <tr>\n",
       "      <th>4</th>\n",
       "      <td>adp</td>\n",
       "      <td>C1=NC2=C(C(=N1)N)N=CN2C3C(C(C(O3)COP(=O)(O)OP(...</td>\n",
       "    </tr>\n",
       "  </tbody>\n",
       "</table>\n",
       "</div>"
      ],
      "text/plain": [
       "      molecule                                              smile\n",
       "0      lactate                                        CC(C(=O)O)O\n",
       "1    glycolate                                         C(C(=O)O)O\n",
       "2  tryptophane                   C1=CC=C2C(=C1)C(=CN2)CC(C(=O)O)N\n",
       "3          atp  C1=NC2=C(C(=N1)N)N=CN2C3C(C(C(O3)COP(=O)(O)OP(...\n",
       "4          adp  C1=NC2=C(C(=N1)N)N=CN2C3C(C(C(O3)COP(=O)(O)OP(..."
      ]
     },
     "execution_count": 60,
     "metadata": {},
     "output_type": "execute_result"
    }
   ],
   "source": [
    "smile_data = chem_obj.data_frame()\n",
    "\n",
    "smile_data.head()"
   ]
  },
  {
   "cell_type": "markdown",
   "metadata": {},
   "source": [
    "**Note**\n",
    "\n",
    "Each of the four methods names(), smiles(), data_dict(), and data_frame() take the optional argument \"exclude_none\". By default this is set to False and all molecule names for which no SMILE could be obtained are excluded. If set to True, these will be included in the output."
   ]
  },
  {
   "cell_type": "markdown",
   "metadata": {},
   "source": [
    "### Now let's look at getting interesting data out of the SMILES"
   ]
  },
  {
   "cell_type": "markdown",
   "metadata": {},
   "source": [
    "First create a data object using molecule names and smiles as input."
   ]
  },
  {
   "cell_type": "code",
   "execution_count": 61,
   "metadata": {},
   "outputs": [
    {
     "data": {
      "text/plain": [
       "cheminformatics.cheminfo.SmileToData"
      ]
     },
     "execution_count": 61,
     "metadata": {},
     "output_type": "execute_result"
    }
   ],
   "source": [
    "data_obj = cheminfo.SmileToData(names=chem_obj.names(),\n",
    "                                smiles=chem_obj.smiles(), \n",
    "                                descriptor='morgan3', \n",
    "                                metric='tanimoto')\n",
    "\n",
    "type(data_obj)"
   ]
  },
  {
   "cell_type": "markdown",
   "metadata": {},
   "source": [
    "Several different alortithms for calculating descriptors are available. A list of the available ones can easily be obtained."
   ]
  },
  {
   "cell_type": "code",
   "execution_count": 62,
   "metadata": {},
   "outputs": [
    {
     "data": {
      "text/plain": [
       "['maccs', 'morgan3', 'morgan5', 'rdkit']"
      ]
     },
     "execution_count": 62,
     "metadata": {},
     "output_type": "execute_result"
    }
   ],
   "source": [
    "data_obj.valid_descriptors()"
   ]
  },
  {
   "cell_type": "markdown",
   "metadata": {},
   "source": [
    "Additionally several different metrics for comparing the molecules are available. A list of the available ones can easily be obtained."
   ]
  },
  {
   "cell_type": "code",
   "execution_count": 63,
   "metadata": {},
   "outputs": [
    {
     "data": {
      "text/plain": [
       "['asymmetric',\n",
       " 'braunblanquet',\n",
       " 'cosine',\n",
       " 'dice',\n",
       " 'kulczynski',\n",
       " 'mcconnaughey',\n",
       " 'rogotgoldberg',\n",
       " 'russel',\n",
       " 'sokal',\n",
       " 'tanimoto']"
      ]
     },
     "execution_count": 63,
     "metadata": {},
     "output_type": "execute_result"
    }
   ],
   "source": [
    "data_obj.valid_metrics()"
   ]
  },
  {
   "cell_type": "markdown",
   "metadata": {},
   "source": [
    "#### Obtaining basic properties for the molecules"
   ]
  },
  {
   "cell_type": "markdown",
   "metadata": {},
   "source": [
    "Get a list of the molecule names "
   ]
  },
  {
   "cell_type": "code",
   "execution_count": 64,
   "metadata": {},
   "outputs": [
    {
     "data": {
      "text/plain": [
       "['lactate', 'glycolate', 'tryptophane', 'atp', 'adp', 'amp']"
      ]
     },
     "execution_count": 64,
     "metadata": {},
     "output_type": "execute_result"
    }
   ],
   "source": [
    "names = data_obj.names()\n",
    "\n",
    "names[:10]"
   ]
  },
  {
   "cell_type": "markdown",
   "metadata": {},
   "source": [
    "Get a list of the molecule smiles"
   ]
  },
  {
   "cell_type": "code",
   "execution_count": 65,
   "metadata": {},
   "outputs": [
    {
     "data": {
      "text/plain": [
       "['CC(C(=O)O)O',\n",
       " 'C(C(=O)O)O',\n",
       " 'C1=CC=C2C(=C1)C(=CN2)CC(C(=O)O)N',\n",
       " 'C1=NC2=C(C(=N1)N)N=CN2C3C(C(C(O3)COP(=O)(O)OP(=O)(O)OP(=O)(O)O)O)O',\n",
       " 'C1=NC2=C(C(=N1)N)N=CN2C3C(C(C(O3)COP(=O)(O)OP(=O)(O)O)O)O',\n",
       " 'C1=NC2=C(C(=N1)N)N=CN2C3C(C(C(O3)COP(=O)(O)O)O)O']"
      ]
     },
     "execution_count": 65,
     "metadata": {},
     "output_type": "execute_result"
    }
   ],
   "source": [
    "smiles = data_obj.smiles()\n",
    "\n",
    "smiles[:10]"
   ]
  },
  {
   "cell_type": "markdown",
   "metadata": {},
   "source": [
    "Get a list of the molecule objects obtained from the smiles"
   ]
  },
  {
   "cell_type": "code",
   "execution_count": 66,
   "metadata": {},
   "outputs": [
    {
     "name": "stdout",
     "output_type": "stream",
     "text": [
      "[<rdkit.Chem.rdchem.Mol object at 0x7f9bb7a21940>, <rdkit.Chem.rdchem.Mol object at 0x7f9bb7a215d0>, <rdkit.Chem.rdchem.Mol object at 0x7f9bb75a1f80>, <rdkit.Chem.rdchem.Mol object at 0x7f9bb75a1f30>, <rdkit.Chem.rdchem.Mol object at 0x7f9bb75a1ee0>, <rdkit.Chem.rdchem.Mol object at 0x7f9bb75a1e90>]\n"
     ]
    },
    {
     "data": {
      "image/png": "[encoded data removed]",
      "text/plain": [
       "<rdkit.Chem.rdchem.Mol at 0x7f9bb7a21940>"
      ]
     },
     "metadata": {},
     "output_type": "display_data"
    },
    {
     "data": {
      "image/png": "[encoded data removed]",
      "text/plain": [
       "<rdkit.Chem.rdchem.Mol at 0x7f9bb7a215d0>"
      ]
     },
     "metadata": {},
     "output_type": "display_data"
    },
    {
     "data": {
      "image/png": "[encoded data removed]",
      "text/plain": [
       "<rdkit.Chem.rdchem.Mol at 0x7f9bb75a1f80>"
      ]
     },
     "metadata": {},
     "output_type": "display_data"
    },
    {
     "data": {
      "image/png": "[encoded data removed]",
      "text/plain": [
       "<rdkit.Chem.rdchem.Mol at 0x7f9bb75a1f30>"
      ]
     },
     "metadata": {},
     "output_type": "display_data"
    },
    {
     "data": {
      "image/png": "[encoded data removed]",
      "text/plain": [
       "<rdkit.Chem.rdchem.Mol at 0x7f9bb75a1ee0>"
      ]
     },
     "metadata": {},
     "output_type": "display_data"
    },
    {
     "data": {
      "image/png": "[encoded data removed]",
      "text/plain": [
       "<rdkit.Chem.rdchem.Mol at 0x7f9bb75a1e90>"
      ]
     },
     "metadata": {},
     "output_type": "display_data"
    }
   ],
   "source": [
    "mols = data_obj.molecules()\n",
    "\n",
    "print(mols[:10])\n",
    "\n",
    "for m in mols[:10]:\n",
    "    display(m)"
   ]
  },
  {
   "cell_type": "markdown",
   "metadata": {},
   "source": [
    "It is also possible to specify the a molecules name to obtain only that molecule object"
   ]
  },
  {
   "cell_type": "code",
   "execution_count": 67,
   "metadata": {},
   "outputs": [
    {
     "data": {
      "image/png": "[encoded data removed]",
      "text/plain": [
       "<rdkit.Chem.rdchem.Mol at 0x7f9bb7a21940>"
      ]
     },
     "execution_count": 67,
     "metadata": {},
     "output_type": "execute_result"
    }
   ],
   "source": [
    "m = data_obj.molecules('lactate')\n",
    "m"
   ]
  },
  {
   "cell_type": "markdown",
   "metadata": {},
   "source": [
    "Get a list of fingerprint objects for each of the molecules"
   ]
  },
  {
   "cell_type": "code",
   "execution_count": 68,
   "metadata": {},
   "outputs": [
    {
     "data": {
      "text/plain": [
       "<rdkit.DataStructs.cDataStructs.ExplicitBitVect at 0x7f9bb75a1e40>"
      ]
     },
     "execution_count": 68,
     "metadata": {},
     "output_type": "execute_result"
    }
   ],
   "source": [
    "fingerp = data_obj.fingerprints()\n",
    "\n",
    "fingerp[0]"
   ]
  },
  {
   "cell_type": "markdown",
   "metadata": {},
   "source": [
    "It is also possible to get the fingerprints as bitstrings"
   ]
  },
  {
   "cell_type": "code",
   "execution_count": 69,
   "metadata": {},
   "outputs": [
    {
     "data": {
      "text/plain": [
       "'01000000000000000000000000000000000000000000000000000000000000000000000000000000000000000000000000000000000000000000000000000000000000000000000000000000000000000000000000000000000000000000000000000000000000000000000000000000000100000000000000000000000000000000000000000000000000000001000000000000000000000000000000000000000000000000000000000000000000000000000000000000000000000000000000000100000010000000000000000000000000000000000000000000000000000000000000000000000000000000000000000000000000000000000000000000000000000000000000000000000000000000000000000000000000000000000000000000000000000000000000000000000000000000000000000000000000000000000000100000000000000000000000000000000000000000000000000000000000000000000000000000000000000000000000000000000000000000000000000000000000000000000000000000000000010000000000000000000000000000000000000000000000100000000000000000000000000000000000000000000000000000000000000000000000000000000000000000000000000000000000000000000000000000000000000000000000000000000000000000000000000000000000000000000000000000000001000000000000000000000000000000000000000000000000000000000000000000000000000000000000000000000000000000000000000000000000000000000000000000000000000000000000000000000000000000000000000000000000000000000000000000000000000000000000000000000000000000000000000000000000000000000000000000000000000000000000000000000000000000000000000000000000000000000000000000000000000000000000000000000000000000000000000000000000000000000000000000000000000000000000000000000000000000000000000000000000000000000000000000000000000000000000000000000000000000000000000000000000000000000000000000000000000000000000000000000000000000000000000000000000000000000000000000000000000000000000000000000000000000000000000000000000000000000000000000000000000000000000000000000000000000000000000000000000000000000000000000100000000000000000000000000000000000000000000000000000000000000000000000010000000000000000000000000000000000000000000000000000000000000000000000000000000000000000000000000000000000000000000000000000000000'"
      ]
     },
     "execution_count": 69,
     "metadata": {},
     "output_type": "execute_result"
    }
   ],
   "source": [
    "fingerp = data_obj.fingerprints_str()\n",
    "\n",
    "fingerp[0]"
   ]
  },
  {
   "cell_type": "markdown",
   "metadata": {},
   "source": [
    "Or as a bit list if one prefers..."
   ]
  },
  {
   "cell_type": "code",
   "execution_count": 70,
   "metadata": {},
   "outputs": [
    {
     "data": {
      "text/plain": [
       "[0,\n",
       " 1,\n",
       " 0,\n",
       " 0,\n",
       " 0,\n",
       " 0,\n",
       " 0,\n",
       " 0,\n",
       " 0,\n",
       " 0,\n",
       " 0,\n",
       " 0,\n",
       " 0,\n",
       " 0,\n",
       " 0,\n",
       " 0,\n",
       " 0,\n",
       " 0,\n",
       " 0,\n",
       " 0,\n",
       " 0,\n",
       " 0,\n",
       " 0,\n",
       " 0,\n",
       " 0,\n",
       " 0,\n",
       " 0,\n",
       " 0,\n",
       " 0,\n",
       " 0,\n",
       " 0,\n",
       " 0,\n",
       " 0,\n",
       " 0,\n",
       " 0,\n",
       " 0,\n",
       " 0,\n",
       " 0,\n",
       " 0,\n",
       " 0,\n",
       " 0,\n",
       " 0,\n",
       " 0,\n",
       " 0,\n",
       " 0,\n",
       " 0,\n",
       " 0,\n",
       " 0,\n",
       " 0,\n",
       " 0,\n",
       " 0,\n",
       " 0,\n",
       " 0,\n",
       " 0,\n",
       " 0,\n",
       " 0,\n",
       " 0,\n",
       " 0,\n",
       " 0,\n",
       " 0,\n",
       " 0,\n",
       " 0,\n",
       " 0,\n",
       " 0,\n",
       " 0,\n",
       " 0,\n",
       " 0,\n",
       " 0,\n",
       " 0,\n",
       " 0,\n",
       " 0,\n",
       " 0,\n",
       " 0,\n",
       " 0,\n",
       " 0,\n",
       " 0,\n",
       " 0,\n",
       " 0,\n",
       " 0,\n",
       " 0,\n",
       " 0,\n",
       " 0,\n",
       " 0,\n",
       " 0,\n",
       " 0,\n",
       " 0,\n",
       " 0,\n",
       " 0,\n",
       " 0,\n",
       " 0,\n",
       " 0,\n",
       " 0,\n",
       " 0,\n",
       " 0,\n",
       " 0,\n",
       " 0,\n",
       " 0,\n",
       " 0,\n",
       " 0,\n",
       " 0,\n",
       " 0,\n",
       " 0,\n",
       " 0,\n",
       " 0,\n",
       " 0,\n",
       " 0,\n",
       " 0,\n",
       " 0,\n",
       " 0,\n",
       " 0,\n",
       " 0,\n",
       " 0,\n",
       " 0,\n",
       " 0,\n",
       " 0,\n",
       " 0,\n",
       " 0,\n",
       " 0,\n",
       " 0,\n",
       " 0,\n",
       " 0,\n",
       " 0,\n",
       " 0,\n",
       " 0,\n",
       " 0,\n",
       " 0,\n",
       " 0,\n",
       " 0,\n",
       " 0,\n",
       " 0,\n",
       " 0,\n",
       " 0,\n",
       " 0,\n",
       " 0,\n",
       " 0,\n",
       " 0,\n",
       " 0,\n",
       " 0,\n",
       " 0,\n",
       " 0,\n",
       " 0,\n",
       " 0,\n",
       " 0,\n",
       " 0,\n",
       " 0,\n",
       " 0,\n",
       " 0,\n",
       " 0,\n",
       " 0,\n",
       " 0,\n",
       " 0,\n",
       " 0,\n",
       " 0,\n",
       " 0,\n",
       " 0,\n",
       " 0,\n",
       " 0,\n",
       " 0,\n",
       " 0,\n",
       " 0,\n",
       " 0,\n",
       " 0,\n",
       " 0,\n",
       " 0,\n",
       " 0,\n",
       " 0,\n",
       " 0,\n",
       " 0,\n",
       " 0,\n",
       " 0,\n",
       " 0,\n",
       " 0,\n",
       " 0,\n",
       " 0,\n",
       " 0,\n",
       " 0,\n",
       " 0,\n",
       " 0,\n",
       " 0,\n",
       " 0,\n",
       " 0,\n",
       " 0,\n",
       " 0,\n",
       " 0,\n",
       " 0,\n",
       " 0,\n",
       " 0,\n",
       " 0,\n",
       " 0,\n",
       " 0,\n",
       " 0,\n",
       " 0,\n",
       " 0,\n",
       " 0,\n",
       " 0,\n",
       " 0,\n",
       " 0,\n",
       " 0,\n",
       " 0,\n",
       " 0,\n",
       " 0,\n",
       " 0,\n",
       " 0,\n",
       " 0,\n",
       " 0,\n",
       " 0,\n",
       " 0,\n",
       " 0,\n",
       " 0,\n",
       " 0,\n",
       " 0,\n",
       " 0,\n",
       " 0,\n",
       " 0,\n",
       " 0,\n",
       " 0,\n",
       " 0,\n",
       " 0,\n",
       " 0,\n",
       " 0,\n",
       " 0,\n",
       " 0,\n",
       " 0,\n",
       " 0,\n",
       " 0,\n",
       " 0,\n",
       " 0,\n",
       " 1,\n",
       " 0,\n",
       " 0,\n",
       " 0,\n",
       " 0,\n",
       " 0,\n",
       " 0,\n",
       " 0,\n",
       " 0,\n",
       " 0,\n",
       " 0,\n",
       " 0,\n",
       " 0,\n",
       " 0,\n",
       " 0,\n",
       " 0,\n",
       " 0,\n",
       " 0,\n",
       " 0,\n",
       " 0,\n",
       " 0,\n",
       " 0,\n",
       " 0,\n",
       " 0,\n",
       " 0,\n",
       " 0,\n",
       " 0,\n",
       " 0,\n",
       " 0,\n",
       " 0,\n",
       " 0,\n",
       " 0,\n",
       " 0,\n",
       " 0,\n",
       " 0,\n",
       " 0,\n",
       " 0,\n",
       " 0,\n",
       " 0,\n",
       " 0,\n",
       " 0,\n",
       " 0,\n",
       " 0,\n",
       " 0,\n",
       " 0,\n",
       " 0,\n",
       " 0,\n",
       " 0,\n",
       " 0,\n",
       " 0,\n",
       " 0,\n",
       " 0,\n",
       " 0,\n",
       " 0,\n",
       " 0,\n",
       " 0,\n",
       " 1,\n",
       " 0,\n",
       " 0,\n",
       " 0,\n",
       " 0,\n",
       " 0,\n",
       " 0,\n",
       " 0,\n",
       " 0,\n",
       " 0,\n",
       " 0,\n",
       " 0,\n",
       " 0,\n",
       " 0,\n",
       " 0,\n",
       " 0,\n",
       " 0,\n",
       " 0,\n",
       " 0,\n",
       " 0,\n",
       " 0,\n",
       " 0,\n",
       " 0,\n",
       " 0,\n",
       " 0,\n",
       " 0,\n",
       " 0,\n",
       " 0,\n",
       " 0,\n",
       " 0,\n",
       " 0,\n",
       " 0,\n",
       " 0,\n",
       " 0,\n",
       " 0,\n",
       " 0,\n",
       " 0,\n",
       " 0,\n",
       " 0,\n",
       " 0,\n",
       " 0,\n",
       " 0,\n",
       " 0,\n",
       " 0,\n",
       " 0,\n",
       " 0,\n",
       " 0,\n",
       " 0,\n",
       " 0,\n",
       " 0,\n",
       " 0,\n",
       " 0,\n",
       " 0,\n",
       " 0,\n",
       " 0,\n",
       " 0,\n",
       " 0,\n",
       " 0,\n",
       " 0,\n",
       " 0,\n",
       " 0,\n",
       " 0,\n",
       " 0,\n",
       " 0,\n",
       " 0,\n",
       " 0,\n",
       " 0,\n",
       " 0,\n",
       " 0,\n",
       " 0,\n",
       " 0,\n",
       " 0,\n",
       " 0,\n",
       " 0,\n",
       " 0,\n",
       " 0,\n",
       " 0,\n",
       " 0,\n",
       " 0,\n",
       " 0,\n",
       " 0,\n",
       " 0,\n",
       " 0,\n",
       " 0,\n",
       " 0,\n",
       " 0,\n",
       " 0,\n",
       " 0,\n",
       " 0,\n",
       " 0,\n",
       " 0,\n",
       " 0,\n",
       " 0,\n",
       " 0,\n",
       " 0,\n",
       " 0,\n",
       " 0,\n",
       " 0,\n",
       " 0,\n",
       " 0,\n",
       " 0,\n",
       " 0,\n",
       " 0,\n",
       " 0,\n",
       " 0,\n",
       " 0,\n",
       " 1,\n",
       " 0,\n",
       " 0,\n",
       " 0,\n",
       " 0,\n",
       " 0,\n",
       " 0,\n",
       " 1,\n",
       " 0,\n",
       " 0,\n",
       " 0,\n",
       " 0,\n",
       " 0,\n",
       " 0,\n",
       " 0,\n",
       " 0,\n",
       " 0,\n",
       " 0,\n",
       " 0,\n",
       " 0,\n",
       " 0,\n",
       " 0,\n",
       " 0,\n",
       " 0,\n",
       " 0,\n",
       " 0,\n",
       " 0,\n",
       " 0,\n",
       " 0,\n",
       " 0,\n",
       " 0,\n",
       " 0,\n",
       " 0,\n",
       " 0,\n",
       " 0,\n",
       " 0,\n",
       " 0,\n",
       " 0,\n",
       " 0,\n",
       " 0,\n",
       " 0,\n",
       " 0,\n",
       " 0,\n",
       " 0,\n",
       " 0,\n",
       " 0,\n",
       " 0,\n",
       " 0,\n",
       " 0,\n",
       " 0,\n",
       " 0,\n",
       " 0,\n",
       " 0,\n",
       " 0,\n",
       " 0,\n",
       " 0,\n",
       " 0,\n",
       " 0,\n",
       " 0,\n",
       " 0,\n",
       " 0,\n",
       " 0,\n",
       " 0,\n",
       " 0,\n",
       " 0,\n",
       " 0,\n",
       " 0,\n",
       " 0,\n",
       " 0,\n",
       " 0,\n",
       " 0,\n",
       " 0,\n",
       " 0,\n",
       " 0,\n",
       " 0,\n",
       " 0,\n",
       " 0,\n",
       " 0,\n",
       " 0,\n",
       " 0,\n",
       " 0,\n",
       " 0,\n",
       " 0,\n",
       " 0,\n",
       " 0,\n",
       " 0,\n",
       " 0,\n",
       " 0,\n",
       " 0,\n",
       " 0,\n",
       " 0,\n",
       " 0,\n",
       " 0,\n",
       " 0,\n",
       " 0,\n",
       " 0,\n",
       " 0,\n",
       " 0,\n",
       " 0,\n",
       " 0,\n",
       " 0,\n",
       " 0,\n",
       " 0,\n",
       " 0,\n",
       " 0,\n",
       " 0,\n",
       " 0,\n",
       " 0,\n",
       " 0,\n",
       " 0,\n",
       " 0,\n",
       " 0,\n",
       " 0,\n",
       " 0,\n",
       " 0,\n",
       " 0,\n",
       " 0,\n",
       " 0,\n",
       " 0,\n",
       " 0,\n",
       " 0,\n",
       " 0,\n",
       " 0,\n",
       " 0,\n",
       " 0,\n",
       " 0,\n",
       " 0,\n",
       " 0,\n",
       " 0,\n",
       " 0,\n",
       " 0,\n",
       " 0,\n",
       " 0,\n",
       " 0,\n",
       " 0,\n",
       " 0,\n",
       " 0,\n",
       " 0,\n",
       " 0,\n",
       " 0,\n",
       " 0,\n",
       " 0,\n",
       " 0,\n",
       " 0,\n",
       " 0,\n",
       " 0,\n",
       " 0,\n",
       " 0,\n",
       " 0,\n",
       " 0,\n",
       " 0,\n",
       " 0,\n",
       " 0,\n",
       " 0,\n",
       " 0,\n",
       " 0,\n",
       " 0,\n",
       " 0,\n",
       " 0,\n",
       " 0,\n",
       " 0,\n",
       " 0,\n",
       " 0,\n",
       " 0,\n",
       " 0,\n",
       " 0,\n",
       " 0,\n",
       " 0,\n",
       " 0,\n",
       " 0,\n",
       " 0,\n",
       " 0,\n",
       " 0,\n",
       " 0,\n",
       " 0,\n",
       " 0,\n",
       " 0,\n",
       " 0,\n",
       " 0,\n",
       " 0,\n",
       " 0,\n",
       " 0,\n",
       " 0,\n",
       " 0,\n",
       " 0,\n",
       " 0,\n",
       " 0,\n",
       " 0,\n",
       " 0,\n",
       " 0,\n",
       " 0,\n",
       " 0,\n",
       " 0,\n",
       " 0,\n",
       " 0,\n",
       " 0,\n",
       " 0,\n",
       " 0,\n",
       " 0,\n",
       " 0,\n",
       " 0,\n",
       " 0,\n",
       " 0,\n",
       " 0,\n",
       " 0,\n",
       " 0,\n",
       " 0,\n",
       " 0,\n",
       " 0,\n",
       " 0,\n",
       " 0,\n",
       " 0,\n",
       " 0,\n",
       " 0,\n",
       " 0,\n",
       " 0,\n",
       " 0,\n",
       " 0,\n",
       " 0,\n",
       " 0,\n",
       " 0,\n",
       " 0,\n",
       " 0,\n",
       " 0,\n",
       " 0,\n",
       " 0,\n",
       " 0,\n",
       " 0,\n",
       " 0,\n",
       " 0,\n",
       " 0,\n",
       " 0,\n",
       " 0,\n",
       " 0,\n",
       " 0,\n",
       " 0,\n",
       " 0,\n",
       " 0,\n",
       " 0,\n",
       " 0,\n",
       " 0,\n",
       " 0,\n",
       " 0,\n",
       " 0,\n",
       " 0,\n",
       " 0,\n",
       " 0,\n",
       " 0,\n",
       " 0,\n",
       " 0,\n",
       " 0,\n",
       " 0,\n",
       " 0,\n",
       " 0,\n",
       " 0,\n",
       " 0,\n",
       " 0,\n",
       " 0,\n",
       " 0,\n",
       " 0,\n",
       " 0,\n",
       " 1,\n",
       " 0,\n",
       " 0,\n",
       " 0,\n",
       " 0,\n",
       " 0,\n",
       " 0,\n",
       " 0,\n",
       " 0,\n",
       " 0,\n",
       " 0,\n",
       " 0,\n",
       " 0,\n",
       " 0,\n",
       " 0,\n",
       " 0,\n",
       " 0,\n",
       " 0,\n",
       " 0,\n",
       " 0,\n",
       " 0,\n",
       " 0,\n",
       " 0,\n",
       " 0,\n",
       " 0,\n",
       " 0,\n",
       " 0,\n",
       " 0,\n",
       " 0,\n",
       " 0,\n",
       " 0,\n",
       " 0,\n",
       " 0,\n",
       " 0,\n",
       " 0,\n",
       " 0,\n",
       " 0,\n",
       " 0,\n",
       " 0,\n",
       " 0,\n",
       " 0,\n",
       " 0,\n",
       " 0,\n",
       " 0,\n",
       " 0,\n",
       " 0,\n",
       " 0,\n",
       " 0,\n",
       " 0,\n",
       " 0,\n",
       " 0,\n",
       " 0,\n",
       " 0,\n",
       " 0,\n",
       " 0,\n",
       " 0,\n",
       " 0,\n",
       " 0,\n",
       " 0,\n",
       " 0,\n",
       " 0,\n",
       " 0,\n",
       " 0,\n",
       " 0,\n",
       " 0,\n",
       " 0,\n",
       " 0,\n",
       " 0,\n",
       " 0,\n",
       " 0,\n",
       " 0,\n",
       " 0,\n",
       " 0,\n",
       " 0,\n",
       " 0,\n",
       " 0,\n",
       " 0,\n",
       " 0,\n",
       " 0,\n",
       " 0,\n",
       " 0,\n",
       " 0,\n",
       " 0,\n",
       " 0,\n",
       " 0,\n",
       " 0,\n",
       " 0,\n",
       " 0,\n",
       " 0,\n",
       " 0,\n",
       " 0,\n",
       " 0,\n",
       " 0,\n",
       " 0,\n",
       " 0,\n",
       " 0,\n",
       " 0,\n",
       " 0,\n",
       " 0,\n",
       " 0,\n",
       " 0,\n",
       " 0,\n",
       " 0,\n",
       " 0,\n",
       " 0,\n",
       " 0,\n",
       " 0,\n",
       " 0,\n",
       " 0,\n",
       " 0,\n",
       " 0,\n",
       " 0,\n",
       " 0,\n",
       " 0,\n",
       " 0,\n",
       " 0,\n",
       " 0,\n",
       " 0,\n",
       " 0,\n",
       " 0,\n",
       " 0,\n",
       " 0,\n",
       " 0,\n",
       " 0,\n",
       " 0,\n",
       " 0,\n",
       " 0,\n",
       " 0,\n",
       " 0,\n",
       " 0,\n",
       " 0,\n",
       " 0,\n",
       " 0,\n",
       " 0,\n",
       " 0,\n",
       " 0,\n",
       " 0,\n",
       " 0,\n",
       " 0,\n",
       " 0,\n",
       " 0,\n",
       " 0,\n",
       " 0,\n",
       " 0,\n",
       " 0,\n",
       " 0,\n",
       " 0,\n",
       " 0,\n",
       " 0,\n",
       " 0,\n",
       " 0,\n",
       " 0,\n",
       " 0,\n",
       " 0,\n",
       " 0,\n",
       " 0,\n",
       " 0,\n",
       " 1,\n",
       " 0,\n",
       " 0,\n",
       " 0,\n",
       " 0,\n",
       " 0,\n",
       " 0,\n",
       " 0,\n",
       " 0,\n",
       " 0,\n",
       " 0,\n",
       " 0,\n",
       " 0,\n",
       " 0,\n",
       " 0,\n",
       " 0,\n",
       " 0,\n",
       " 0,\n",
       " 0,\n",
       " 0,\n",
       " 0,\n",
       " 0,\n",
       " 0,\n",
       " 0,\n",
       " 0,\n",
       " 0,\n",
       " 0,\n",
       " 0,\n",
       " 0,\n",
       " 0,\n",
       " 0,\n",
       " 0,\n",
       " 0,\n",
       " 0,\n",
       " 0,\n",
       " 0,\n",
       " 0,\n",
       " 0,\n",
       " 0,\n",
       " 0,\n",
       " 0,\n",
       " 0,\n",
       " 0,\n",
       " 0,\n",
       " 0,\n",
       " 0,\n",
       " 0,\n",
       " 1,\n",
       " 0,\n",
       " 0,\n",
       " 0,\n",
       " 0,\n",
       " 0,\n",
       " 0,\n",
       " 0,\n",
       " 0,\n",
       " 0,\n",
       " 0,\n",
       " 0,\n",
       " 0,\n",
       " 0,\n",
       " 0,\n",
       " 0,\n",
       " 0,\n",
       " 0,\n",
       " 0,\n",
       " 0,\n",
       " 0,\n",
       " 0,\n",
       " 0,\n",
       " 0,\n",
       " 0,\n",
       " 0,\n",
       " 0,\n",
       " 0,\n",
       " 0,\n",
       " 0,\n",
       " 0,\n",
       " 0,\n",
       " 0,\n",
       " 0,\n",
       " 0,\n",
       " 0,\n",
       " 0,\n",
       " 0,\n",
       " 0,\n",
       " 0,\n",
       " 0,\n",
       " 0,\n",
       " 0,\n",
       " 0,\n",
       " 0,\n",
       " 0,\n",
       " 0,\n",
       " 0,\n",
       " 0,\n",
       " 0,\n",
       " 0,\n",
       " 0,\n",
       " 0,\n",
       " 0,\n",
       " 0,\n",
       " 0,\n",
       " 0,\n",
       " 0,\n",
       " 0,\n",
       " 0,\n",
       " 0,\n",
       " 0,\n",
       " 0,\n",
       " 0,\n",
       " 0,\n",
       " 0,\n",
       " 0,\n",
       " 0,\n",
       " 0,\n",
       " 0,\n",
       " 0,\n",
       " 0,\n",
       " 0,\n",
       " 0,\n",
       " 0,\n",
       " 0,\n",
       " 0,\n",
       " 0,\n",
       " 0,\n",
       " 0,\n",
       " 0,\n",
       " 0,\n",
       " 0,\n",
       " 0,\n",
       " 0,\n",
       " 0,\n",
       " 0,\n",
       " 0,\n",
       " 0,\n",
       " 0,\n",
       " 0,\n",
       " 0,\n",
       " 0,\n",
       " 0,\n",
       " 0,\n",
       " 0,\n",
       " 0,\n",
       " 0,\n",
       " 0,\n",
       " 0,\n",
       " 0,\n",
       " 0,\n",
       " 0,\n",
       " 0,\n",
       " 0,\n",
       " 0,\n",
       " 0,\n",
       " 0,\n",
       " 0,\n",
       " 0,\n",
       " 0,\n",
       " 0,\n",
       " 0,\n",
       " 0,\n",
       " 0,\n",
       " 0,\n",
       " 0,\n",
       " 0,\n",
       " 0,\n",
       " 0,\n",
       " 0,\n",
       " 0,\n",
       " 0,\n",
       " 0,\n",
       " 0,\n",
       " 0,\n",
       " 0,\n",
       " 0,\n",
       " 0,\n",
       " 0,\n",
       " 0,\n",
       " 0,\n",
       " 0,\n",
       " 0,\n",
       " 0,\n",
       " 0,\n",
       " 0,\n",
       " 0,\n",
       " 0,\n",
       " 0,\n",
       " 0,\n",
       " 0,\n",
       " 0,\n",
       " 0,\n",
       " 0,\n",
       " 0,\n",
       " ...]"
      ]
     },
     "execution_count": 70,
     "metadata": {},
     "output_type": "execute_result"
    }
   ],
   "source": [
    "fingerp = data_obj.fingerprints_list()\n",
    "\n",
    "fingerp[0]"
   ]
  },
  {
   "cell_type": "markdown",
   "metadata": {},
   "source": [
    "Get a list of molecule properties for the molecules, in this case molecular weight."
   ]
  },
  {
   "cell_type": "code",
   "execution_count": 71,
   "metadata": {},
   "outputs": [
    {
     "data": {
      "text/plain": [
       "[90.031694052,\n",
       " 76.016043988,\n",
       " 204.089877624,\n",
       " 506.9957454619997,\n",
       " 427.0294149399998,\n",
       " 347.06308441799985]"
      ]
     },
     "execution_count": 71,
     "metadata": {},
     "output_type": "execute_result"
    }
   ],
   "source": [
    "props = data_obj.property(property_type='molwt')\n",
    "\n",
    "props[:10]"
   ]
  },
  {
   "cell_type": "markdown",
   "metadata": {},
   "source": [
    "You can easiliy obtain a list of which properties that are available"
   ]
  },
  {
   "cell_type": "code",
   "execution_count": 72,
   "metadata": {},
   "outputs": [
    {
     "data": {
      "text/plain": [
       "['molwt',\n",
       " 'num_alirings',\n",
       " 'num_arorings',\n",
       " 'num_hbond_acceptors',\n",
       " 'num_hbond_donors',\n",
       " 'num_hetatom',\n",
       " 'num_nhoh',\n",
       " 'num_no',\n",
       " 'num_rotbond',\n",
       " 'tpsa']"
      ]
     },
     "execution_count": 72,
     "metadata": {},
     "output_type": "execute_result"
    }
   ],
   "source": [
    "data_obj.valid_properties()"
   ]
  },
  {
   "cell_type": "markdown",
   "metadata": {},
   "source": [
    "These are a bit cryptic, so one can also get the explanation."
   ]
  },
  {
   "cell_type": "code",
   "execution_count": 73,
   "metadata": {},
   "outputs": [
    {
     "data": {
      "text/plain": [
       "['\"molwt\": molecular weight',\n",
       " '\"num_alirings\": number of aliphatic rings',\n",
       " '\"num_arorings\": number of aromatic rings',\n",
       " '\"num_hbond_acceptors\": number of hydrogen bond acceptors',\n",
       " '\"num_hbond_donors\": number of hydrogen bond donors',\n",
       " '\"num_hetatom\": number of hetero atoms',\n",
       " '\"num_nhoh\": number of NH and OH groups',\n",
       " '\"num_no\": number of N and O atoms',\n",
       " '\"num_rotbond\": number of rotatable bonds',\n",
       " '\"tpsa\": polar surface area']"
      ]
     },
     "execution_count": 73,
     "metadata": {},
     "output_type": "execute_result"
    }
   ],
   "source": [
    "data_obj.explain_properties()"
   ]
  },
  {
   "cell_type": "markdown",
   "metadata": {},
   "source": [
    "Get a dictionary containing a selection of chemical properties for each molecule"
   ]
  },
  {
   "cell_type": "code",
   "execution_count": 74,
   "metadata": {},
   "outputs": [
    {
     "name": "stdout",
     "output_type": "stream",
     "text": [
      "dict_keys(['lactate', 'glycolate', 'tryptophane', 'atp', 'adp', 'amp'])\n"
     ]
    },
    {
     "data": {
      "text/plain": [
       "{'smile': 'CC(C(=O)O)O',\n",
       " 'molwt': 90.031694052,\n",
       " 'num_alirings': 0,\n",
       " 'num_arorings': 0,\n",
       " 'num_hbond_acceptors': 2,\n",
       " 'num_hbond_donors': 2,\n",
       " 'num_hetatom': 3,\n",
       " 'num_nhoh': 2,\n",
       " 'num_no': 3,\n",
       " 'num_rotbond': 1,\n",
       " 'tpsa': 57.53}"
      ]
     },
     "execution_count": 74,
     "metadata": {},
     "output_type": "execute_result"
    }
   ],
   "source": [
    "prop_dict = data_obj.data_dict()\n",
    "\n",
    "print(prop_dict.keys())\n",
    "\n",
    "prop_dict['lactate']"
   ]
  },
  {
   "cell_type": "markdown",
   "metadata": {},
   "source": [
    "Get a data frame containing a selection of chemical properties for each molecule"
   ]
  },
  {
   "cell_type": "code",
   "execution_count": 75,
   "metadata": {},
   "outputs": [
    {
     "data": {
      "text/html": [
       "<div>\n",
       "<style scoped>\n",
       "    .dataframe tbody tr th:only-of-type {\n",
       "        vertical-align: middle;\n",
       "    }\n",
       "\n",
       "    .dataframe tbody tr th {\n",
       "        vertical-align: top;\n",
       "    }\n",
       "\n",
       "    .dataframe thead th {\n",
       "        text-align: right;\n",
       "    }\n",
       "</style>\n",
       "<table border=\"1\" class=\"dataframe\">\n",
       "  <thead>\n",
       "    <tr style=\"text-align: right;\">\n",
       "      <th></th>\n",
       "      <th>molecule</th>\n",
       "      <th>smile</th>\n",
       "      <th>molwt</th>\n",
       "      <th>num_alirings</th>\n",
       "      <th>num_arorings</th>\n",
       "      <th>num_hbond_acceptors</th>\n",
       "      <th>num_hbond_donors</th>\n",
       "      <th>num_hetatom</th>\n",
       "      <th>num_nhoh</th>\n",
       "      <th>num_no</th>\n",
       "      <th>num_rotbond</th>\n",
       "      <th>tpsa</th>\n",
       "    </tr>\n",
       "  </thead>\n",
       "  <tbody>\n",
       "    <tr>\n",
       "      <th>0</th>\n",
       "      <td>lactate</td>\n",
       "      <td>CC(C(=O)O)O</td>\n",
       "      <td>90.031694</td>\n",
       "      <td>0</td>\n",
       "      <td>0</td>\n",
       "      <td>2</td>\n",
       "      <td>2</td>\n",
       "      <td>3</td>\n",
       "      <td>2</td>\n",
       "      <td>3</td>\n",
       "      <td>1</td>\n",
       "      <td>57.53</td>\n",
       "    </tr>\n",
       "    <tr>\n",
       "      <th>1</th>\n",
       "      <td>glycolate</td>\n",
       "      <td>C(C(=O)O)O</td>\n",
       "      <td>76.016044</td>\n",
       "      <td>0</td>\n",
       "      <td>0</td>\n",
       "      <td>2</td>\n",
       "      <td>2</td>\n",
       "      <td>3</td>\n",
       "      <td>2</td>\n",
       "      <td>3</td>\n",
       "      <td>1</td>\n",
       "      <td>57.53</td>\n",
       "    </tr>\n",
       "    <tr>\n",
       "      <th>2</th>\n",
       "      <td>tryptophane</td>\n",
       "      <td>C1=CC=C2C(=C1)C(=CN2)CC(C(=O)O)N</td>\n",
       "      <td>204.089878</td>\n",
       "      <td>0</td>\n",
       "      <td>2</td>\n",
       "      <td>2</td>\n",
       "      <td>3</td>\n",
       "      <td>4</td>\n",
       "      <td>4</td>\n",
       "      <td>4</td>\n",
       "      <td>3</td>\n",
       "      <td>79.11</td>\n",
       "    </tr>\n",
       "    <tr>\n",
       "      <th>3</th>\n",
       "      <td>atp</td>\n",
       "      <td>C1=NC2=C(C(=N1)N)N=CN2C3C(C(C(O3)COP(=O)(O)OP(...</td>\n",
       "      <td>506.995745</td>\n",
       "      <td>1</td>\n",
       "      <td>2</td>\n",
       "      <td>14</td>\n",
       "      <td>7</td>\n",
       "      <td>21</td>\n",
       "      <td>8</td>\n",
       "      <td>18</td>\n",
       "      <td>8</td>\n",
       "      <td>279.13</td>\n",
       "    </tr>\n",
       "    <tr>\n",
       "      <th>4</th>\n",
       "      <td>adp</td>\n",
       "      <td>C1=NC2=C(C(=N1)N)N=CN2C3C(C(C(O3)COP(=O)(O)OP(...</td>\n",
       "      <td>427.029415</td>\n",
       "      <td>1</td>\n",
       "      <td>2</td>\n",
       "      <td>12</td>\n",
       "      <td>6</td>\n",
       "      <td>17</td>\n",
       "      <td>7</td>\n",
       "      <td>15</td>\n",
       "      <td>6</td>\n",
       "      <td>232.60</td>\n",
       "    </tr>\n",
       "  </tbody>\n",
       "</table>\n",
       "</div>"
      ],
      "text/plain": [
       "      molecule                                              smile       molwt  \\\n",
       "0      lactate                                        CC(C(=O)O)O   90.031694   \n",
       "1    glycolate                                         C(C(=O)O)O   76.016044   \n",
       "2  tryptophane                   C1=CC=C2C(=C1)C(=CN2)CC(C(=O)O)N  204.089878   \n",
       "3          atp  C1=NC2=C(C(=N1)N)N=CN2C3C(C(C(O3)COP(=O)(O)OP(...  506.995745   \n",
       "4          adp  C1=NC2=C(C(=N1)N)N=CN2C3C(C(C(O3)COP(=O)(O)OP(...  427.029415   \n",
       "\n",
       "   num_alirings  num_arorings  num_hbond_acceptors  num_hbond_donors  \\\n",
       "0             0             0                    2                 2   \n",
       "1             0             0                    2                 2   \n",
       "2             0             2                    2                 3   \n",
       "3             1             2                   14                 7   \n",
       "4             1             2                   12                 6   \n",
       "\n",
       "   num_hetatom  num_nhoh  num_no  num_rotbond    tpsa  \n",
       "0            3         2       3            1   57.53  \n",
       "1            3         2       3            1   57.53  \n",
       "2            4         4       4            3   79.11  \n",
       "3           21         8      18            8  279.13  \n",
       "4           17         7      15            6  232.60  "
      ]
     },
     "execution_count": 75,
     "metadata": {},
     "output_type": "execute_result"
    }
   ],
   "source": [
    "prop_data = data_obj.data_frame()\n",
    "\n",
    "prop_data.head()"
   ]
  },
  {
   "cell_type": "markdown",
   "metadata": {},
   "source": [
    "Get a matrix of all pairwise similarities between molecules"
   ]
  },
  {
   "cell_type": "code",
   "execution_count": 76,
   "metadata": {},
   "outputs": [
    {
     "data": {
      "text/html": [
       "<div>\n",
       "<style scoped>\n",
       "    .dataframe tbody tr th:only-of-type {\n",
       "        vertical-align: middle;\n",
       "    }\n",
       "\n",
       "    .dataframe tbody tr th {\n",
       "        vertical-align: top;\n",
       "    }\n",
       "\n",
       "    .dataframe thead th {\n",
       "        text-align: right;\n",
       "    }\n",
       "</style>\n",
       "<table border=\"1\" class=\"dataframe\">\n",
       "  <thead>\n",
       "    <tr style=\"text-align: right;\">\n",
       "      <th></th>\n",
       "      <th>lactate</th>\n",
       "      <th>glycolate</th>\n",
       "      <th>tryptophane</th>\n",
       "      <th>atp</th>\n",
       "      <th>adp</th>\n",
       "      <th>amp</th>\n",
       "    </tr>\n",
       "  </thead>\n",
       "  <tbody>\n",
       "    <tr>\n",
       "      <th>lactate</th>\n",
       "      <td>1.000000</td>\n",
       "      <td>0.250000</td>\n",
       "      <td>0.125000</td>\n",
       "      <td>0.037500</td>\n",
       "      <td>0.038961</td>\n",
       "      <td>0.042857</td>\n",
       "    </tr>\n",
       "    <tr>\n",
       "      <th>glycolate</th>\n",
       "      <td>0.250000</td>\n",
       "      <td>1.000000</td>\n",
       "      <td>0.106383</td>\n",
       "      <td>0.038462</td>\n",
       "      <td>0.040000</td>\n",
       "      <td>0.044118</td>\n",
       "    </tr>\n",
       "    <tr>\n",
       "      <th>tryptophane</th>\n",
       "      <td>0.125000</td>\n",
       "      <td>0.106383</td>\n",
       "      <td>1.000000</td>\n",
       "      <td>0.074766</td>\n",
       "      <td>0.076923</td>\n",
       "      <td>0.082474</td>\n",
       "    </tr>\n",
       "    <tr>\n",
       "      <th>atp</th>\n",
       "      <td>0.037500</td>\n",
       "      <td>0.038462</td>\n",
       "      <td>0.074766</td>\n",
       "      <td>1.000000</td>\n",
       "      <td>0.905405</td>\n",
       "      <td>0.786667</td>\n",
       "    </tr>\n",
       "    <tr>\n",
       "      <th>adp</th>\n",
       "      <td>0.038961</td>\n",
       "      <td>0.040000</td>\n",
       "      <td>0.076923</td>\n",
       "      <td>0.905405</td>\n",
       "      <td>1.000000</td>\n",
       "      <td>0.819444</td>\n",
       "    </tr>\n",
       "    <tr>\n",
       "      <th>amp</th>\n",
       "      <td>0.042857</td>\n",
       "      <td>0.044118</td>\n",
       "      <td>0.082474</td>\n",
       "      <td>0.786667</td>\n",
       "      <td>0.819444</td>\n",
       "      <td>1.000000</td>\n",
       "    </tr>\n",
       "  </tbody>\n",
       "</table>\n",
       "</div>"
      ],
      "text/plain": [
       "              lactate  glycolate  tryptophane       atp       adp       amp\n",
       "lactate      1.000000   0.250000     0.125000  0.037500  0.038961  0.042857\n",
       "glycolate    0.250000   1.000000     0.106383  0.038462  0.040000  0.044118\n",
       "tryptophane  0.125000   0.106383     1.000000  0.074766  0.076923  0.082474\n",
       "atp          0.037500   0.038462     0.074766  1.000000  0.905405  0.786667\n",
       "adp          0.038961   0.040000     0.076923  0.905405  1.000000  0.819444\n",
       "amp          0.042857   0.044118     0.082474  0.786667  0.819444  1.000000"
      ]
     },
     "execution_count": 76,
     "metadata": {},
     "output_type": "execute_result"
    }
   ],
   "source": [
    "data_obj.similarity()"
   ]
  },
  {
   "cell_type": "markdown",
   "metadata": {},
   "source": [
    "Get a matrix of all pairwise distances between molecules"
   ]
  },
  {
   "cell_type": "code",
   "execution_count": 77,
   "metadata": {},
   "outputs": [
    {
     "data": {
      "text/html": [
       "<div>\n",
       "<style scoped>\n",
       "    .dataframe tbody tr th:only-of-type {\n",
       "        vertical-align: middle;\n",
       "    }\n",
       "\n",
       "    .dataframe tbody tr th {\n",
       "        vertical-align: top;\n",
       "    }\n",
       "\n",
       "    .dataframe thead th {\n",
       "        text-align: right;\n",
       "    }\n",
       "</style>\n",
       "<table border=\"1\" class=\"dataframe\">\n",
       "  <thead>\n",
       "    <tr style=\"text-align: right;\">\n",
       "      <th></th>\n",
       "      <th>lactate</th>\n",
       "      <th>glycolate</th>\n",
       "      <th>tryptophane</th>\n",
       "      <th>atp</th>\n",
       "      <th>adp</th>\n",
       "      <th>amp</th>\n",
       "    </tr>\n",
       "  </thead>\n",
       "  <tbody>\n",
       "    <tr>\n",
       "      <th>lactate</th>\n",
       "      <td>0.000000</td>\n",
       "      <td>0.750000</td>\n",
       "      <td>0.875000</td>\n",
       "      <td>0.962500</td>\n",
       "      <td>0.961039</td>\n",
       "      <td>0.957143</td>\n",
       "    </tr>\n",
       "    <tr>\n",
       "      <th>glycolate</th>\n",
       "      <td>0.750000</td>\n",
       "      <td>0.000000</td>\n",
       "      <td>0.893617</td>\n",
       "      <td>0.961538</td>\n",
       "      <td>0.960000</td>\n",
       "      <td>0.955882</td>\n",
       "    </tr>\n",
       "    <tr>\n",
       "      <th>tryptophane</th>\n",
       "      <td>0.875000</td>\n",
       "      <td>0.893617</td>\n",
       "      <td>0.000000</td>\n",
       "      <td>0.925234</td>\n",
       "      <td>0.923077</td>\n",
       "      <td>0.917526</td>\n",
       "    </tr>\n",
       "    <tr>\n",
       "      <th>atp</th>\n",
       "      <td>0.962500</td>\n",
       "      <td>0.961538</td>\n",
       "      <td>0.925234</td>\n",
       "      <td>0.000000</td>\n",
       "      <td>0.094595</td>\n",
       "      <td>0.213333</td>\n",
       "    </tr>\n",
       "    <tr>\n",
       "      <th>adp</th>\n",
       "      <td>0.961039</td>\n",
       "      <td>0.960000</td>\n",
       "      <td>0.923077</td>\n",
       "      <td>0.094595</td>\n",
       "      <td>0.000000</td>\n",
       "      <td>0.180556</td>\n",
       "    </tr>\n",
       "    <tr>\n",
       "      <th>amp</th>\n",
       "      <td>0.957143</td>\n",
       "      <td>0.955882</td>\n",
       "      <td>0.917526</td>\n",
       "      <td>0.213333</td>\n",
       "      <td>0.180556</td>\n",
       "      <td>0.000000</td>\n",
       "    </tr>\n",
       "  </tbody>\n",
       "</table>\n",
       "</div>"
      ],
      "text/plain": [
       "              lactate  glycolate  tryptophane       atp       adp       amp\n",
       "lactate      0.000000   0.750000     0.875000  0.962500  0.961039  0.957143\n",
       "glycolate    0.750000   0.000000     0.893617  0.961538  0.960000  0.955882\n",
       "tryptophane  0.875000   0.893617     0.000000  0.925234  0.923077  0.917526\n",
       "atp          0.962500   0.961538     0.925234  0.000000  0.094595  0.213333\n",
       "adp          0.961039   0.960000     0.923077  0.094595  0.000000  0.180556\n",
       "amp          0.957143   0.955882     0.917526  0.213333  0.180556  0.000000"
      ]
     },
     "execution_count": 77,
     "metadata": {},
     "output_type": "execute_result"
    }
   ],
   "source": [
    "data_obj.distance()"
   ]
  },
  {
   "cell_type": "markdown",
   "metadata": {},
   "source": [
    "Get similarity statistics (minimum similarity, maximum similarity, etc.) for each molecule in the whole set. The diagonal (self-similarity) is ignored in these calculations. Molecules with a low max and a low sum might be considered outliers."
   ]
  },
  {
   "cell_type": "code",
   "execution_count": 78,
   "metadata": {},
   "outputs": [
    {
     "data": {
      "text/html": [
       "<div>\n",
       "<style scoped>\n",
       "    .dataframe tbody tr th:only-of-type {\n",
       "        vertical-align: middle;\n",
       "    }\n",
       "\n",
       "    .dataframe tbody tr th {\n",
       "        vertical-align: top;\n",
       "    }\n",
       "\n",
       "    .dataframe thead th {\n",
       "        text-align: right;\n",
       "    }\n",
       "</style>\n",
       "<table border=\"1\" class=\"dataframe\">\n",
       "  <thead>\n",
       "    <tr style=\"text-align: right;\">\n",
       "      <th></th>\n",
       "      <th>min</th>\n",
       "      <th>max</th>\n",
       "      <th>sum</th>\n",
       "      <th>median</th>\n",
       "      <th>mean</th>\n",
       "      <th>stdev</th>\n",
       "    </tr>\n",
       "  </thead>\n",
       "  <tbody>\n",
       "    <tr>\n",
       "      <th>lactate</th>\n",
       "      <td>0.037500</td>\n",
       "      <td>0.250000</td>\n",
       "      <td>0.494318</td>\n",
       "      <td>0.042857</td>\n",
       "      <td>0.098864</td>\n",
       "      <td>0.092217</td>\n",
       "    </tr>\n",
       "    <tr>\n",
       "      <th>glycolate</th>\n",
       "      <td>0.038462</td>\n",
       "      <td>0.250000</td>\n",
       "      <td>0.478962</td>\n",
       "      <td>0.044118</td>\n",
       "      <td>0.095792</td>\n",
       "      <td>0.090777</td>\n",
       "    </tr>\n",
       "    <tr>\n",
       "      <th>tryptophane</th>\n",
       "      <td>0.074766</td>\n",
       "      <td>0.125000</td>\n",
       "      <td>0.465547</td>\n",
       "      <td>0.082474</td>\n",
       "      <td>0.093109</td>\n",
       "      <td>0.021822</td>\n",
       "    </tr>\n",
       "    <tr>\n",
       "      <th>atp</th>\n",
       "      <td>0.037500</td>\n",
       "      <td>0.905405</td>\n",
       "      <td>1.842800</td>\n",
       "      <td>0.074766</td>\n",
       "      <td>0.368560</td>\n",
       "      <td>0.438149</td>\n",
       "    </tr>\n",
       "    <tr>\n",
       "      <th>adp</th>\n",
       "      <td>0.038961</td>\n",
       "      <td>0.905405</td>\n",
       "      <td>1.880734</td>\n",
       "      <td>0.076923</td>\n",
       "      <td>0.376147</td>\n",
       "      <td>0.445211</td>\n",
       "    </tr>\n",
       "    <tr>\n",
       "      <th>amp</th>\n",
       "      <td>0.042857</td>\n",
       "      <td>0.819444</td>\n",
       "      <td>1.775560</td>\n",
       "      <td>0.082474</td>\n",
       "      <td>0.355112</td>\n",
       "      <td>0.409389</td>\n",
       "    </tr>\n",
       "  </tbody>\n",
       "</table>\n",
       "</div>"
      ],
      "text/plain": [
       "                  min       max       sum    median      mean     stdev\n",
       "lactate      0.037500  0.250000  0.494318  0.042857  0.098864  0.092217\n",
       "glycolate    0.038462  0.250000  0.478962  0.044118  0.095792  0.090777\n",
       "tryptophane  0.074766  0.125000  0.465547  0.082474  0.093109  0.021822\n",
       "atp          0.037500  0.905405  1.842800  0.074766  0.368560  0.438149\n",
       "adp          0.038961  0.905405  1.880734  0.076923  0.376147  0.445211\n",
       "amp          0.042857  0.819444  1.775560  0.082474  0.355112  0.409389"
      ]
     },
     "execution_count": 78,
     "metadata": {},
     "output_type": "execute_result"
    }
   ],
   "source": [
    "sim_data = data_obj.molecule_similarity_stats()\n",
    "\n",
    "sim_data\n"
   ]
  },
  {
   "cell_type": "markdown",
   "metadata": {},
   "source": [
    "Get similarity statistics for the entire set of molecules."
   ]
  },
  {
   "cell_type": "code",
   "execution_count": 79,
   "metadata": {},
   "outputs": [
    {
     "data": {
      "text/plain": [
       "{'min': 0.0375,\n",
       " 'max': 0.9054054054054054,\n",
       " 'sum': 3.468960521445852,\n",
       " 'median': 0.07692307692307693,\n",
       " 'mean': 0.2312640347630568,\n",
       " 'stdev': 0.3190818179151157}"
      ]
     },
     "execution_count": 79,
     "metadata": {},
     "output_type": "execute_result"
    }
   ],
   "source": [
    "sim_data = data_obj.global_similarity_stats()\n",
    "\n",
    "sim_data"
   ]
  },
  {
   "cell_type": "markdown",
   "metadata": {},
   "source": [
    "Get a subset of diverse molecules, chosen from the total set of molecules. It is possible to specify already selected molecules in the \"firstpicks\" argument."
   ]
  },
  {
   "cell_type": "code",
   "execution_count": 80,
   "metadata": {},
   "outputs": [
    {
     "data": {
      "text/plain": [
       "['glycolate', 'atp', 'tryptophane']"
      ]
     },
     "execution_count": 80,
     "metadata": {},
     "output_type": "execute_result"
    }
   ],
   "source": [
    "data_obj.diversity_pick(n=3, firstpicks=['glycolate'])"
   ]
  },
  {
   "cell_type": "markdown",
   "metadata": {},
   "source": [
    "Draw all molecules. These are aligned based on their maximum common substrucuture, which, in the case shown here, is not highlighted."
   ]
  },
  {
   "cell_type": "code",
   "execution_count": 81,
   "metadata": {},
   "outputs": [
    {
     "data": {
      "image/png": "[encoded data removed]",
      "text/plain": [
       "<PIL.PngImagePlugin.PngImageFile image mode=RGB size=600x900 at 0x7F9BB761D5F8>"
      ]
     },
     "execution_count": 81,
     "metadata": {},
     "output_type": "execute_result"
    }
   ],
   "source": [
    "data_obj.draw_structures()"
   ]
  },
  {
   "cell_type": "markdown",
   "metadata": {},
   "source": [
    "Optionally one can also highlight the maximum common substrucuture setting the \"highlight_substructure\" to True"
   ]
  },
  {
   "cell_type": "code",
   "execution_count": 82,
   "metadata": {},
   "outputs": [
    {
     "data": {
      "image/png": "[encoded data removed]",
      "text/plain": [
       "<PIL.PngImagePlugin.PngImageFile image mode=RGB size=600x900 at 0x7F9BB761D4A8>"
      ]
     },
     "execution_count": 82,
     "metadata": {},
     "output_type": "execute_result"
    }
   ],
   "source": [
    "data_obj.draw_structures(highlight_substructure=True)"
   ]
  },
  {
   "cell_type": "markdown",
   "metadata": {},
   "source": [
    "One can specifically compare the structure of two molecules."
   ]
  },
  {
   "cell_type": "code",
   "execution_count": 83,
   "metadata": {
    "scrolled": false
   },
   "outputs": [
    {
     "data": {
      "text/plain": [
       "(<Figure size 180x180 with 1 Axes>, 0.17307692307692307)"
      ]
     },
     "execution_count": 83,
     "metadata": {},
     "output_type": "execute_result"
    },
    {
     "data": {
      "image/png": "[encoded data removed]",
      "text/plain": [
       "<Figure size 180x180 with 1 Axes>"
      ]
     },
     "metadata": {
      "needs_background": "light"
     },
     "output_type": "display_data"
    }
   ],
   "source": [
    "data_obj.draw_mol_comparison(refmol='lactate', mol='glycolate')"
   ]
  },
  {
   "cell_type": "markdown",
   "metadata": {},
   "source": [
    "Cluster the molecules and obtain a vector indicating cluster identity for each molecule. In this case Butina clustering is used on already pre-computed distances."
   ]
  },
  {
   "cell_type": "code",
   "execution_count": 84,
   "metadata": {},
   "outputs": [
    {
     "data": {
      "text/plain": [
       "[3, 2, 1, 0, 0, 0]"
      ]
     },
     "execution_count": 84,
     "metadata": {},
     "output_type": "execute_result"
    }
   ],
   "source": [
    "data_obj.cluster_butina()"
   ]
  },
  {
   "cell_type": "markdown",
   "metadata": {},
   "source": [
    "Other cluster methods..."
   ]
  },
  {
   "cell_type": "code",
   "execution_count": 85,
   "metadata": {},
   "outputs": [],
   "source": [
    "# here"
   ]
  },
  {
   "cell_type": "markdown",
   "metadata": {},
   "source": [
    "### Plotting\n"
   ]
  },
  {
   "cell_type": "markdown",
   "metadata": {},
   "source": [
    "Use PCA to visualize the relationship between all molecules __based on molecule fingerprints__. \n",
    "\n",
    "Optional arguments include:\n",
    "\n",
    "include_labels: True or False\n",
    "\n",
    "color_categories: None or a list of numbers the same length as the data indicating which point belong to what group.\n",
    "\n",
    "No color but with labels"
   ]
  },
  {
   "cell_type": "code",
   "execution_count": 86,
   "metadata": {},
   "outputs": [
    {
     "data": {
      "text/plain": [
       "<matplotlib.collections.PathCollection at 0x7f9bb7498208>"
      ]
     },
     "execution_count": 86,
     "metadata": {},
     "output_type": "execute_result"
    },
    {
     "data": {
      "image/png": "[encoded data removed]",
      "text/plain": [
       "<Figure size 432x288 with 1 Axes>"
      ]
     },
     "metadata": {
      "needs_background": "light"
     },
     "output_type": "display_data"
    }
   ],
   "source": [
    "data_obj.pca(include_labels=True)"
   ]
  },
  {
   "cell_type": "markdown",
   "metadata": {},
   "source": [
    "No labels, but with coloring"
   ]
  },
  {
   "cell_type": "code",
   "execution_count": 87,
   "metadata": {},
   "outputs": [
    {
     "data": {
      "text/plain": [
       "<matplotlib.collections.PathCollection at 0x7f9bb70ebef0>"
      ]
     },
     "execution_count": 87,
     "metadata": {},
     "output_type": "execute_result"
    },
    {
     "data": {
      "image/png": "[encoded data removed]",
      "text/plain": [
       "<Figure size 432x288 with 1 Axes>"
      ]
     },
     "metadata": {
      "needs_background": "light"
     },
     "output_type": "display_data"
    }
   ],
   "source": [
    "data_obj.pca(color_categories=[3, 2, 1, 0, 0, 0])"
   ]
  },
  {
   "cell_type": "markdown",
   "metadata": {},
   "source": [
    "Use MDS to visualize the relationship between all molecules __based on pre-computed distances__. The options are same as for PCA. First with labels."
   ]
  },
  {
   "cell_type": "code",
   "execution_count": 88,
   "metadata": {},
   "outputs": [
    {
     "data": {
      "text/plain": [
       "<matplotlib.collections.PathCollection at 0x7f9bb7070a58>"
      ]
     },
     "execution_count": 88,
     "metadata": {},
     "output_type": "execute_result"
    },
    {
     "data": {
      "image/png": "[encoded data removed]",
      "text/plain": [
       "<Figure size 432x288 with 1 Axes>"
      ]
     },
     "metadata": {
      "needs_background": "light"
     },
     "output_type": "display_data"
    }
   ],
   "source": [
    "data_obj.mds(include_labels=True)"
   ]
  },
  {
   "cell_type": "markdown",
   "metadata": {},
   "source": [
    "Now with colors instead of labels."
   ]
  },
  {
   "cell_type": "code",
   "execution_count": 89,
   "metadata": {},
   "outputs": [
    {
     "data": {
      "text/plain": [
       "<matplotlib.collections.PathCollection at 0x7f9bb8238da0>"
      ]
     },
     "execution_count": 89,
     "metadata": {},
     "output_type": "execute_result"
    },
    {
     "data": {
      "image/png": "[encoded data removed]",
      "text/plain": [
       "<Figure size 432x288 with 1 Axes>"
      ]
     },
     "metadata": {
      "needs_background": "light"
     },
     "output_type": "display_data"
    }
   ],
   "source": [
    "data_obj.mds(color_categories=[3, 2, 1, 0, 0, 0])"
   ]
  },
  {
   "cell_type": "markdown",
   "metadata": {},
   "source": [
    "Use t-SNE to visualize the relationship between all molecules __based on molecule fingerprints__. The options are same as for PCA. First with labels."
   ]
  },
  {
   "cell_type": "code",
   "execution_count": 90,
   "metadata": {},
   "outputs": [
    {
     "data": {
      "text/plain": [
       "<matplotlib.collections.PathCollection at 0x7f9bb7b9d358>"
      ]
     },
     "execution_count": 90,
     "metadata": {},
     "output_type": "execute_result"
    },
    {
     "data": {
      "image/png": "[encoded data removed]",
      "text/plain": [
       "<Figure size 432x288 with 1 Axes>"
      ]
     },
     "metadata": {
      "needs_background": "light"
     },
     "output_type": "display_data"
    }
   ],
   "source": [
    "data_obj.tsne(include_labels=True)"
   ]
  },
  {
   "cell_type": "markdown",
   "metadata": {},
   "source": [
    "Now with colors instead of labels."
   ]
  },
  {
   "cell_type": "code",
   "execution_count": 91,
   "metadata": {},
   "outputs": [
    {
     "data": {
      "text/plain": [
       "<matplotlib.collections.PathCollection at 0x7f9bb798ca90>"
      ]
     },
     "execution_count": 91,
     "metadata": {},
     "output_type": "execute_result"
    },
    {
     "data": {
      "image/png": "[encoded data removed]",
      "text/plain": [
       "<Figure size 432x288 with 1 Axes>"
      ]
     },
     "metadata": {
      "needs_background": "light"
     },
     "output_type": "display_data"
    }
   ],
   "source": [
    "data_obj.tsne(color_categories=[3, 2, 1, 0, 0, 0])"
   ]
  },
  {
   "cell_type": "markdown",
   "metadata": {},
   "source": [
    "## Example usage"
   ]
  },
  {
   "cell_type": "markdown",
   "metadata": {},
   "source": [
    "So let's say I'm interested in looking at EC 1.1.3.15. I might do something along these lines:"
   ]
  },
  {
   "cell_type": "code",
   "execution_count": 92,
   "metadata": {},
   "outputs": [
    {
     "data": {
      "text/plain": [
       "['2 -hydroxyisocaproate',\n",
       " '2-hydroxy octanoate',\n",
       " '2-hydroxy palmitate',\n",
       " '2-hydroxy-3-butynoate',\n",
       " '2-hydroxy-3-heptynoate',\n",
       " '2-hydroxy-3-hexynoate',\n",
       " '2-hydroxy-3-methylvalerate',\n",
       " '2-hydroxy-3-octynoate',\n",
       " '2-hydroxy-3-pentynoate',\n",
       " '2-hydroxy-4-methylmercaptobutyrate',\n",
       " '2-hydroxy-4-methylthiobutanoic acid',\n",
       " '2-hydroxy-beta-methylvalerate',\n",
       " '2-hydroxybutanoate',\n",
       " '2-hydroxybutyrate',\n",
       " '2-hydroxycaproate',\n",
       " '2-hydroxycaprylate',\n",
       " '2-hydroxydecanoate',\n",
       " '2-hydroxydodecanoate',\n",
       " '2-hydroxyisocaproate',\n",
       " '2-hydroxyisovalerate',\n",
       " '2-hydroxyoctanoate',\n",
       " '2-hydroxypalmitate',\n",
       " '2-hydroxyphenyllactate',\n",
       " '2-hydroxyvalerate',\n",
       " '3-chlorolactate',\n",
       " '3-indolelactate',\n",
       " '3-methoxy-4-hydroxymandelate',\n",
       " '4-chloromandelate',\n",
       " '4-fluoromandelate',\n",
       " '4-methoxymandelate',\n",
       " '4-methylmandelate',\n",
       " '4-nitromandelate',\n",
       " '4-trifluoromethylmandelate',\n",
       " 'alanine',\n",
       " 'an (s)-2-hydroxy carboxylate',\n",
       " 'beta-phenyllactate',\n",
       " 'glycerate',\n",
       " 'glycolate',\n",
       " 'glyoxalate',\n",
       " 'glyoxylate',\n",
       " 'glyoxylate thiohemiacetals',\n",
       " 'homoserine',\n",
       " 'isoleucic acid',\n",
       " 'isoleucine',\n",
       " 'lactate',\n",
       " 'leucine',\n",
       " 'lysine',\n",
       " 'mandelate',\n",
       " 'methionine',\n",
       " 'p-hydroxy-beta-phenyllactate',\n",
       " 'p-hydroxymandelate',\n",
       " 'phenylalanine',\n",
       " 'phenyllactate',\n",
       " 'thiol-glyoxylate adducts',\n",
       " 'tryptophan',\n",
       " 'tyrosine',\n",
       " 'valic acid',\n",
       " 'valine',\n",
       " 'vinylglycolate']"
      ]
     },
     "execution_count": 92,
     "metadata": {},
     "output_type": "execute_result"
    }
   ],
   "source": [
    "# first get all the substrates\n",
    "mol_obj = brenda.BrendaMols(typeof='substrate') \n",
    "my_ec_data = mol_obj.data_dict()['1.1.3.15']\n",
    "\n",
    "my_ec_data"
   ]
  },
  {
   "cell_type": "code",
   "execution_count": 93,
   "metadata": {},
   "outputs": [
    {
     "data": {
      "text/plain": [
       "{'2 -hydroxyisocaproate': 'CC(C)CC(O)C([O-])=O',\n",
       " '2-hydroxy-3-butynoate': 'CCOC(=O)C(C#C)O',\n",
       " '2-hydroxy-3-heptynoate': 'CCCC#CC(O)C([O-])=O',\n",
       " '2-hydroxy-3-hexynoate': 'CCC#CC(O)C([O-])=O',\n",
       " '2-hydroxy-3-methylvalerate': 'CCC(C)C(C(=O)O)O',\n",
       " '2-hydroxy-3-octynoate': 'CCCCC#CC(O)C([O-])=O',\n",
       " '2-hydroxy-3-pentynoate': 'CC#CC(O)C([O-])=O',\n",
       " '2-hydroxy-4-methylmercaptobutyrate': 'CSCCC(O)C([O-])=O',\n",
       " '2-hydroxy-4-methylthiobutanoic acid': 'CSCCC(C(=O)O)O',\n",
       " '2-hydroxy-beta-methylvalerate': 'CCC(C)C(O)C([O-])=O',\n",
       " '2-hydroxybutanoate': 'CCC(C(=O)[O-])O',\n",
       " '2-hydroxybutyrate': 'CCC(C(=O)O)O',\n",
       " '2-hydroxycaproate': 'CCCCC(C(=O)O)O',\n",
       " '2-hydroxycaprylate': 'CCCCCCC(C(=O)O)O',\n",
       " '2-hydroxydecanoate': 'CCCCCCCCC(C(=O)O)O',\n",
       " '2-hydroxydodecanoate': 'CCCCCCCCCCC(C(=O)[O-])O',\n",
       " '2-hydroxyisocaproate': 'CC(C)CC(C(=O)O)O',\n",
       " '2-hydroxyisovalerate': 'CC(C)C(C(=O)O)O',\n",
       " '2-hydroxyoctanoate': 'CCCCCCC(C(=O)O)O',\n",
       " '2-hydroxypalmitate': 'CCCCCCCCCCCCCCC(C(=O)[O-])O',\n",
       " '2-hydroxyphenyllactate': 'CC(O)(C([O-])=O)c1ccccc1O',\n",
       " '2-hydroxyvalerate': 'CCCC(C(=O)O)O',\n",
       " '3-chlorolactate': 'C(C(C(=O)O)O)Cl',\n",
       " '3-indolelactate': 'OC(Cc1c[nH]c2ccccc12)C([O-])=O',\n",
       " '3-methoxy-4-hydroxymandelate': 'COC1=C(C=CC(=C1)C(C(=O)O)O)O',\n",
       " 'alanine': 'CC(C(=O)O)N',\n",
       " 'beta-phenyllactate': 'C1=CC=C(C=C1)CC(C(=O)O)O',\n",
       " 'glycerate': 'OCC(O)C([O-])=O',\n",
       " 'glycolate': 'C(C(=O)O)O',\n",
       " 'glyoxalate': 'C(=O)C(=O)O',\n",
       " 'glyoxylate': 'C(=O)C(=O)O',\n",
       " 'homoserine': 'C(CO)C(C(=O)O)N',\n",
       " 'isoleucic acid': 'CCC(C)C(C(=O)O)O',\n",
       " 'isoleucine': 'CCC(C)C(C(=O)O)N',\n",
       " 'lactate': 'CC(C(=O)O)O',\n",
       " 'leucine': 'CC(C)CC(C(=O)O)N',\n",
       " 'lysine': 'C(CCN)CC(C(=O)O)N',\n",
       " 'mandelate': 'C1=CC=C(C=C1)C(C(=O)[O-])O',\n",
       " 'methionine': 'CSCCC(C(=O)O)N',\n",
       " 'p-hydroxy-beta-phenyllactate': 'OC(Cc1ccc(O)cc1)C([O-])=O',\n",
       " 'p-hydroxymandelate': 'C1=CC(=CC=C1C(C(=O)O)O)O',\n",
       " 'phenylalanine': 'C1=CC=C(C=C1)CC(C(=O)O)N',\n",
       " 'phenyllactate': 'CC(O)C(=O)Oc1ccccc1',\n",
       " 'tryptophan': 'C1=CC=C2C(=C1)C(=CN2)CC(C(=O)O)N',\n",
       " 'tyrosine': 'C1=CC(=CC=C1CC(C(=O)O)N)O',\n",
       " 'valine': 'CC(C)C(C(=O)O)N',\n",
       " 'vinylglycolate': 'C=COC(=O)CO'}"
      ]
     },
     "execution_count": 93,
     "metadata": {},
     "output_type": "execute_result"
    }
   ],
   "source": [
    "# need to get smiles for these substrates\n",
    "chem_obj = cheminfo.NameToSmile(names=my_ec_data)\n",
    "\n",
    "# as you can see any \"strange\" substrates that did not give smiles have been excluded\n",
    "chem_obj.data_dict()"
   ]
  },
  {
   "cell_type": "code",
   "execution_count": 94,
   "metadata": {},
   "outputs": [
    {
     "data": {
      "text/plain": [
       "<matplotlib.collections.PathCollection at 0x7f9bb82b0f98>"
      ]
     },
     "execution_count": 94,
     "metadata": {},
     "output_type": "execute_result"
    },
    {
     "data": {
      "image/png": "[encoded data removed]",
      "text/plain": [
       "<Figure size 432x288 with 1 Axes>"
      ]
     },
     "metadata": {
      "needs_background": "light"
     },
     "output_type": "display_data"
    }
   ],
   "source": [
    "# now I make the data object to do the fun stuff\n",
    "data_obj = cheminfo.SmileToData(names=chem_obj.names(),\n",
    "                                smiles=chem_obj.smiles(), \n",
    "                                descriptor='morgan3', \n",
    "                                metric='tanimoto')\n",
    "\n",
    "# cluster them\n",
    "clu = data_obj.cluster_butina()\n",
    "\n",
    "# use to cluster categories to color points in an MDS plot\n",
    "data_obj.mds(include_labels=True, color_categories=clu)"
   ]
  },
  {
   "cell_type": "code",
   "execution_count": 95,
   "metadata": {},
   "outputs": [
    {
     "data": {
      "text/plain": [
       "{'min': 0.061224489795918366,\n",
       " 'max': 1.0,\n",
       " 'sum': 236.9613845008384,\n",
       " 'median': 0.19047619047619047,\n",
       " 'mean': 0.21920572109235745,\n",
       " 'stdev': 0.12151247459320104}"
      ]
     },
     "execution_count": 95,
     "metadata": {},
     "output_type": "execute_result"
    }
   ],
   "source": [
    "# that's a lot of different types of molecules in there, I wonder how similar they are on average\n",
    "data_obj.global_similarity_stats()"
   ]
  },
  {
   "cell_type": "code",
   "execution_count": 96,
   "metadata": {},
   "outputs": [
    {
     "data": {
      "text/plain": [
       "<matplotlib.collections.PathCollection at 0x7f9bac309f60>"
      ]
     },
     "execution_count": 96,
     "metadata": {},
     "output_type": "execute_result"
    },
    {
     "data": {
      "image/png": "[encoded data removed]",
      "text/plain": [
       "<Figure size 432x288 with 1 Axes>"
      ]
     },
     "metadata": {
      "needs_background": "light"
     },
     "output_type": "display_data"
    }
   ],
   "source": [
    "# I happen to know that EC 1.4.3.2 is also active on a range of substrates. \n",
    "# I wonder if that EC class takes substrates that are on average more or less similar\n",
    "\n",
    "my_ec_data = mol_obj.data_dict()['1.4.3.2']\n",
    "chem_obj = cheminfo.NameToSmile(names=my_ec_data)\n",
    "data_obj = cheminfo.SmileToData(names=chem_obj.names(),\n",
    "                                smiles=chem_obj.smiles(), \n",
    "                                descriptor='morgan3', \n",
    "                                metric='tanimoto')\n",
    "\n",
    "# cluster them\n",
    "clu = data_obj.cluster_butina()\n",
    "\n",
    "# use to cluster categories to color points in an MDS plot\n",
    "data_obj.mds(include_labels=True, color_categories=clu)"
   ]
  },
  {
   "cell_type": "code",
   "execution_count": 97,
   "metadata": {},
   "outputs": [
    {
     "data": {
      "text/plain": [
       "{'min': 0.021739130434782608,\n",
       " 'max': 1.0,\n",
       " 'sum': 1216.469725025713,\n",
       " 'median': 0.2391304347826087,\n",
       " 'mean': 0.255937244903369,\n",
       " 'stdev': 0.12118952725373278}"
      ]
     },
     "execution_count": 97,
     "metadata": {},
     "output_type": "execute_result"
    }
   ],
   "source": [
    "# seems like the mean similarity is a bit higher here, but on the whole I would say they are comparable\n",
    "data_obj.global_similarity_stats()"
   ]
  },
  {
   "cell_type": "code",
   "execution_count": 98,
   "metadata": {},
   "outputs": [
    {
     "data": {
      "image/png": "[encoded data removed]",
      "text/plain": [
       "<rdkit.Chem.rdchem.Mol at 0x7f9ba6b8d800>"
      ]
     },
     "execution_count": 98,
     "metadata": {},
     "output_type": "execute_result"
    }
   ],
   "source": [
    "# what is orn? Don't know what that is really..\n",
    "\n",
    "data_obj.molecules('orn')\n",
    "\n",
    "# Aha, looks like ornithine! Who would have guessed..."
   ]
  }
 ],
 "metadata": {
  "kernelspec": {
   "display_name": "Python 3",
   "language": "python",
   "name": "python3"
  },
  "language_info": {
   "codemirror_mode": {
    "name": "ipython",
    "version": 3
   },
   "file_extension": ".py",
   "mimetype": "text/x-python",
   "name": "python",
   "nbconvert_exporter": "python",
   "pygments_lexer": "ipython3",
   "version": "3.7.1"
  }
 },
 "nbformat": 4,
 "nbformat_minor": 2
}
