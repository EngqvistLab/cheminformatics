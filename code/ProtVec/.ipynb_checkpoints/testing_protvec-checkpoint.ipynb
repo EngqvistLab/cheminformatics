{
 "cells": [
  {
   "cell_type": "code",
   "execution_count": 1,
   "metadata": {},
   "outputs": [
    {
     "name": "stdout",
     "output_type": "stream",
     "text": [
      "   0         1         2         3         4         5         6         7    \\\n",
      "0  AAA -0.174060 -0.095756  0.059515  0.039673 -0.375934 -0.115415  0.090725   \n",
      "1  ALA -0.114085 -0.093288  0.155800 -0.037351 -0.121446  0.084037  0.023819   \n",
      "2  LLL -0.075594 -0.100834 -0.046616 -0.208980 -0.008596 -0.038612 -0.049360   \n",
      "3  LAA -0.137546 -0.135425  0.121566 -0.038295 -0.212129  0.040009  0.078545   \n",
      "4  AAL -0.156112 -0.133524  0.114426 -0.020264 -0.058513  0.057005  0.076881   \n",
      "\n",
      "        8         9      ...          91        92        93        94   \\\n",
      "0  0.173422  0.292520    ...     0.244482  0.015974  0.012903  0.137528   \n",
      "1  0.093442  0.143256    ...     0.075584 -0.139661  0.034863  0.056078   \n",
      "2  0.060720 -0.062662    ...     0.174677 -0.175961 -0.193242 -0.072965   \n",
      "3  0.029837  0.138343    ...     0.133947 -0.156484 -0.048541  0.141848   \n",
      "4  0.054781  0.129436    ...     0.154597 -0.050440  0.054866  0.066185   \n",
      "\n",
      "        95        96        97        98        99        100  \n",
      "0  0.138140  0.005474  0.070719 -0.164084 -0.179274  0.184899  \n",
      "1  0.028975 -0.012233  0.059669  0.037811 -0.172493  0.074655  \n",
      "2 -0.075560  0.158286 -0.026378  0.037155 -0.176038  0.319293  \n",
      "3  0.081842  0.070573  0.006927  0.035281 -0.138971  0.105997  \n",
      "4  0.017498  0.001773 -0.083944 -0.003867 -0.106367  0.070706  \n",
      "\n",
      "[5 rows x 101 columns]\n"
     ]
    }
   ],
   "source": [
    "# get the vector data\n",
    "\n",
    "import pandas as pd\n",
    "\n",
    "filename = 'protVec_100d_3grams.tsv'\n",
    "\n",
    "    \n",
    "def load_data(filepath):\n",
    "    '''\n",
    "    Load up the vector data\n",
    "    '''\n",
    "    return pd.read_csv(filepath, header=None, sep='\\t')\n",
    "    \n",
    "# load up the enbedding data\n",
    "enbedding_df = load_data(filename)   \n",
    "\n",
    "print(enbedding_df.head())\n",
    "\n"
   ]
  },
  {
   "cell_type": "code",
   "execution_count": 3,
   "metadata": {},
   "outputs": [
    {
     "name": "stdout",
     "output_type": "stream",
     "text": [
      "time per seq:  0.013712997436523438\n"
     ]
    }
   ],
   "source": [
    "\n",
    "seq = \"MAVSAGSARTSPSSDKVQKDKAELISGPRQDSRIGKLLGFEWTDLSSWRRLVTLLNRPTDPASLAVFRFLFGFLMVLDIPQERGLSSLDRKYLDGLDVCRFPLLDALRPLPLDWMYLVYTIMFLGALGMMLGLCYRISCVLFLLPYWYVFLLDKTSWNNHSYLYGLLAFQLTFMDANHYWSVDGLLNAHRRNAHVPLWNYAVLRGQIFIVYFIAGVKKLDADWVEGYSMEYLSRHWLFSPFKLLLSEELTSLLVVHWGGLLLDLSAGFLLFFDVSRSIGLFFVSYFHCMNSQLFSIGMFSYVMLASSPLFCSPEWPRKLVSYCPRRLQQLLPLKAAPQPSVSCVYKRSRGKSGQKPGLRHQLGAAFTLLYLLEQLFLPYSHFLTQGYNNWTNGLYGYSWDMMVHSRSHQHVKITYRDGRTGELGYLNPGVFTQSRRWKDHADMLKQYATCLSRLLPKYNVTEPQIYFDIWVSINDRFQQRIFDPRVDIVQAAWSPFQRTSWVQPLLMDLSPWRAKLQEIKSSLDNHTEVVFIADFPGLHLENFVSEDLGNTSIQLLQGEVTVELVAEQKNQTLREGEKMQLPAGEYHKVYTTSPSPSCYMYVYVNTTELALEQDLAYLQELKEKVENGSETGPLPPELQPLLEGEVKGGPEPTPLVQTFLRRQQRLQEIERRRNTPFHERFFRFLLRKLYVFRRSFLMTCISLRNLILGRPSLEQLAQEVTYANLRPFEAVGELNPSNTDSSHSNPPESNPDPVHSEF\"\n",
    "\n",
    "\n",
    "def round_number(x, factor=100):\n",
    "    '''\n",
    "    Multiply number by a factor and then convert to an int\n",
    "    '''\n",
    "    return int(round(x * factor))\n",
    "\n",
    "\n",
    "\n",
    "def score_seq(seq, enbedding, to_int=True):\n",
    "    '''\n",
    "    Use the embedding to calculate a feature vector for a protein sequence\n",
    "    '''\n",
    "    seq = seq.upper()\n",
    "    \n",
    "    # make all the three-mers\n",
    "    three_mers = [seq[i:i+3] for i in range(0, len(seq)-2)]\n",
    "\n",
    "    # convert the sequence 3-mer list to a data frame\n",
    "    three_mers_df = pd.DataFrame()\n",
    "    three_mers_df[0] = three_mers\n",
    "\n",
    "    # merge the two data frames, the merge happens on the sequence trimers\n",
    "    merged_df = pd.merge(three_mers_df, enbedding, on=[0])\n",
    "\n",
    "    # sum the columns and remove the sequence information (first column)\n",
    "    vector_sums = merged_df.sum(axis = 0, skipna = False).drop(0)\n",
    "    \n",
    "    # to save on memory we may want to convert the folat to an int\n",
    "    if to_int is True:\n",
    "        vector_sums = vector_sums.apply(round_number)\n",
    "    \n",
    "    return vector_sums.tolist()\n",
    "\n",
    "\n",
    "\n",
    "\n",
    "# calculate an enbedded representation of the protein\n",
    "import time\n",
    "\n",
    "t1 = time.time()\n",
    "\n",
    "for i in range(100):\n",
    "    vector = score_seq(seq, enbedding_df, to_int=False)\n",
    "t2 = time.time()\n",
    "\n",
    "print('time per seq: ', (t2-t1)/100)\n",
    "\n",
    "# vector = score_seq(seq, enbedding_df, to_int=False)"
   ]
  },
  {
   "cell_type": "code",
   "execution_count": 155,
   "metadata": {},
   "outputs": [
    {
     "name": "stdout",
     "output_type": "stream",
     "text": [
      "[-58.42623600000004, -10.759072000000009, -13.220239000000014, -58.864606999999985, 5.2938949999999965, -5.665261000000001, 21.071880000000018, -6.472677000000012, -15.875790999999998, 45.233404999999934, -16.031058999999985, -0.7588179999999976, -1.8375699999999993, 25.224292000000016, -3.6504390000000058, 3.459047999999995, 22.93561100000002, -26.155718000000004, -0.3219120000000005, -8.340253999999998, -5.105318999999998, -25.539444000000003, -23.195275999999986, 8.482181999999995, -14.642847999999983, -16.008416999999987, -6.310184, -11.114567000000012, 1.3573780000000015, -11.257596000000005, 3.773756000000001, -40.655131999999966, -4.725194000000002, -18.26120500000001, 28.149715999999987, 10.776019, -30.35872500000001, 3.4987909999999935, 12.193397000000006, -11.294633, 19.950574000000007, 8.672497000000005, 17.572024999999993, -1.9167749999999986, 7.114125999999992, 1.085876000000003, -16.64910699999999, 7.0591729999999995, -9.182861000000003, 13.477858000000007, -29.455663999999953, -15.873150999999988, 8.849476999999998, -46.253799999999984, 15.671108000000014, -35.951111000000026, 3.9015610000000023, -8.177504999999995, -15.798398000000006, -30.49009900000002, 8.056532999999993, 56.23034299999997, 1.994186000000001, 4.763331999999998, 37.575118000000025, 12.85750299999998, 6.4962230000000085, 9.425566999999992, 26.338239, -6.725374999999993, -9.696974999999984, -2.592685000000003, 1.0715060000000003, 12.662369000000005, -13.946935000000002, -22.129173, 23.35871300000002, -27.666435000000018, 3.910431999999994, -15.535381000000001, -24.61078499999996, -4.104528000000001, 33.70052999999998, 10.554529000000027, 18.514428999999957, -28.456783999999978, -22.917654000000024, -10.90753399999999, -22.564262999999986, 16.913500999999986, 15.948071000000011, -16.246983000000004, -24.678089, -5.2488719999999995, 22.838699000000013, 1.3824260000000037, -21.60587400000002, -43.043337000000044, -21.65413799999997, 62.067598000000004]\n"
     ]
    }
   ],
   "source": [
    "print(vector)"
   ]
  }
 ],
 "metadata": {
  "kernelspec": {
   "display_name": "Python 3",
   "language": "python",
   "name": "python3"
  },
  "language_info": {
   "codemirror_mode": {
    "name": "ipython",
    "version": 3
   },
   "file_extension": ".py",
   "mimetype": "text/x-python",
   "name": "python",
   "nbconvert_exporter": "python",
   "pygments_lexer": "ipython3",
   "version": "3.6.3"
  }
 },
 "nbformat": 4,
 "nbformat_minor": 2
}
