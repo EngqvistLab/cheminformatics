{
 "cells": [
  {
   "cell_type": "code",
   "execution_count": null,
   "metadata": {},
   "outputs": [],
   "source": []
  },
  {
   "cell_type": "code",
   "execution_count": 1,
   "metadata": {},
   "outputs": [],
   "source": [
    "\n",
    "import pandas as pd\n",
    "import time\n",
    "import numpy as np\n",
    "from collections import Counter, defaultdict"
   ]
  },
  {
   "cell_type": "code",
   "execution_count": 61,
   "metadata": {},
   "outputs": [],
   "source": [
    "def load_data(filepath):\n",
    "    '''\n",
    "    Load up the vector data\n",
    "    '''\n",
    "    return pd.read_csv(filepath, header=None, sep='\\t')\n",
    "\n",
    "\n",
    "\n",
    "def round_number(x, factor=100):\n",
    "    '''\n",
    "    Multiply number by a factor and then convert to an int\n",
    "    '''\n",
    "    return int(round(x * factor))\n",
    "\n",
    "\n",
    "\n",
    "def score_seq_original(seq, enbedding, to_int=True):\n",
    "    '''\n",
    "    Use the embedding to calculate a feature vector for a protein sequence\n",
    "    '''\n",
    "    seq = seq.upper()\n",
    "    \n",
    "    # make all the three-mers\n",
    "    three_mers = [seq[i:i+3] for i in range(0, len(seq)-2)]\n",
    "\n",
    "    # convert the sequence 3-mer list to a data frame\n",
    "    three_mers_df = pd.DataFrame()\n",
    "    three_mers_df[0] = three_mers\n",
    "\n",
    "    # merge the two data frames, the merge happens on the sequence trimers\n",
    "    merged_df = pd.merge(three_mers_df, enbedding, on=[0])\n",
    "\n",
    "    # sum the columns and remove the sequence information (first column)\n",
    "    vector_sums = merged_df.sum(axis = 0, skipna = False).drop(0)\n",
    "    \n",
    "    # to save on memory we may want to convert the folat to an int\n",
    "    if to_int is True:\n",
    "        vector_sums = vector_sums.apply(round_number)\n",
    "    \n",
    "    return vector_sums.tolist()\n",
    "\n"
   ]
  },
  {
   "cell_type": "code",
   "execution_count": 63,
   "metadata": {},
   "outputs": [
    {
     "name": "stdout",
     "output_type": "stream",
     "text": [
      "time per seq:  0.013067100048065185\n",
      "[-58.42623600000004, -10.759072000000009, -13.220239000000014, -58.864606999999985, 5.2938949999999965, -5.665261000000001, 21.071880000000018, -6.472677000000012, -15.875790999999998, 45.233404999999934, -16.031058999999985, -0.7588179999999976, -1.8375699999999993, 25.224292000000016, -3.6504390000000058, 3.459047999999995, 22.93561100000002, -26.155718000000004, -0.3219120000000005, -8.340253999999998, -5.105318999999998, -25.539444000000003, -23.195275999999986, 8.482181999999995, -14.642847999999983, -16.008416999999987, -6.310184, -11.114567000000012, 1.3573780000000015, -11.257596000000005, 3.773756000000001, -40.655131999999966, -4.725194000000002, -18.26120500000001, 28.149715999999987, 10.776019, -30.35872500000001, 3.4987909999999935, 12.193397000000006, -11.294633, 19.950574000000007, 8.672497000000005, 17.572024999999993, -1.9167749999999986, 7.114125999999992, 1.085876000000003, -16.64910699999999, 7.0591729999999995, -9.182861000000003, 13.477858000000007, -29.455663999999953, -15.873150999999988, 8.849476999999998, -46.253799999999984, 15.671108000000014, -35.951111000000026, 3.9015610000000023, -8.177504999999995, -15.798398000000006, -30.49009900000002, 8.056532999999993, 56.23034299999997, 1.994186000000001, 4.763331999999998, 37.575118000000025, 12.85750299999998, 6.4962230000000085, 9.425566999999992, 26.338239, -6.725374999999993, -9.696974999999984, -2.592685000000003, 1.0715060000000003, 12.662369000000005, -13.946935000000002, -22.129173, 23.35871300000002, -27.666435000000018, 3.910431999999994, -15.535381000000001, -24.61078499999996, -4.104528000000001, 33.70052999999998, 10.554529000000027, 18.514428999999957, -28.456783999999978, -22.917654000000024, -10.90753399999999, -22.564262999999986, 16.913500999999986, 15.948071000000011, -16.246983000000004, -24.678089, -5.2488719999999995, 22.838699000000013, 1.3824260000000037, -21.60587400000002, -43.043337000000044, -21.65413799999997, 62.067598000000004]\n"
     ]
    }
   ],
   "source": [
    "\n",
    "    \n",
    "# load up the enbedding data\n",
    "enbedding_df = load_data(filename)   \n",
    "\n",
    "\n",
    "\n",
    "\n",
    "\n",
    "seq = \"MAVSAGSARTSPSSDKVQKDKAELISGPRQDSRIGKLLGFEWTDLSSWRRLVTLLNRPTDPASLAVFRFLFGFLMVLDIPQERGLSSLDRKYLDGLDVCRFPLLDALRPLPLDWMYLVYTIMFLGALGMMLGLCYRISCVLFLLPYWYVFLLDKTSWNNHSYLYGLLAFQLTFMDANHYWSVDGLLNAHRRNAHVPLWNYAVLRGQIFIVYFIAGVKKLDADWVEGYSMEYLSRHWLFSPFKLLLSEELTSLLVVHWGGLLLDLSAGFLLFFDVSRSIGLFFVSYFHCMNSQLFSIGMFSYVMLASSPLFCSPEWPRKLVSYCPRRLQQLLPLKAAPQPSVSCVYKRSRGKSGQKPGLRHQLGAAFTLLYLLEQLFLPYSHFLTQGYNNWTNGLYGYSWDMMVHSRSHQHVKITYRDGRTGELGYLNPGVFTQSRRWKDHADMLKQYATCLSRLLPKYNVTEPQIYFDIWVSINDRFQQRIFDPRVDIVQAAWSPFQRTSWVQPLLMDLSPWRAKLQEIKSSLDNHTEVVFIADFPGLHLENFVSEDLGNTSIQLLQGEVTVELVAEQKNQTLREGEKMQLPAGEYHKVYTTSPSPSCYMYVYVNTTELALEQDLAYLQELKEKVENGSETGPLPPELQPLLEGEVKGGPEPTPLVQTFLRRQQRLQEIERRRNTPFHERFFRFLLRKLYVFRRSFLMTCISLRNLILGRPSLEQLAQEVTYANLRPFEAVGELNPSNTDSSHSNPPESNPDPVHSEF\"\n",
    "\n",
    "n = 100\n",
    "\n",
    "t1 = time.time()\n",
    "\n",
    "for i in range(n):\n",
    "    vector = score_seq_original(seq, enbedding_df, to_int=False)\n",
    "t2 = time.time()\n",
    "\n",
    "print('time per seq: ', (t2-t1)/n)\n",
    "\n",
    "print(vector)\n"
   ]
  },
  {
   "cell_type": "code",
   "execution_count": 2,
   "metadata": {},
   "outputs": [],
   "source": []
  },
  {
   "cell_type": "code",
   "execution_count": 3,
   "metadata": {},
   "outputs": [
    {
     "name": "stdout",
     "output_type": "stream",
     "text": [
      "(9048, 100)\n",
      "          1         2         3         4         5         6         7    \\\n",
      "0                                                                           \n",
      "AAA -0.174060 -0.095756  0.059515  0.039673 -0.375934 -0.115415  0.090725   \n",
      "ALA -0.114085 -0.093288  0.155800 -0.037351 -0.121446  0.084037  0.023819   \n",
      "LLL -0.075594 -0.100834 -0.046616 -0.208980 -0.008596 -0.038612 -0.049360   \n",
      "LAA -0.137546 -0.135425  0.121566 -0.038295 -0.212129  0.040009  0.078545   \n",
      "AAL -0.156112 -0.133524  0.114426 -0.020264 -0.058513  0.057005  0.076881   \n",
      "\n",
      "          8         9         10     ...          91        92        93   \\\n",
      "0                                    ...                                    \n",
      "AAA  0.173422  0.292520  0.190375    ...     0.244482  0.015974  0.012903   \n",
      "ALA  0.093442  0.143256  0.044627    ...     0.075584 -0.139661  0.034863   \n",
      "LLL  0.060720 -0.062662 -0.155879    ...     0.174677 -0.175961 -0.193242   \n",
      "LAA  0.029837  0.138343  0.049377    ...     0.133947 -0.156484 -0.048541   \n",
      "AAL  0.054781  0.129436  0.019448    ...     0.154597 -0.050440  0.054866   \n",
      "\n",
      "          94        95        96        97        98        99        100  \n",
      "0                                                                          \n",
      "AAA  0.137528  0.138140  0.005474  0.070719 -0.164084 -0.179274  0.184899  \n",
      "ALA  0.056078  0.028975 -0.012233  0.059669  0.037811 -0.172493  0.074655  \n",
      "LLL -0.072965 -0.075560  0.158286 -0.026378  0.037155 -0.176038  0.319293  \n",
      "LAA  0.141848  0.081842  0.070573  0.006927  0.035281 -0.138971  0.105997  \n",
      "AAL  0.066185  0.017498  0.001773 -0.083944 -0.003867 -0.106367  0.070706  \n",
      "\n",
      "[5 rows x 100 columns]\n"
     ]
    }
   ],
   "source": [
    "\n",
    "\n"
   ]
  },
  {
   "cell_type": "code",
   "execution_count": 4,
   "metadata": {},
   "outputs": [],
   "source": [
    "def round_number(x, factor=100):\n",
    "    '''\n",
    "    Multiply number by a factor and then convert to an int\n",
    "    '''\n",
    "    return int(round(x * factor))"
   ]
  },
  {
   "cell_type": "code",
   "execution_count": 81,
   "metadata": {},
   "outputs": [],
   "source": [
    "def load_data(filename):\n",
    "    '''\n",
    "    Load up the vector data\n",
    "    '''\n",
    "    return pd.read_csv(filename, header=None, sep='\\t',index_col=0)\n",
    "\n",
    "\n",
    "def score_seq_gang(seq, enbedding, to_int=True):\n",
    "    '''\n",
    "    Use the embedding to calculate a feature vector for a protein sequence\n",
    "    '''\n",
    "    seq = seq.upper()\n",
    "    \n",
    "    # make all the three-mers\n",
    "    three_mers = dict()\n",
    "    for i in range(0, len(seq)-2): \n",
    "        kmer = seq[i:i+3]\n",
    "        three_mers[kmer] = three_mers.get(kmer, 0) + 1\n",
    "        \n",
    "    c = [three_mers.get(kmer, 0) for kmer in enbedding.index]\n",
    "    \n",
    "    vector_sums = np.dot(np.array(c), enbedding)\n",
    "    \n",
    "    if to_int is True:\n",
    "        vector_sums = vector_sums.apply(round_number)\n",
    "    \n",
    "    return vector_sums.tolist()\n"
   ]
  },
  {
   "cell_type": "code",
   "execution_count": 82,
   "metadata": {},
   "outputs": [
    {
     "name": "stdout",
     "output_type": "stream",
     "text": [
      "time per seq: 0.06602551245689392 \n",
      "\n",
      "\n",
      "['', 0.0, 0.0, 0.0, 0.0, 0.0, 0.0, 0.0, 0.0, 0.0, 0.0, 0.0, 0.0, 0.0, 0.0, 0.0, 0.0, 0.0, 0.0, 0.0, 0.0, 0.0, 0.0, 0.0, 0.0, 0.0, 0.0, 0.0, 0.0, 0.0, 0.0, 0.0, 0.0, 0.0, 0.0, 0.0, 0.0, 0.0, 0.0, 0.0, 0.0, 0.0, 0.0, 0.0, 0.0, 0.0, 0.0, 0.0, 0.0, 0.0, 0.0, 0.0, 0.0, 0.0, 0.0, 0.0, 0.0, 0.0, 0.0, 0.0, 0.0, 0.0, 0.0, 0.0, 0.0, 0.0, 0.0, 0.0, 0.0, 0.0, 0.0, 0.0, 0.0, 0.0, 0.0, 0.0, 0.0, 0.0, 0.0, 0.0, 0.0, 0.0, 0.0, 0.0, 0.0, 0.0, 0.0, 0.0, 0.0, 0.0, 0.0, 0.0, 0.0, 0.0, 0.0, 0.0, 0.0, 0.0, 0.0, 0.0, 0.0]\n"
     ]
    }
   ],
   "source": [
    "seq = \"MAVSAGSARTSPSSDKVQKDKAELISGPRQDSRIGKLLGFEWTDLSSWRRLVTLLNRPTDPASLAVFRFLFGFLMVLDIPQERGLSSLDRKYLDGLDVCRFPLLDALRPLPLDWMYLVYTIMFLGALGMMLGLCYRISCVLFLLPYWYVFLLDKTSWNNHSYLYGLLAFQLTFMDANHYWSVDGLLNAHRRNAHVPLWNYAVLRGQIFIVYFIAGVKKLDADWVEGYSMEYLSRHWLFSPFKLLLSEELTSLLVVHWGGLLLDLSAGFLLFFDVSRSIGLFFVSYFHCMNSQLFSIGMFSYVMLASSPLFCSPEWPRKLVSYCPRRLQQLLPLKAAPQPSVSCVYKRSRGKSGQKPGLRHQLGAAFTLLYLLEQLFLPYSHFLTQGYNNWTNGLYGYSWDMMVHSRSHQHVKITYRDGRTGELGYLNPGVFTQSRRWKDHADMLKQYATCLSRLLPKYNVTEPQIYFDIWVSINDRFQQRIFDPRVDIVQAAWSPFQRTSWVQPLLMDLSPWRAKLQEIKSSLDNHTEVVFIADFPGLHLENFVSEDLGNTSIQLLQGEVTVELVAEQKNQTLREGEKMQLPAGEYHKVYTTSPSPSCYMYVYVNTTELALEQDLAYLQELKEKVENGSETGPLPPELQPLLEGEVKGGPEPTPLVQTFLRRQQRLQEIERRRNTPFHERFFRFLLRKLYVFRRSFLMTCISLRNLILGRPSLEQLAQEVTYANLRPFEAVGELNPSNTDSSHSNPPESNPDPVHSEF\"\n",
    "\n",
    "# get the vector data\n",
    "filename = 'protVec_100d_3grams.tsv'\n",
    "\n",
    "# load up the enbedding data\n",
    "enbedding_df = load_data(filename)   \n",
    "\n",
    "\n",
    "# calculate an enbedded representation of the protein\n",
    "t1 = time.time()\n",
    "\n",
    "n = 1000\n",
    "\n",
    "for i in range(n):\n",
    "       \n",
    "    vector = score_seq_gang(seq, enbedding_df, to_int=False)\n",
    "    \n",
    "t2 = time.time()\n",
    "\n",
    "print('time per seq: %s \\n\\n' % ((t2-t1)/n))\n",
    "\n",
    "print(vector)\n",
    "\n"
   ]
  },
  {
   "cell_type": "code",
   "execution_count": 67,
   "metadata": {},
   "outputs": [],
   "source": [
    "def load_data_alternate(filename):\n",
    "    '''\n",
    "    Load up the vector data\n",
    "    '''\n",
    "    data = {}\n",
    "    with open(filename, 'r') as f:\n",
    "        for line in f:\n",
    "            elements = line.split('\\t')\n",
    "            data[elements[0]] = np.array([float(i) for i in elements[1:]])\n",
    "    return data\n",
    "\n",
    "\n",
    "\n",
    "\n",
    "\n",
    "def score_seq_4(seq, enbedding, to_int=True):\n",
    "    '''\n",
    "    Use the embedding to calculate a feature vector for a protein sequence.\n",
    "    \n",
    "    This is the fastest one. Gives a performance of about 4.2 hours for 10 mio sequences.\n",
    "    '''\n",
    "    seq = seq.upper()  \n",
    "    \n",
    "    # make all the three-mers\n",
    "    three_mers = Counter([seq[i:i+3] for i in range(0, len(seq)-2)])\n",
    "    \n",
    "    # multiply the occurances with the feature vector\n",
    "    c = [enbedding[k] * v for k, v in three_mers.items()]\n",
    "    \n",
    "    # sum the columns of the generated vectors\n",
    "    vector_sums = np.array(c).sum(axis=0)\n",
    "    \n",
    "    # convert to int if desired\n",
    "    if to_int is True:\n",
    "        vector_sums = vector_sums.apply(round_number)\n",
    "    \n",
    "    return vector_sums.tolist()\n",
    "\n",
    "\n",
    "\n",
    "\n"
   ]
  },
  {
   "cell_type": "code",
   "execution_count": 69,
   "metadata": {},
   "outputs": [
    {
     "name": "stdout",
     "output_type": "stream",
     "text": [
      "time per seq: 0.0014328484535217284 \n",
      "\n",
      "\n",
      "[-58.42623600000004, -10.759072000000014, -13.220239000000015, -58.86460700000002, 5.293894999999993, -5.665261000000001, 21.071880000000025, -6.472677000000013, -15.875790999999998, 45.233404999999955, -16.031058999999978, -0.758817999999997, -1.837570000000002, 25.22429200000001, -3.6504390000000013, 3.459047999999994, 22.935611000000005, -26.155718000000014, -0.32191200000000003, -8.340253999999996, -5.105318999999998, -25.539444000000003, -23.19527599999999, 8.482181999999993, -14.642847999999969, -16.00841699999999, -6.310183999999995, -11.114567000000005, 1.3573779999999984, -11.257596000000012, 3.773756000000001, -40.655131999999966, -4.725194, -18.261205000000004, 28.14971599999999, 10.776018999999987, -30.358725000000007, 3.498790999999996, 12.19339700000001, -11.294632999999994, 19.950574000000007, 8.672497, 17.57202499999999, -1.9167750000000021, 7.114125999999995, 1.0858759999999994, -16.649106999999987, 7.0591729999999995, -9.182861000000004, 13.477858000000001, -29.455663999999963, -15.873150999999993, 8.849477000000002, -46.25379999999997, 15.671108000000014, -35.95111100000004, 3.901561000000005, -8.177504999999991, -15.798398000000004, -30.490099000000008, 8.056532999999996, 56.23034299999999, 1.994186, 4.763331999999999, 37.57511800000002, 12.857502999999987, 6.496223000000009, 9.425566999999997, 26.338239000000005, -6.725374999999995, -9.696975, -2.5926850000000026, 1.0715059999999965, 12.662369000000004, -13.946935000000005, -22.129172999999994, 23.358713, -27.666435, 3.9104319999999984, -15.535381, -24.610784999999968, -4.104528000000002, 33.70052999999997, 10.55452900000002, 18.51442899999996, -28.456783999999974, -22.91765400000001, -10.90753399999999, -22.56426299999999, 16.913500999999993, 15.948071000000015, -16.246983, -24.678088999999982, -5.248871999999997, 22.838699, 1.382426000000002, -21.605874000000025, -43.043336999999994, -21.65413799999998, 62.06759800000002]\n"
     ]
    }
   ],
   "source": [
    "\n",
    "# calculate an enbedded representation of the protein\n",
    "\n",
    "dict_enbedding = load_data_alternate(filename)\n",
    "\n",
    "\n",
    "t1 = time.time()\n",
    "\n",
    "n = 1000\n",
    "\n",
    "for i in range(n):\n",
    "        \n",
    "       \n",
    "    vector = score_seq_4(seq, dict_enbedding, to_int=False)\n",
    "    \n",
    "t2 = time.time()\n",
    "\n",
    "print('time per seq: %s \\n\\n' % ((t2-t1)/n))\n",
    "\n",
    "print(vector)\n",
    "\n"
   ]
  },
  {
   "cell_type": "code",
   "execution_count": 33,
   "metadata": {},
   "outputs": [],
   "source": [
    "def load_data_alternate_2(filename):\n",
    "    '''\n",
    "    Load up the vector data\n",
    "    '''\n",
    "    data = {}\n",
    "    with open(filename, 'r') as f:\n",
    "        for line in f:\n",
    "            elements = line.split('\\t')\n",
    "            \n",
    "            if elements[0] == '<unk>':\n",
    "                continue\n",
    "            \n",
    "            one, two, three = elements[0]\n",
    "            \n",
    "            if data.get(one) is None:\n",
    "                data[one] = {}\n",
    "                \n",
    "            if data[one].get(two) is None:\n",
    "                data[one][two] = {}\n",
    "                \n",
    "            if data[one][two].get(three) is None:\n",
    "                data[one][two][three] = {}\n",
    "                \n",
    "            for num in range(1, 10):\n",
    "                data[one][two][three][num] = np.array([float(i)*num for i in elements[1:]])\n",
    "                \n",
    "    return data\n",
    "\n",
    "\n",
    "\n",
    "\n",
    "\n",
    "def score_seq_5(seq, enbedding, to_int=True):\n",
    "    '''\n",
    "    Use the embedding to calculate a feature vector for a protein sequence.\n",
    "    \n",
    "    This is the fastest one. Gives a performance of about 4.2 hours for 10 mio sequences.\n",
    "    '''\n",
    "    seq = seq.upper()  \n",
    "    \n",
    "    # make all the three-mers\n",
    "    three_mers = Counter([seq[i:i+3] for i in range(0, len(seq)-2)])\n",
    "    \n",
    "    # multiply the occurances with the feature vector\n",
    "    c = [enbedding[k[0]][k[1]][k[2]][v] for k, v in three_mers.items()]\n",
    "    \n",
    "    # sum the columns of the generated vectors\n",
    "    vector_sums = np.array(c).sum(axis=0)\n",
    "    \n",
    "    # convert to int if desired\n",
    "    if to_int is True:\n",
    "        vector_sums = vector_sums.apply(round_number)\n",
    "    \n",
    "    return vector_sums.tolist()\n",
    "\n",
    "\n"
   ]
  },
  {
   "cell_type": "code",
   "execution_count": 49,
   "metadata": {},
   "outputs": [
    {
     "name": "stdout",
     "output_type": "stream",
     "text": [
      "time per seq: 0.0005858440399169922 \n",
      "\n",
      "\n",
      "[-58.42623600000004, -10.759072000000014, -13.220239000000015, -58.86460700000002, 5.293894999999993, -5.665261000000001, 21.071880000000025, -6.472677000000013, -15.875790999999998, 45.233404999999955, -16.031058999999978, -0.758817999999997, -1.837570000000002, 25.22429200000001, -3.6504390000000013, 3.459047999999994, 22.935611000000005, -26.155718000000014, -0.32191200000000003, -8.340253999999996, -5.105318999999998, -25.539444000000003, -23.19527599999999, 8.482181999999993, -14.642847999999969, -16.00841699999999, -6.310183999999995, -11.114567000000005, 1.3573779999999984, -11.257596000000012, 3.773756000000001, -40.655131999999966, -4.725194, -18.261205000000004, 28.14971599999999, 10.776018999999987, -30.358725000000007, 3.498790999999996, 12.19339700000001, -11.294632999999994, 19.950574000000007, 8.672497, 17.57202499999999, -1.9167750000000021, 7.114125999999995, 1.0858759999999994, -16.649106999999987, 7.0591729999999995, -9.182861000000004, 13.477858000000001, -29.455663999999963, -15.873150999999993, 8.849477000000002, -46.25379999999997, 15.671108000000014, -35.95111100000004, 3.901561000000005, -8.177504999999991, -15.798398000000004, -30.490099000000008, 8.056532999999996, 56.23034299999999, 1.994186, 4.763331999999999, 37.57511800000002, 12.857502999999987, 6.496223000000009, 9.425566999999997, 26.338239000000005, -6.725374999999995, -9.696975, -2.5926850000000026, 1.0715059999999965, 12.662369000000004, -13.946935000000005, -22.129172999999994, 23.358713, -27.666435, 3.9104319999999984, -15.535381, -24.610784999999968, -4.104528000000002, 33.70052999999997, 10.55452900000002, 18.51442899999996, -28.456783999999974, -22.91765400000001, -10.90753399999999, -22.56426299999999, 16.913500999999993, 15.948071000000015, -16.246983, -24.678088999999982, -5.248871999999997, 22.838699, 1.382426000000002, -21.605874000000025, -43.043336999999994, -21.65413799999998, 62.06759800000002]\n"
     ]
    }
   ],
   "source": [
    "\n",
    "# calculate an enbedded representation of the protein\n",
    "\n",
    "dict_enbedding = load_data_alternate_2(filename)\n",
    "\n",
    "\n",
    "t1 = time.time()\n",
    "\n",
    "n = 1000\n",
    "\n",
    "for i in range(n):\n",
    "        \n",
    "       \n",
    "    vector = score_seq_5(seq, dict_enbedding, to_int=False)\n",
    "    \n",
    "t2 = time.time()\n",
    "\n",
    "print('time per seq: %s \\n\\n' % ((t2-t1)/n))\n",
    "\n",
    "print(vector)"
   ]
  },
  {
   "cell_type": "code",
   "execution_count": 76,
   "metadata": {},
   "outputs": [],
   "source": [
    "def load_data_alternate_3(filename):\n",
    "    '''\n",
    "    Load up the vector data\n",
    "    '''\n",
    "    data = {}\n",
    "    with open(filename, 'r') as f:\n",
    "        for line in f:\n",
    "            elements = line.split('\\t')\n",
    "            \n",
    "            if elements[0] == '<unk>':\n",
    "                continue\n",
    "            \n",
    "            codon = elements[0]\n",
    "                \n",
    "            data[codon] = {}\n",
    "                \n",
    "            for num in range(1, 10):\n",
    "                data[codon][num] = np.array([float(i)*num for i in elements[1:]])\n",
    "                \n",
    "    return data\n",
    "\n",
    "\n",
    "\n",
    "\n",
    "\n",
    "def score_seq_6(seq, enbedding, to_int=True):\n",
    "    '''\n",
    "    Use the embedding to calculate a feature vector for a protein sequence.\n",
    "    \n",
    "    This is the fastest one. Gives a performance of about 4.2 hours for 10 mio sequences.\n",
    "    '''\n",
    "    seq = seq.upper()  \n",
    "    \n",
    "    # make all the three-mers\n",
    "    three_mers = Counter([seq[i:i+3] for i in range(0, len(seq)-2)])\n",
    "    \n",
    "    # multiply the occurances with the feature vector\n",
    "    c = [enbedding[k][v] for k, v in three_mers.items()]\n",
    "    \n",
    "    # sum the columns of the generated vectors\n",
    "    vector_sums = np.array(c).sum(axis=0)\n",
    "    \n",
    "    # convert to int if desired\n",
    "    if to_int is True:\n",
    "        vector_sums = vector_sums.apply(round_number)\n",
    "    \n",
    "    return vector_sums.tolist()"
   ]
  },
  {
   "cell_type": "code",
   "execution_count": 78,
   "metadata": {},
   "outputs": [
    {
     "name": "stdout",
     "output_type": "stream",
     "text": [
      "time per seq: 0.0005088441371917724 \n",
      "\n",
      "\n",
      "[-58.42623600000004, -10.759072000000014, -13.220239000000015, -58.86460700000002, 5.293894999999993, -5.665261000000001, 21.071880000000025, -6.472677000000013, -15.875790999999998, 45.233404999999955, -16.031058999999978, -0.758817999999997, -1.837570000000002, 25.22429200000001, -3.6504390000000013, 3.459047999999994, 22.935611000000005, -26.155718000000014, -0.32191200000000003, -8.340253999999996, -5.105318999999998, -25.539444000000003, -23.19527599999999, 8.482181999999993, -14.642847999999969, -16.00841699999999, -6.310183999999995, -11.114567000000005, 1.3573779999999984, -11.257596000000012, 3.773756000000001, -40.655131999999966, -4.725194, -18.261205000000004, 28.14971599999999, 10.776018999999987, -30.358725000000007, 3.498790999999996, 12.19339700000001, -11.294632999999994, 19.950574000000007, 8.672497, 17.57202499999999, -1.9167750000000021, 7.114125999999995, 1.0858759999999994, -16.649106999999987, 7.0591729999999995, -9.182861000000004, 13.477858000000001, -29.455663999999963, -15.873150999999993, 8.849477000000002, -46.25379999999997, 15.671108000000014, -35.95111100000004, 3.901561000000005, -8.177504999999991, -15.798398000000004, -30.490099000000008, 8.056532999999996, 56.23034299999999, 1.994186, 4.763331999999999, 37.57511800000002, 12.857502999999987, 6.496223000000009, 9.425566999999997, 26.338239000000005, -6.725374999999995, -9.696975, -2.5926850000000026, 1.0715059999999965, 12.662369000000004, -13.946935000000005, -22.129172999999994, 23.358713, -27.666435, 3.9104319999999984, -15.535381, -24.610784999999968, -4.104528000000002, 33.70052999999997, 10.55452900000002, 18.51442899999996, -28.456783999999974, -22.91765400000001, -10.90753399999999, -22.56426299999999, 16.913500999999993, 15.948071000000015, -16.246983, -24.678088999999982, -5.248871999999997, 22.838699, 1.382426000000002, -21.605874000000025, -43.043336999999994, -21.65413799999998, 62.06759800000002]\n"
     ]
    }
   ],
   "source": [
    "\n",
    "# calculate an enbedded representation of the protein\n",
    "\n",
    "dict_enbedding = load_data_alternate_3(filename)\n",
    "\n",
    "\n",
    "t1 = time.time()\n",
    "\n",
    "n = 1000\n",
    "\n",
    "for i in range(n):\n",
    "        \n",
    "       \n",
    "    vector2 = score_seq_6(seq, dict_enbedding, to_int=False)\n",
    "    \n",
    "t2 = time.time()\n",
    "\n",
    "print('time per seq: %s \\n\\n' % ((t2-t1)/n))\n",
    "\n",
    "print(vector2)\n",
    "\n",
    "print(vector = vector2)"
   ]
  },
  {
   "cell_type": "code",
   "execution_count": 56,
   "metadata": {},
   "outputs": [
    {
     "data": {
      "text/plain": [
       "26.971303587711613"
      ]
     },
     "execution_count": 56,
     "metadata": {},
     "output_type": "execute_result"
    }
   ],
   "source": [
    "0.013638761043548584 / 0.0005056767463684082"
   ]
  }
 ],
 "metadata": {
  "kernelspec": {
   "display_name": "Python 3",
   "language": "python",
   "name": "python3"
  },
  "language_info": {
   "codemirror_mode": {
    "name": "ipython",
    "version": 3
   },
   "file_extension": ".py",
   "mimetype": "text/x-python",
   "name": "python",
   "nbconvert_exporter": "python",
   "pygments_lexer": "ipython3",
   "version": "3.6.3"
  }
 },
 "nbformat": 4,
 "nbformat_minor": 2
}
