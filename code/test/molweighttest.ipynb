{
 "cells": [
  {
   "cell_type": "code",
   "execution_count": 8,
   "metadata": {},
   "outputs": [
    {
     "ename": "SyntaxError",
     "evalue": "invalid syntax (<ipython-input-8-1861b9c6ae19>, line 11)",
     "output_type": "error",
     "traceback": [
      "\u001b[1;36m  File \u001b[1;32m\"<ipython-input-8-1861b9c6ae19>\"\u001b[1;36m, line \u001b[1;32m11\u001b[0m\n\u001b[1;33m    molweight\u001b[0m\n\u001b[1;37m            ^\u001b[0m\n\u001b[1;31mSyntaxError\u001b[0m\u001b[1;31m:\u001b[0m invalid syntax\n"
     ]
    }
   ],
   "source": [
    "from rdkit import Chem\n",
    "from rdkit.Chem import Descriptors\n",
    "from rdkit.Chem.Descriptors import ExactMolWt\n",
    "\n",
    "\n",
    "Smiles=[Chem.MolFromSmiles('[O-]C(=O)C(O)CCCCCCCCCC'), Chem.MolFromSmiles('C[C@@H](C(=O)[O-])O'), Chem.MolFromSmiles('CCCCCCCCCCCCCCC(C(=O)[O-])O'), Chem.MolFromSmiles('C(C(=O)[O-])O)'), Chem.MolFromSmiles('C[C@@H](C(=O)[O-])O')]\n",
    "molweight = []\n",
    "for Smile in Smiles:\n",
    "    molweight=molweight.append(ExactMolWt(Smile)\n",
    "\n",
    "                               "
   ]
  },
  {
   "cell_type": "code",
   "execution_count": 15,
   "metadata": {},
   "outputs": [
    {
     "ename": "ArgumentError",
     "evalue": "Python argument types in\n    rdkit.Chem.rdMolDescriptors.CalcExactMolWt(NoneType)\ndid not match C++ signature:\n    CalcExactMolWt(class RDKit::ROMol mol, bool onlyHeavy=False)",
     "output_type": "error",
     "traceback": [
      "\u001b[1;31m---------------------------------------------------------------------------\u001b[0m",
      "\u001b[1;31mArgumentError\u001b[0m                             Traceback (most recent call last)",
      "\u001b[1;32m<ipython-input-15-55943d2e48a0>\u001b[0m in \u001b[0;36m<module>\u001b[1;34m\u001b[0m\n\u001b[0;32m      7\u001b[0m \u001b[0mwt\u001b[0m\u001b[1;33m=\u001b[0m\u001b[1;33m[\u001b[0m\u001b[1;33m]\u001b[0m\u001b[1;33m\u001b[0m\u001b[1;33m\u001b[0m\u001b[0m\n\u001b[0;32m      8\u001b[0m \u001b[1;32mfor\u001b[0m \u001b[0mSmile\u001b[0m \u001b[1;32min\u001b[0m \u001b[0mSmiles\u001b[0m\u001b[1;33m:\u001b[0m\u001b[1;33m\u001b[0m\u001b[1;33m\u001b[0m\u001b[0m\n\u001b[1;32m----> 9\u001b[1;33m     \u001b[0mwt\u001b[0m\u001b[1;33m.\u001b[0m\u001b[0mappend\u001b[0m\u001b[1;33m(\u001b[0m\u001b[0mExactMolWt\u001b[0m\u001b[1;33m(\u001b[0m\u001b[0mSmile\u001b[0m\u001b[1;33m)\u001b[0m\u001b[1;33m)\u001b[0m\u001b[1;33m\u001b[0m\u001b[1;33m\u001b[0m\u001b[0m\n\u001b[0m\u001b[0;32m     10\u001b[0m \u001b[1;33m\u001b[0m\u001b[0m\n\u001b[0;32m     11\u001b[0m \u001b[0mwt\u001b[0m\u001b[1;33m\u001b[0m\u001b[1;33m\u001b[0m\u001b[0m\n",
      "\u001b[1;32mC:\\ProgramData\\Anaconda3\\lib\\site-packages\\rdkit\\Chem\\Descriptors.py\u001b[0m in \u001b[0;36m<lambda>\u001b[1;34m(*x, **y)\u001b[0m\n\u001b[0;32m     87\u001b[0m \u001b[0mHeavyAtomMolWt\u001b[0m\u001b[1;33m.\u001b[0m\u001b[0mversion\u001b[0m \u001b[1;33m=\u001b[0m \u001b[1;34m\"1.0.0\"\u001b[0m\u001b[1;33m\u001b[0m\u001b[1;33m\u001b[0m\u001b[0m\n\u001b[0;32m     88\u001b[0m \u001b[1;33m\u001b[0m\u001b[0m\n\u001b[1;32m---> 89\u001b[1;33m \u001b[0mExactMolWt\u001b[0m \u001b[1;33m=\u001b[0m \u001b[1;32mlambda\u001b[0m \u001b[1;33m*\u001b[0m\u001b[0mx\u001b[0m\u001b[1;33m,\u001b[0m \u001b[1;33m**\u001b[0m\u001b[0my\u001b[0m\u001b[1;33m:\u001b[0m \u001b[0m_rdMolDescriptors\u001b[0m\u001b[1;33m.\u001b[0m\u001b[0mCalcExactMolWt\u001b[0m\u001b[1;33m(\u001b[0m\u001b[1;33m*\u001b[0m\u001b[0mx\u001b[0m\u001b[1;33m,\u001b[0m \u001b[1;33m**\u001b[0m\u001b[0my\u001b[0m\u001b[1;33m)\u001b[0m\u001b[1;33m\u001b[0m\u001b[1;33m\u001b[0m\u001b[0m\n\u001b[0m\u001b[0;32m     90\u001b[0m \u001b[0mExactMolWt\u001b[0m\u001b[1;33m.\u001b[0m\u001b[0mversion\u001b[0m \u001b[1;33m=\u001b[0m \u001b[0m_rdMolDescriptors\u001b[0m\u001b[1;33m.\u001b[0m\u001b[0m_CalcExactMolWt_version\u001b[0m\u001b[1;33m\u001b[0m\u001b[1;33m\u001b[0m\u001b[0m\n\u001b[0;32m     91\u001b[0m ExactMolWt.__doc__ = \"\"\"The exact molecular weight of the molecule\n",
      "\u001b[1;31mArgumentError\u001b[0m: Python argument types in\n    rdkit.Chem.rdMolDescriptors.CalcExactMolWt(NoneType)\ndid not match C++ signature:\n    CalcExactMolWt(class RDKit::ROMol mol, bool onlyHeavy=False)"
     ]
    }
   ],
   "source": [
    "from rdkit import Chem\n",
    "from rdkit.Chem import Descriptors\n",
    "from rdkit.Chem.Descriptors import ExactMolWt\n",
    "\n",
    "\n",
    "Smiles=[Chem.MolFromSmiles('[O-]C(=O)C(O)CCCCCCCCCC'), Chem.MolFromSmiles('C[C@@H](C(=O)[O-])O'), Chem.MolFromSmiles('CCCCCCCCCCCCCCC(C(=O)[O-])O'), Chem.MolFromSmiles('C(C(=O)[O-])O)'), Chem.MolFromSmiles('C[C@@H](C(=O)[O-])O')]\n",
    "wt=[]\n",
    "for Smile in Smiles:\n",
    "    wt.append(ExactMolWt(Smile))\n",
    "    \n",
    "wt"
   ]
  },
  {
   "cell_type": "code",
   "execution_count": 18,
   "metadata": {},
   "outputs": [
    {
     "name": "stdout",
     "output_type": "stream",
     "text": [
      "215.16526817590997\n"
     ]
    }
   ],
   "source": [
    "a=Chem.MolFromSmiles('[O-]C(=O)C(O)CCCCCCCCCC')\n",
    "b=ExactMolWt(a)\n",
    "print (b)"
   ]
  }
 ],
 "metadata": {
  "kernelspec": {
   "display_name": "Python 3",
   "language": "python",
   "name": "python3"
  },
  "language_info": {
   "codemirror_mode": {
    "name": "ipython",
    "version": 3
   },
   "file_extension": ".py",
   "mimetype": "text/x-python",
   "name": "python",
   "nbconvert_exporter": "python",
   "pygments_lexer": "ipython3",
   "version": "3.7.1"
  }
 },
 "nbformat": 4,
 "nbformat_minor": 2
}
