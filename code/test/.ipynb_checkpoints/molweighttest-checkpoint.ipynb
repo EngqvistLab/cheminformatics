{
 "cells": [
  {
   "cell_type": "code",
   "execution_count": 28,
   "metadata": {},
   "outputs": [
    {
     "ename": "SyntaxError",
     "evalue": "invalid syntax (<ipython-input-28-8905ec0be766>, line 9)",
     "output_type": "error",
     "traceback": [
      "\u001b[1;36m  File \u001b[1;32m\"<ipython-input-28-8905ec0be766>\"\u001b[1;36m, line \u001b[1;32m9\u001b[0m\n\u001b[1;33m    return molweight\u001b[0m\n\u001b[1;37m         ^\u001b[0m\n\u001b[1;31mSyntaxError\u001b[0m\u001b[1;31m:\u001b[0m invalid syntax\n"
     ]
    }
   ],
   "source": [
    "from rdkit import Chem\n",
    "from rdkit.Chem import Descriptors\n",
    "from rdkit.Chem.Descriptors import ExactMolWt\n",
    "\n",
    "\n",
    "Smiles=['[O-]C(=O)C(O)CCCCCCCCCC', 'C[C@@H](C(=O)[O-])O', 'CCCCCCCCCCCCCCC(C(=O)[O-])O', 'C(C(=O)[O-])O)', 'C[C@@H](C(=O)[O-])O']\n",
    "molweight = []\n",
    "for Smile in Smiles:\n",
    "    molweight=molweight.append(ExactMolWt(Chem.MolFromSmiles(Smile))\n",
    "return molweight\n",
    "                               \n"
   ]
  }
 ],
 "metadata": {
  "kernelspec": {
   "display_name": "Python 3",
   "language": "python",
   "name": "python3"
  },
  "language_info": {
   "codemirror_mode": {
    "name": "ipython",
    "version": 3
   },
   "file_extension": ".py",
   "mimetype": "text/x-python",
   "name": "python",
   "nbconvert_exporter": "python",
   "pygments_lexer": "ipython3",
   "version": "3.7.1"
  }
 },
 "nbformat": 4,
 "nbformat_minor": 2
}
