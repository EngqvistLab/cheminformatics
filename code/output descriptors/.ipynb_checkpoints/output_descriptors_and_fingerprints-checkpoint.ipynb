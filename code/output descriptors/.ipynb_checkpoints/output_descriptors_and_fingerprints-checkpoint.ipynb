{
 "cells": [
  {
   "cell_type": "markdown",
   "metadata": {},
   "source": [
    "Modify this line to briefly discribe the functionality of output_descriptors_and_fingerprints.ipynb<br/><br/>Copyright (C) 2017  Martin Engqvist Lab<br/>This program is free software: you can redistribute it and/or modify<br/>it under the terms of the GNU General Public License as published by<br/>the Free Software Foundation, either version 3 of the License, or<br/>(at your option) any later version.<br/>This program is distributed in the hope that it will be useful,<br/>but WITHOUT ANY WARRANTY; without even the implied warranty of<br/>MERCHANTABILITY or FITNESS FOR A PARTICULAR PURPOSE.  See the<br/>GNU General Public License for more details.<br/>You should have received a copy of the GNU General Public License<br/>along with this program.  If not, see <http://www.gnu.org/licenses/>."
   ]
  },
  {
   "cell_type": "code",
   "execution_count": null,
   "metadata": {},
   "outputs": [],
   "source": []
  },
  {
   "cell_type": "code",
   "execution_count": 3,
   "metadata": {},
   "outputs": [
    {
     "name": "stdout",
     "output_type": "stream",
     "text": [
      "Standard variables loaded, you are good to go!\n"
     ]
    }
   ],
   "source": [
    "import os\n",
    "from dotenv import load_dotenv, find_dotenv\n",
    "from os.path import join, dirname, basename, exists, isdir\n",
    "\n",
    "### Load environmental variables from the project root directory ###\n",
    "# find .env automagically by walking up directories until it's found\n",
    "dotenv_path = find_dotenv()\n",
    "\n",
    "# load up the entries as environment variables\n",
    "load_dotenv(dotenv_path)\n",
    "\n",
    "# now you can get the variables using their names\n",
    "\n",
    "# Check whether a network drive has been specified\n",
    "DATABASE = os.environ.get(\"NETWORK_URL\")\n",
    "if DATABASE == 'None':\n",
    "    pass\n",
    "else:\n",
    "    pass\n",
    "    #mount network drive here\n",
    "\n",
    "# set up directory paths\n",
    "CURRENT_DIR = os.getcwd()\n",
    "PROJ = dirname(dotenv_path) # project root directory\n",
    "\n",
    "DATA = join(PROJ, 'data') #data directory\n",
    "RAW_EXTERNAL = join(DATA, 'raw_external') # external data raw directory\n",
    "RAW_INTERNAL = join(DATA, 'raw_internal') # internal data raw directory\n",
    "INTERMEDIATE = join(DATA, 'intermediate') # intermediate data directory\n",
    "FINAL = join(DATA, 'final') # final data directory\n",
    "\n",
    "RESULTS = join(PROJ, 'results') # output directory\n",
    "FIGURES = join(RESULTS, 'figures') # figure output directory\n",
    "PICTURES = join(RESULTS, 'pictures') # picture output directory\n",
    "\n",
    "\n",
    "# make folders specific for certain data\n",
    "folder_name = ''\n",
    "if folder_name != '':\n",
    "    #make folders if they don't exist\n",
    "    if not exists(join(RAW_EXTERNAL, folder_name)):\n",
    "        os.makedirs(join(RAW_EXTERNAL, folder_name))\n",
    "\n",
    "    if not exists(join(INTERMEDIATE, folder_name)):\n",
    "        os.makedirs(join(INTERMEDIATE, folder_name))\n",
    "\n",
    "    if not exists(join(FINAL, folder_name)):\n",
    "        os.makedirs(join(FINAL, folder_name))\n",
    "\n",
    "print('Standard variables loaded, you are good to go!')"
   ]
  },
  {
   "cell_type": "code",
   "execution_count": 2,
   "metadata": {},
   "outputs": [
    {
     "ename": "NameError",
     "evalue": "name 'join' is not defined",
     "output_type": "error",
     "traceback": [
      "\u001b[1;31m---------------------------------------------------------------------------\u001b[0m",
      "\u001b[1;31mNameError\u001b[0m                                 Traceback (most recent call last)",
      "\u001b[1;32m<ipython-input-2-591cbfcd0450>\u001b[0m in \u001b[0;36m<module>\u001b[1;34m\u001b[0m\n\u001b[0;32m     91\u001b[0m \u001b[1;33m\u001b[0m\u001b[0m\n\u001b[0;32m     92\u001b[0m \u001b[1;32mimport\u001b[0m \u001b[0mjson\u001b[0m\u001b[1;33m\u001b[0m\u001b[1;33m\u001b[0m\u001b[0m\n\u001b[1;32m---> 93\u001b[1;33m \u001b[0mfilepath\u001b[0m \u001b[1;33m=\u001b[0m \u001b[0mjoin\u001b[0m\u001b[1;33m(\u001b[0m\u001b[0mRAW_EXTERNAL\u001b[0m\u001b[1;33m,\u001b[0m\u001b[1;34m\"BRENDA_data_2019_1\"\u001b[0m\u001b[1;33m,\u001b[0m\u001b[1;34m\"2019-04-02_substrate_cache.json\"\u001b[0m\u001b[1;33m)\u001b[0m\u001b[1;33m\u001b[0m\u001b[1;33m\u001b[0m\u001b[0m\n\u001b[0m\u001b[0;32m     94\u001b[0m \u001b[1;32mwith\u001b[0m \u001b[0mopen\u001b[0m\u001b[1;33m(\u001b[0m\u001b[0mfilepath\u001b[0m\u001b[1;33m,\u001b[0m \u001b[1;34m'r'\u001b[0m\u001b[1;33m)\u001b[0m \u001b[1;32mas\u001b[0m \u001b[0mf\u001b[0m\u001b[1;33m:\u001b[0m\u001b[1;33m\u001b[0m\u001b[1;33m\u001b[0m\u001b[0m\n\u001b[0;32m     95\u001b[0m         \u001b[0mdata\u001b[0m \u001b[1;33m=\u001b[0m \u001b[0mjson\u001b[0m\u001b[1;33m.\u001b[0m\u001b[0mloads\u001b[0m\u001b[1;33m(\u001b[0m\u001b[0mf\u001b[0m\u001b[1;33m.\u001b[0m\u001b[0mread\u001b[0m\u001b[1;33m(\u001b[0m\u001b[1;33m)\u001b[0m\u001b[1;33m)\u001b[0m\u001b[1;33m\u001b[0m\u001b[1;33m\u001b[0m\u001b[0m\n",
      "\u001b[1;31mNameError\u001b[0m: name 'join' is not defined"
     ]
    }
   ],
   "source": [
    "from rdkit import Chem\n",
    "from rdkit.Chem import Descriptors\n",
    "\n",
    "subswithsmiles = {'Massa ringar' : 'COc1cccc2cc(C(=O)NCCCCN3CCN(c4cccc5nccnc54)CC3)oc21','L-lactate' : \"C([C@@H](O)C)(=O)[O-]\", 'Glucose' : 'O=C[C@H](O)[C@@H](O)[C@H](O)[C@H](O)CO', 'Glutamate' : \"N[C@@H](CCC(=O)[O-])C(=O)[O-]\"}\n",
    "\n",
    "\n",
    "def molecular_weight(substrate_dict):\n",
    "    \"\"\"Takes as input a dictionary of substrate names and their SMILES, converts to mol-format and returns a dictionary of substrate names and \n",
    "    and their respective molecular weight.\"\"\"\n",
    "    molweight = {}\n",
    "    for key in substrate_dict:\n",
    "        mol = Chem.MolFromSmiles(substrate_dict[key])\n",
    "        molweight[key] = Descriptors.ExactMolWt(mol)\n",
    "    return molweight\n",
    "\n",
    "def polar_surface_area(substrate_dict):\n",
    "    \"\"\"Takes as input a dictionary of substrate names and their SMILES and returns a dictionary of substrate names and \n",
    "       their respective polar surface area.\"\"\"\n",
    "    TPSA = {}\n",
    "    for key in substrate_dict:\n",
    "        mol = Chem.MolFromSmiles(substrate_dict[key])\n",
    "        TPSA[key] = Descriptors.TPSA(mol)\n",
    "    return TPSA\n",
    "\n",
    "# Kanske att föredra att dela upp den här i två funktioner?\n",
    "def Hbond_donors_acceptors(substrate_dict):\n",
    "    \"\"\"Takes as input a dictionary of substrate names and their SMILES and returns a list of dictionaries of substrate names and\n",
    "       their respective number of hydrogen bond acceptors and donors. Acceptors on index 0, donors on index 1.\"\"\"\n",
    "    acceptors = {}\n",
    "    donors = {}\n",
    "    for key in substrate_dict:\n",
    "        mol = Chem.MolFromSmiles(substrate_dict[key])\n",
    "        acceptors[key] = Descriptors.NumHAcceptors(mol)\n",
    "        donors[key] = Descriptors.NumHDonors(mol)\n",
    "    return acceptors, donors\n",
    "\n",
    "def OHNH_count(substrate_dict):\n",
    "    \"\"\"Takes as input a dictionary of substrate names and their SMILES, converts to mol-format, calculates the number of NH and OH groups, and outputs\n",
    "       a dictionary containing the substrate names and their respective counts.\"\"\"\n",
    "    OHNH = {}\n",
    "    for key in substrate_dict:\n",
    "        mol = Chem.MolFromSmiles(substrate_dict[key])\n",
    "        OHNH[key] = Descriptors.NHOHCount(mol)\n",
    "    return OHNH\n",
    "\n",
    "def ON_count(substrate_dict):\n",
    "    \"\"\"Takes as input a dictionary of substrate names and their SMILES, converts to mol-format, calculates the number of O and N atoms, and outputs\n",
    "        a dictionary containing the substrate names and their respective counts. \"\"\"\n",
    "    ON = {}\n",
    "    for key in substrate_dict:\n",
    "        mol = Chem.MolFromSmiles(substrate_dict[key])\n",
    "        ON[key] = Descriptors.NOCount(mol)\n",
    "    return ON\n",
    "\n",
    "def HeteroAtomCount(substrate_dict):\n",
    "    \"\"\"Takes as input a dictionary of substrate names and their SMILES, converts to mol-format, calculates the number of \n",
    "        hetero atoms and returns a dictionary containing the substrate names and their respective hetero counts.\"\"\"\n",
    "    HA = {}\n",
    "    for key in substrate_dict:\n",
    "        mol = Chem.MolFromSmiles(substrate_dict[key])\n",
    "        HA[key] = Descriptors.NumHeteroatoms(mol)\n",
    "    return HA\n",
    "\n",
    "def RotaBondCount(substrate_dict):\n",
    "    \"\"\"Takes as input a dictionary of substrate names and their SMILES, converts to mol-format, calculates the number of \n",
    "        rotatable bonds and returns a dictionary containing the substrate names and their respective rotatable bond counts.\"\"\"\n",
    "    RB = {}\n",
    "    for key in substrate_dict:\n",
    "        mol = Chem.MolFromSmiles(substrate_dict[key])\n",
    "        RB[key] = Descriptors.NumRotatableBonds(mol)\n",
    "    return RB\n",
    "\n",
    "\n",
    "def AromRingCount(substrate_dict):\n",
    "    \"\"\"Takes as input a dictionary of substrate names and their SMILES, converts to mol-format, calculates the number of \n",
    "        aromatic rings and returns a dictionary containing the substrate names and their respective aromatic ring counts\"\"\"\n",
    "    RING = {}\n",
    "    for key in substrate_dict:\n",
    "        mol = Chem.MolFromSmiles(substrate_dict[key])\n",
    "        RING[key] = Descriptors.NumAromaticRings(mol)\n",
    "    return RING\n",
    "\n",
    "def AliphRingCount(substrate_dict):\n",
    "    \"\"\"Takes as input a dictionary of substrate names and their SMILES, converts to mol-format, calculates the number of \n",
    "        aliphatic rings and returns a dictionary containing the substrate names and their respective aliphatic ring counts\"\"\"\n",
    "    RING2 = {}\n",
    "    for key in substrate_dict:\n",
    "        mol = Chem.MolFromSmiles(substrate_dict[key])\n",
    "        RING2[key] = Descriptors.NumAliphaticRings(mol)\n",
    "    return RING2\n",
    "\n",
    "import json\n",
    "filepath = join(RAW_EXTERNAL,\"BRENDA_data_2019_1\",\"2019-04-02_substrate_cache.json\")\n",
    "with open(filepath, 'r') as f:\n",
    "        data = json.loads(f.read())\n",
    "\n",
    "\n",
    "\n"
   ]
  },
  {
   "cell_type": "code",
   "execution_count": 218,
   "metadata": {},
   "outputs": [
    {
     "data": {
      "text/plain": [
       "1700"
      ]
     },
     "execution_count": 218,
     "metadata": {},
     "output_type": "execute_result"
    }
   ],
   "source": [
    "import json\n",
    "filepath = join(RAW_EXTERNAL,\"BRENDA_data_2019_1\",\"2019-04-02_substrate_cache.json\")\n",
    "with open(filepath, 'r') as f:\n",
    "        data = json.loads(f.read())\n",
    "Nones = []\n",
    "Smiles = {}\n",
    "for key in data:\n",
    "    if data[key] == None:\n",
    "        Nones.append(key)\n",
    "    else:\n",
    "        Smiles[key] = data[key]\n",
    "len(data)"
   ]
  },
  {
   "cell_type": "code",
   "execution_count": 164,
   "metadata": {},
   "outputs": [
    {
     "ename": "SyntaxError",
     "evalue": "Missing parentheses in call to 'print'. Did you mean print(Nones)? (<ipython-input-164-c77748d67e0c>, line 1)",
     "output_type": "error",
     "traceback": [
      "\u001b[1;36m  File \u001b[1;32m\"<ipython-input-164-c77748d67e0c>\"\u001b[1;36m, line \u001b[1;32m1\u001b[0m\n\u001b[1;33m    print Nones\u001b[0m\n\u001b[1;37m              ^\u001b[0m\n\u001b[1;31mSyntaxError\u001b[0m\u001b[1;31m:\u001b[0m Missing parentheses in call to 'print'. Did you mean print(Nones)?\n"
     ]
    }
   ],
   "source": [
    "print Nones"
   ]
  }
 ],
 "metadata": {
  "kernelspec": {
   "display_name": "Python 3",
   "language": "python",
   "name": "python3"
  },
  "language_info": {
   "codemirror_mode": {
    "name": "ipython",
    "version": 3
   },
   "file_extension": ".py",
   "mimetype": "text/x-python",
   "name": "python",
   "nbconvert_exporter": "python",
   "pygments_lexer": "ipython3",
   "version": "3.7.1"
  }
 },
 "nbformat": 4,
 "nbformat_minor": 2
}
