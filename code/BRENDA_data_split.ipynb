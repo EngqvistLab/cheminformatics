{
 "cells": [
  {
   "cell_type": "markdown",
   "metadata": {},
   "source": [
    "Modify this line to briefly discribe the functionality of BRENDA_data_split.ipynb<br/><br/>Copyright (C) 2017  Martin Engqvist Lab<br/>This program is free software: you can redistribute it and/or modify<br/>it under the terms of the GNU General Public License as published by<br/>the Free Software Foundation, either version 3 of the License, or<br/>(at your option) any later version.<br/>This program is distributed in the hope that it will be useful,<br/>but WITHOUT ANY WARRANTY; without even the implied warranty of<br/>MERCHANTABILITY or FITNESS FOR A PARTICULAR PURPOSE.  See the<br/>GNU General Public License for more details.<br/>You should have received a copy of the GNU General Public License<br/>along with this program.  If not, see <http://www.gnu.org/licenses/>."
   ]
  },
  {
   "cell_type": "code",
   "execution_count": 47,
   "metadata": {},
   "outputs": [
    {
     "name": "stdout",
     "output_type": "stream",
     "text": [
      "Standard variables loaded, you are good to go!\n"
     ]
    }
   ],
   "source": [
    "import os\n",
    "from dotenv import load_dotenv, find_dotenv\n",
    "from os.path import join, dirname, basename, exists, isdir\n",
    "\n",
    "### Load environmental variables from the project root directory ###\n",
    "# find .env automagically by walking up directories until it's found\n",
    "dotenv_path = find_dotenv()\n",
    "\n",
    "# load up the entries as environment variables\n",
    "load_dotenv(dotenv_path)\n",
    "\n",
    "# now you can get the variables using their names\n",
    "\n",
    "# Check whether a network drive has been specified\n",
    "DATABASE = os.environ.get(\"NETWORK_URL\")\n",
    "if DATABASE == 'None':\n",
    "    pass\n",
    "else:\n",
    "    pass\n",
    "    #mount network drive here\n",
    "\n",
    "# set up directory paths\n",
    "CURRENT_DIR = os.getcwd()\n",
    "PROJ = dirname(dotenv_path) # project root directory\n",
    "\n",
    "DATA = join(PROJ, 'data') #data directory\n",
    "RAW_EXTERNAL = join(DATA, 'raw_external') # external data raw directory\n",
    "RAW_INTERNAL = join(DATA, 'raw_internal') # internal data raw directory\n",
    "INTERMEDIATE = join(DATA, 'intermediate') # intermediate data directory\n",
    "FINAL = join(DATA, 'final') # final data directory\n",
    "\n",
    "RESULTS = join(PROJ, 'results') # output directory\n",
    "FIGURES = join(RESULTS, 'figures') # figure output directory\n",
    "PICTURES = join(RESULTS, 'pictures') # picture output directory\n",
    "\n",
    "\n",
    "# make folders specific for certain data\n",
    "folder_name = 'BRENDA_data_2019_1'\n",
    "if folder_name != '':\n",
    "    #make folders if they don't exist\n",
    "    if not exists(join(RAW_EXTERNAL, folder_name)):\n",
    "        os.makedirs(join(RAW_EXTERNAL, folder_name))\n",
    "\n",
    "    if not exists(join(INTERMEDIATE, folder_name)):\n",
    "        os.makedirs(join(INTERMEDIATE, folder_name))\n",
    "\n",
    "    if not exists(join(FINAL, folder_name)):\n",
    "        os.makedirs(join(FINAL, folder_name))\n",
    "\n",
    "print('Standard variables loaded, you are good to go!')"
   ]
  },
  {
   "cell_type": "code",
   "execution_count": 52,
   "metadata": {},
   "outputs": [
    {
     "name": "stdout",
     "output_type": "stream",
     "text": [
      "{'EC1.1.1.1': '(+)-2-methylcyclohexanone\\tsulfolobus\\tsolfataricus//prokaryotes;archaea;crenarchaeota;sulfolobus//sso\\t0.25\\t*'}\n",
      "(+)-2-methylcyclohexanone\tsulfolobus\tsolfataricus//prokaryotes;archaea;crenarchaeota;sulfolobus//sso\t0.25\t*\n",
      "C:\\Users\\posk8\\Documents\\Kandidatkod\\brenda_cheminformatics\\data\\raw_external\\BRENDA_data_2019_1\\EC1.1.1.1\n"
     ]
    }
   ],
   "source": [
    "# This program is intended to take a list of enzymes from different EC classes, formatted as a .txt file,\n",
    "# and split this list into separate .txt files for each EC class.\n",
    "#\n",
    "#\n",
    "#\n",
    "#\n",
    "#\n",
    "\n",
    "\"\"\"Pseudokod och sånt dilledall\"\"\"\n",
    "#Övergripande: Läsa in en .txt-fil, spotta ut en jävla massa nya filer. \n",
    "#\n",
    "#Problem 1: läsa in .txt-filerna (separat)\n",
    "#\n",
    "#Problem 2: läsa in specifika EC-nummer och spara i en sträng\n",
    "#\n",
    "#Problem 3: skapa en ny fil.\n",
    "#\n",
    "#Problem 4: skriva sträng från problem 2 till den nya filen. Spara fil.\n",
    "\n",
    "\n",
    "filepath = join(RAW_EXTERNAL,\"BRENDA_data_2019_1\",\"min_KM.txt\")\n",
    "exists(filepath)\n",
    "\n",
    "\n",
    "exists(filepath2)\n",
    "\n",
    "ecstuff={}\n",
    "with open(filepath) as read_file:\n",
    "    y=read_file.readline()\n",
    "    ec = y.split()[0]\n",
    "    ec_data = \"\\t\".join(y.split()[1:])\n",
    "\n",
    "ecstuff[ec] = ec_data\n",
    "\n",
    "print(ecstuff)\n",
    "filepath2 = join(RAW_EXTERNAL, \"BRENDA_data_2019_1\", ec)\n",
    "\n",
    "with open(filepath2,\"w\") as write_file:\n",
    "    write_file.write(ecstuff[ec])\n",
    "    \n",
    "y = open(filepath2,\"r\")\n",
    "print(y.readline())\n",
    "\n",
    "print(filepath2)"
   ]
  },
  {
   "cell_type": "code",
   "execution_count": 108,
   "metadata": {},
   "outputs": [
    {
     "name": "stdout",
     "output_type": "stream",
     "text": [
      "{'EC1.1.1.1': ['(+)-2-methylcyclohexanone\\tsulfolobus solfataricus//prokaryotes;archaea;crenarchaeota;sulfolobus//sso\\t0.25\\t*', '(2e)-but-2-en-1-ol\\tyokenella sp.//*//*\\t9.1\\t*', '(2e)-but-2-enal\\tyokenella sp.//*//*\\t3.3\\t*', '(r)-1-indanol\\tsulfolobus acidocaldarius//prokaryotes;archaea;crenarchaeota;sulfolobus//sai\\t2.4\\t*'], 'EC1.1.1.10': ['nadph\\thomo sapiens//eukaryotes;animals;vertebrates;mammals//hsa\\t0.002\\t*', 'nadph\\tmesocricetus auratus//*//*\\t0.003\\t*', 'nadph\\tmus musculus//eukaryotes;animals;vertebrates;mammals//mmu\\t0.005\\t*', 'nadph\\tneurospora crassa//eukaryotes;fungi;ascomycetes;sordariomycetes//ncr\\t0.0026\\t*'], 'EC1.1.1.116': ['l-fucose\\tcandida albicans//eukaryotes;fungi;ascomycetes;saccharomycetes//cal\\t28.2\\t*', 'l-fucose\\tpseudomonas sp.//prokaryotes;bacteria;gammaproteobacteria - others;pseudomonas//ppuu\\t0.18\\t*', 'l-fucose\\tsaccharomyces cerevisiae//eukaryotes;fungi;ascomycetes;saccharomycetes//sce\\t98.0\\t*', 'l-fucose\\tsus scrofa//eukaryotes;animals;vertebrates;mammals//ssc\\t5.3\\t*']}\n",
      "l-fucose\tsus scrofa//eukaryotes;animals;vertebrates;mammals//ssc\t5.3\t*\n",
      "C:\\Users\\posk8\\Documents\\Kandidatkod\\brenda_cheminformatics\\data\\raw_external\\BRENDA_data_2019_1\\testEC.txt\n"
     ]
    }
   ],
   "source": [
    "brenda_data = join(RAW_EXTERNAL,\"BRENDA_data_2019_1\",\"testEC.txt\")\n",
    "exists(brenda_data)\n",
    "\n",
    "with open(brenda_data) as indata:\n",
    "    sorted_by_EC = {}\n",
    "    for line in indata:\n",
    "        x = line.rstrip()                      # Läser in en rad till strängen x.\n",
    "        ec = x.split(\"\\t\")[0] \n",
    "        ec_data = \"\\t\".join(x.split(\"\\t\")[1:])    \n",
    "        \n",
    "        if ec not in sorted_by_EC:\n",
    "            sorted_by_EC[ec] = [ec_data,]\n",
    "        else: \n",
    "            sorted_by_EC[ec].append(ec_data)\n",
    "\n",
    "print(sorted_by_EC)\n",
    "print(ec_data)\n",
    "print(brenda_data)"
   ]
  }
 ],
 "metadata": {
  "kernelspec": {
   "display_name": "Python 3",
   "language": "python",
   "name": "python3"
  },
  "language_info": {
   "codemirror_mode": {
    "name": "ipython",
    "version": 3
   },
   "file_extension": ".py",
   "mimetype": "text/x-python",
   "name": "python",
   "nbconvert_exporter": "python",
   "pygments_lexer": "ipython3",
   "version": "3.7.1"
  }
 },
 "nbformat": 4,
 "nbformat_minor": 2
}
