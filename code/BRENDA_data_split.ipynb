{
 "cells": [
  {
   "cell_type": "markdown",
   "metadata": {},
   "source": [
    "Modify this line to briefly discribe the functionality of BRENDA_data_split.ipynb<br/><br/>Copyright (C) 2017  Martin Engqvist Lab<br/>This program is free software: you can redistribute it and/or modify<br/>it under the terms of the GNU General Public License as published by<br/>the Free Software Foundation, either version 3 of the License, or<br/>(at your option) any later version.<br/>This program is distributed in the hope that it will be useful,<br/>but WITHOUT ANY WARRANTY; without even the implied warranty of<br/>MERCHANTABILITY or FITNESS FOR A PARTICULAR PURPOSE.  See the<br/>GNU General Public License for more details.<br/>You should have received a copy of the GNU General Public License<br/>along with this program.  If not, see <http://www.gnu.org/licenses/>."
   ]
  },
  {
   "cell_type": "code",
   "execution_count": 3,
   "metadata": {},
   "outputs": [
    {
     "name": "stdout",
     "output_type": "stream",
     "text": [
      "Standard variables loaded, you are good to go!\n"
     ]
    }
   ],
   "source": [
    "import os\n",
    "from dotenv import load_dotenv, find_dotenv\n",
    "from os.path import join, dirname, basename, exists, isdir\n",
    "\n",
    "### Load environmental variables from the project root directory ###\n",
    "# find .env automagically by walking up directories until it's found\n",
    "dotenv_path = find_dotenv()\n",
    "\n",
    "# load up the entries as environment variables\n",
    "load_dotenv(dotenv_path)\n",
    "\n",
    "# now you can get the variables using their names\n",
    "\n",
    "# Check whether a network drive has been specified\n",
    "DATABASE = os.environ.get(\"NETWORK_URL\")\n",
    "if DATABASE == 'None':\n",
    "    pass\n",
    "else:\n",
    "    pass\n",
    "    #mount network drive here\n",
    "\n",
    "# set up directory paths\n",
    "CURRENT_DIR = os.getcwd()\n",
    "PROJ = dirname(dotenv_path) # project root directory\n",
    "\n",
    "DATA = join(PROJ, 'data') #data directory\n",
    "RAW_EXTERNAL = join(DATA, 'raw_external') # external data raw directory\n",
    "RAW_INTERNAL = join(DATA, 'raw_internal') # internal data raw directory\n",
    "INTERMEDIATE = join(DATA, 'intermediate') # intermediate data directory\n",
    "FINAL = join(DATA, 'final') # final data directory\n",
    "\n",
    "RESULTS = join(PROJ, 'results') # output directory\n",
    "FIGURES = join(RESULTS, 'figures') # figure output directory\n",
    "PICTURES = join(RESULTS, 'pictures') # picture output directory\n",
    "\n",
    "\n",
    "# make folders specific for certain data\n",
    "folder_name = 'BRENDA_data_2019_1'\n",
    "if folder_name != '':\n",
    "    #make folders if they don't exist\n",
    "    if not exists(join(RAW_EXTERNAL, folder_name)):\n",
    "        os.makedirs(join(RAW_EXTERNAL, folder_name))\n",
    "\n",
    "    if not exists(join(INTERMEDIATE, folder_name)):\n",
    "        os.makedirs(join(INTERMEDIATE, folder_name))\n",
    "\n",
    "    if not exists(join(FINAL, folder_name)):\n",
    "        os.makedirs(join(FINAL, folder_name))\n",
    "\n",
    "print('Standard variables loaded, you are good to go!')"
   ]
  },
  {
   "cell_type": "code",
   "execution_count": 31,
   "metadata": {},
   "outputs": [
    {
     "name": "stdout",
     "output_type": "stream",
     "text": [
      "{'EC1.1.1.1': '(+)-2-methylcyclohexanone\\tsulfolobus\\tsolfataricus//prokaryotes;archaea;crenarchaeota;sulfolobus//sso\\t0.25\\t*'}\n",
      "(+)-2-methylcyclohexanone\tsulfolobus\tsolfataricus//prokaryotes;archaea;crenarchaeota;sulfolobus//sso\t0.25\t*\n",
      "C:\\Users\\posk8\\Documents\\Kandidatkod\\brenda_cheminformatics\\data\\intermediate\\BRENDA_data_2019_1\\EC1.1.1.1.txt\n"
     ]
    }
   ],
   "source": [
    "# This program is intended to take a list of enzymes from different EC classes, formatted as a .txt file,\n",
    "# and split this list into separate .txt files for each EC class.\n",
    "#\n",
    "#\n",
    "#\n",
    "#\n",
    "#\n",
    "\n",
    "\"\"\"Pseudokod och sånt dilledall\"\"\"\n",
    "#Övergripande: Läsa in en .txt-fil, spotta ut en jävla massa nya filer. \n",
    "#\n",
    "#Problem 1: läsa in .txt-filerna (separat)\n",
    "#\n",
    "#Problem 2: läsa in specifika EC-nummer och spara i en sträng\n",
    "#\n",
    "#Problem 3: skapa en ny fil.\n",
    "#\n",
    "#Problem 4: skriva sträng från problem 2 till den nya filen. Spara fil.\n",
    "\n",
    "\n",
    "filepath = join(RAW_EXTERNAL,\"BRENDA_data_2019_1\",\"min_KM.txt\")\n",
    "exists(filepath)\n",
    "\n",
    "\n",
    "\n",
    "\n",
    "ecstuff={}\n",
    "with open(filepath) as read_file:\n",
    "    y=read_file.readline()\n",
    "    ec = y.split()[0]\n",
    "    ec_data = \"\\t\".join(y.split()[1:])\n",
    "\n",
    "ecstuff[ec] = ec_data\n",
    "\n",
    "print(ecstuff)\n",
    "filepath2 = join(INTERMEDIATE, \"BRENDA_data_2019_1\", ec+\".txt\")\n",
    "\n",
    "with open(filepath2,\"w\") as write_file:\n",
    "    write_file.write(ecstuff[ec])\n",
    "exists(filepath2)\n",
    "y = open(filepath2,\"r\")\n",
    "print(y.readline())\n",
    "\n",
    "print(filepath2)\n",
    "write_file.close()"
   ]
  },
  {
   "cell_type": "code",
   "execution_count": 59,
   "metadata": {},
   "outputs": [],
   "source": [
    "def read_and_split(file):\n",
    "    \"\"\"Reads a file and assigns the EC numbers as keys and the substrate data as values in a dictionary.\"\"\"\n",
    "    with open(file) as indata:\n",
    "        sorted_by_EC = {}\n",
    "        for line in indata:\n",
    "            x = line.rstrip()                        \n",
    "            ec = x.split(\"\\t\")[0]                   # Separates the EC number from substrate information\n",
    "            ec_data = \"\\t\".join(x.split(\"\\t\")[1:])  # Creates a string containing only substrate information.   \n",
    "        \n",
    "            # Check if current EC number already added.\n",
    "            if ec not in sorted_by_EC:              \n",
    "                sorted_by_EC[ec] = [ec_data,]\n",
    "            else: \n",
    "                sorted_by_EC[ec].append(ec_data)\n",
    "    return sorted_by_EC\n",
    "     \n",
    "def create_and_write(file):\n",
    "    \"\"\"Creates separate .txt files for each EC number and writes the respective substrate data to each file.\"\"\"\n",
    "    EC_dict = read_and_split(file)\n",
    "    # Create output files.\n",
    "    for key in EC_dict:\n",
    "        EC_split = join(INTERMEDIATE, \"BRENDA_data_2019_1\", key+\".txt\") # Assign EC-number for filename.\n",
    "        with open(EC_split,'w') as outdata:\n",
    "            for value in range(0,len(EC_dict[key])):\n",
    "                outdata.write(EC_dict[key][value]+\"\\n\")\n",
    "                \n",
    "def split_by_EC(file):\n",
    "    \"\"\"Takes as input a file of EC numbers and substrate data and splits it up into separate files containing all\n",
    "    substrate data for each EC number. \"\"\"\n",
    "    create_and_write(file)\n",
    "    \n",
    "\n",
    "brenda_data = join(RAW_EXTERNAL,\"BRENDA_data_2019_1\",\"min_KM.txt\") # Declare a variable for the input file.   \n",
    "\n",
    "split_by_EC(brenda_data)"
   ]
  }
 ],
 "metadata": {
  "kernelspec": {
   "display_name": "Python 3",
   "language": "python",
   "name": "python3"
  },
  "language_info": {
   "codemirror_mode": {
    "name": "ipython",
    "version": 3
   },
   "file_extension": ".py",
   "mimetype": "text/x-python",
   "name": "python",
   "nbconvert_exporter": "python",
   "pygments_lexer": "ipython3",
   "version": "3.7.1"
  }
 },
 "nbformat": 4,
 "nbformat_minor": 2
}
