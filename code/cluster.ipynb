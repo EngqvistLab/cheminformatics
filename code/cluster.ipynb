{
 "cells": [
  {
   "cell_type": "markdown",
   "metadata": {},
   "source": [
    "## Genenerera FP som en vektor"
   ]
  },
  {
   "cell_type": "code",
   "execution_count": 1,
   "metadata": {},
   "outputs": [],
   "source": [
    "from rdkit import Chem\n",
    "from rdkit.Chem import AllChem\n",
    "from rdkit import DataStructs\n",
    "import matplotlib.pyplot as plt\n",
    "import numpy as np\n",
    "from sklearn.manifold import TSNE\n",
    "from scipy.cluster.hierarchy import dendrogram, linkage\n",
    "import matplotlib.cm as cm"
   ]
  },
  {
   "cell_type": "code",
   "execution_count": 2,
   "metadata": {},
   "outputs": [],
   "source": [
    "smile = ['C[C@H](O)C([O-])=O', 'CCCCC(O)C([O-])=O', 'CCCCCCC(O)C([O-])=O', 'CCCCCCC(O)C([O-])=O', \"CCCCCCCCCCCCCCC(C(=O)[O-])O\", \"[O-]C(=O)C(O)CCCCCCCCCC\", \"C[C@@H](C(=O)[O-])O\", \"C(C(=O)[O-])O\",\"CCCCCCCCCCCCCCC(C(=O)[O-])O\"]\n",
    "smile_fp = {}\n",
    "for i in smile:\n",
    "    if type(i) == str:\n",
    "        # Calculates the choosen fingerprint.\n",
    "        mol=Chem.MolFromSmiles(i)\n",
    "        smile_fp[i] = AllChem.GetMorganFingerprintAsBitVect(mol,5).ToBitString()\n",
    " \n",
    "\"\"\"\n",
    "Input: en fingerprint i bitform.\n",
    "Delar upp bitsen i ett finger print och lägger in i en lista (bits), dessa uppdelade fp läggs in i en ytterligare lista kallad bit_lista. \n",
    "Denna kan användas som input sedan till PCA eller clustering. \n",
    "\"\"\"\n",
    "bit_lista = []\n",
    "bits = []\n",
    "for value in smile_fp.values():\n",
    "    for bit in value:\n",
    "        bits.append(bit)\n",
    "    bit_lista.append(bits)\n",
    "\n"
   ]
  },
  {
   "cell_type": "markdown",
   "metadata": {},
   "source": [
    "## t-SNE på datan\n"
   ]
  },
  {
   "cell_type": "code",
   "execution_count": 3,
   "metadata": {},
   "outputs": [
    {
     "data": {
      "text/plain": [
       "<matplotlib.collections.PathCollection at 0x12c441f98>"
      ]
     },
     "execution_count": 3,
     "metadata": {},
     "output_type": "execute_result"
    },
    {
     "data": {
      "image/png": "[encoded data removed]",
      "text/plain": [
       "<Figure size 432x288 with 1 Axes>"
      ]
     },
     "metadata": {
      "needs_background": "light"
     },
     "output_type": "display_data"
    }
   ],
   "source": [
    "X = np.array(bit_lista) \n",
    "X_embedded = TSNE(n_components=2).fit_transform(X)\n",
    "\n",
    "plt.scatter(X_embedded[:, 0], X_embedded[:, 1], c = cm.rainbow(np.linspace(0, 1, len(X))))"
   ]
  },
  {
   "cell_type": "markdown",
   "metadata": {},
   "source": [
    "## Clustra med K-means"
   ]
  },
  {
   "cell_type": "code",
   "execution_count": 4,
   "metadata": {},
   "outputs": [
    {
     "name": "stdout",
     "output_type": "stream",
     "text": [
      "[3 2 2 4 0 1 4]\n",
      "[[114.37318  166.37051 ]\n",
      " [-35.271225  18.657524]\n",
      " [ 52.82628   41.651012]\n",
      " [140.92378   64.64436 ]\n",
      " [-24.410568 157.31197 ]]\n"
     ]
    },
    {
     "data": {
      "image/png": "[encoded data removed]",
      "text/plain": [
       "<Figure size 432x288 with 1 Axes>"
      ]
     },
     "metadata": {
      "needs_background": "light"
     },
     "output_type": "display_data"
    }
   ],
   "source": [
    "from rdkit import Chem\n",
    "from rdkit.Chem import AllChem\n",
    "from rdkit import DataStructs\n",
    "from sklearn.cluster import KMeans\n",
    "import numpy as np\n",
    "import matplotlib.pyplot as plt\n",
    "\n",
    "data= X_embedded\n",
    "X = np.array(data)\n",
    "kmeans = KMeans(n_clusters=5, random_state=0).fit(data)\n",
    "print(kmeans.labels_)\n",
    "\n",
    "#plt.scatter(X,X, label='True Position')  \n",
    "\n",
    "#kmeans.predict([[0, 0], [12, 3]])\n",
    "\n",
    "print(kmeans.cluster_centers_)  \n",
    "plt.scatter(X[:,0],X[:,1], c=kmeans.labels_, cmap='rainbow')  \n",
    "display()\n"
   ]
  },
  {
   "cell_type": "code",
   "execution_count": 5,
   "metadata": {},
   "outputs": [
    {
     "data": {
      "text/plain": [
       "KMeans(algorithm='auto', copy_x=True, init='k-means++', max_iter=300,\n",
       "    n_clusters=5, n_init=10, n_jobs=None, precompute_distances='auto',\n",
       "    random_state=0, tol=0.0001, verbose=0)"
      ]
     },
     "execution_count": 5,
     "metadata": {},
     "output_type": "execute_result"
    }
   ],
   "source": [
    "kmeans"
   ]
  },
  {
   "cell_type": "code",
   "execution_count": 6,
   "metadata": {},
   "outputs": [
    {
     "data": {
      "text/plain": [
       "array([[140.92378 ,  64.64436 ],\n",
       "       [ 66.101524,  -9.21201 ],\n",
       "       [ 39.551037,  92.51404 ],\n",
       "       [-61.82164 , 120.383705],\n",
       "       [114.37318 , 166.37051 ],\n",
       "       [-35.271225,  18.657526],\n",
       "       [ 13.000499, 194.24022 ]], dtype=float32)"
      ]
     },
     "execution_count": 6,
     "metadata": {},
     "output_type": "execute_result"
    }
   ],
   "source": [
    "X"
   ]
  },
  {
   "cell_type": "code",
   "execution_count": null,
   "metadata": {},
   "outputs": [],
   "source": []
  }
 ],
 "metadata": {
  "kernelspec": {
   "display_name": "Python 3",
   "language": "python",
   "name": "python3"
  },
  "language_info": {
   "codemirror_mode": {
    "name": "ipython",
    "version": 3
   },
   "file_extension": ".py",
   "mimetype": "text/x-python",
   "name": "python",
   "nbconvert_exporter": "python",
   "pygments_lexer": "ipython3",
   "version": "3.7.1"
  }
 },
 "nbformat": 4,
 "nbformat_minor": 2
}
