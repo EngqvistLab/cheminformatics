{
 "cells": [
  {
   "cell_type": "markdown",
   "metadata": {},
   "source": [
    "# Usage of the \"brenda\" module for obtaining molecules from the BRENDA database"
   ]
  },
  {
   "cell_type": "markdown",
   "metadata": {},
   "source": [
    "First create a molecule object that holds all the data."
   ]
  },
  {
   "cell_type": "code",
   "execution_count": 1,
   "metadata": {},
   "outputs": [
    {
     "data": {
      "text/plain": [
       "brenda.BrendaNaturalMols"
      ]
     },
     "execution_count": 1,
     "metadata": {},
     "output_type": "execute_result"
    }
   ],
   "source": [
    "import brenda\n",
    "\n",
    "# other valid values for typeof are 'product', 'substrates', 'products'\n",
    "mol_obj = brenda.BrendaNaturalMols(typeof='substrate') \n",
    "\n",
    "type(mol_obj)"
   ]
  },
  {
   "cell_type": "markdown",
   "metadata": {},
   "source": [
    "Get a list of all unique molecules from all EC numbers"
   ]
  },
  {
   "cell_type": "code",
   "execution_count": 2,
   "metadata": {},
   "outputs": [
    {
     "data": {
      "text/plain": [
       "[\"(1's)-(+)-abscisate\",\n",
       " \"(1's)-averantin\",\n",
       " \"(1's)-averantin +[reduced nadph-hemoprotein reductase]\",\n",
       " '(1,3-beta-d-glucosyl)n',\n",
       " '(1,3-beta-d-glucosyl)n-1',\n",
       " '(1,4-alpha-d-glucosyl)n',\n",
       " '(1,4-beta-d-glucosyl)n',\n",
       " '(1-4)-beta-d-glucosyl-d-mannobiose',\n",
       " '(1-4)-beta-d-glucosyl-d-mannose',\n",
       " '(1-hydroxycyclohexan-1-yl)acetyl-coa']"
      ]
     },
     "execution_count": 2,
     "metadata": {},
     "output_type": "execute_result"
    }
   ],
   "source": [
    "molecules = mol_obj.names()\n",
    "\n",
    "molecules[:10]"
   ]
  },
  {
   "cell_type": "markdown",
   "metadata": {},
   "source": [
    "Get a list of all EC numbers in the dataset"
   ]
  },
  {
   "cell_type": "code",
   "execution_count": 3,
   "metadata": {},
   "outputs": [
    {
     "data": {
      "text/plain": [
       "['1.1.1.1',\n",
       " '1.1.1.10',\n",
       " '1.1.1.100',\n",
       " '1.1.1.101',\n",
       " '1.1.1.102',\n",
       " '1.1.1.103',\n",
       " '1.1.1.104',\n",
       " '1.1.1.105',\n",
       " '1.1.1.106',\n",
       " '1.1.1.107']"
      ]
     },
     "execution_count": 3,
     "metadata": {},
     "output_type": "execute_result"
    }
   ],
   "source": [
    "ec_nums = mol_obj.ec()\n",
    "\n",
    "ec_nums[:10]"
   ]
  },
  {
   "cell_type": "markdown",
   "metadata": {},
   "source": [
    "Get a dictionary with EC number keys holding lists of molecule names"
   ]
  },
  {
   "cell_type": "code",
   "execution_count": 4,
   "metadata": {},
   "outputs": [
    {
     "name": "stdout",
     "output_type": "stream",
     "text": [
      "['1.1.1.1', '1.1.1.10', '1.1.1.100', '1.1.1.101', '1.1.1.102', '1.1.1.103', '1.1.1.104', '1.1.1.105', '1.1.1.106', '1.1.1.107']\n",
      "['alpha-d-glucose', 'galactose', 'glucose', 'sorbose', 'xylose']\n"
     ]
    }
   ],
   "source": [
    "mol_data = mol_obj.data_dict()\n",
    "\n",
    "print(list(mol_data.keys())[:10])\n",
    "\n",
    "print(mol_data['1.1.3.10'])\n"
   ]
  },
  {
   "cell_type": "markdown",
   "metadata": {},
   "source": [
    "Get a data frame holding the EC number and substrate name data"
   ]
  },
  {
   "cell_type": "code",
   "execution_count": 5,
   "metadata": {},
   "outputs": [
    {
     "data": {
      "text/html": [
       "<div>\n",
       "<style scoped>\n",
       "    .dataframe tbody tr th:only-of-type {\n",
       "        vertical-align: middle;\n",
       "    }\n",
       "\n",
       "    .dataframe tbody tr th {\n",
       "        vertical-align: top;\n",
       "    }\n",
       "\n",
       "    .dataframe thead th {\n",
       "        text-align: right;\n",
       "    }\n",
       "</style>\n",
       "<table border=\"1\" class=\"dataframe\">\n",
       "  <thead>\n",
       "    <tr style=\"text-align: right;\">\n",
       "      <th></th>\n",
       "      <th>ec_number</th>\n",
       "      <th>molecule</th>\n",
       "    </tr>\n",
       "  </thead>\n",
       "  <tbody>\n",
       "    <tr>\n",
       "      <th>0</th>\n",
       "      <td>1.1.1.1</td>\n",
       "      <td>1-butanol</td>\n",
       "    </tr>\n",
       "    <tr>\n",
       "      <th>1</th>\n",
       "      <td>1.1.1.1</td>\n",
       "      <td>2-dehydro-3-deoxy-d-gluconate</td>\n",
       "    </tr>\n",
       "    <tr>\n",
       "      <th>2</th>\n",
       "      <td>1.1.1.1</td>\n",
       "      <td>4-deoxy-l-erythro-5-hexoseulose</td>\n",
       "    </tr>\n",
       "    <tr>\n",
       "      <th>3</th>\n",
       "      <td>1.1.1.1</td>\n",
       "      <td>a primary alcohol</td>\n",
       "    </tr>\n",
       "    <tr>\n",
       "      <th>4</th>\n",
       "      <td>1.1.1.1</td>\n",
       "      <td>acetaldehyde</td>\n",
       "    </tr>\n",
       "  </tbody>\n",
       "</table>\n",
       "</div>"
      ],
      "text/plain": [
       "  ec_number                         molecule\n",
       "0   1.1.1.1                        1-butanol\n",
       "1   1.1.1.1    2-dehydro-3-deoxy-d-gluconate\n",
       "2   1.1.1.1  4-deoxy-l-erythro-5-hexoseulose\n",
       "3   1.1.1.1                a primary alcohol\n",
       "4   1.1.1.1                     acetaldehyde"
      ]
     },
     "execution_count": 5,
     "metadata": {},
     "output_type": "execute_result"
    }
   ],
   "source": [
    "mol_data = mol_obj.data_frame()\n",
    "\n",
    "mol_data.head()"
   ]
  },
  {
   "cell_type": "markdown",
   "metadata": {},
   "source": [
    "# Usage of the \"cheminfo\" module for working with the molecules"
   ]
  },
  {
   "cell_type": "markdown",
   "metadata": {},
   "source": [
    "First create a molecule object that holds all the data. Conversion from names to SMILES occurs automatically on creation of the object.\n",
    "\n",
    "The cheminfo module is dependent on the following cheminformatics packages:\n",
    "\n",
    "cirpy\n",
    "\n",
    "pubchempy\n",
    "\n",
    "rdkit"
   ]
  },
  {
   "cell_type": "markdown",
   "metadata": {},
   "source": [
    "### First let's look at name to SMILE conversion"
   ]
  },
  {
   "cell_type": "code",
   "execution_count": 6,
   "metadata": {},
   "outputs": [
    {
     "data": {
      "text/plain": [
       "cheminfo.NameToSmile"
      ]
     },
     "execution_count": 6,
     "metadata": {},
     "output_type": "execute_result"
    }
   ],
   "source": [
    "import cheminfo\n",
    "\n",
    "mols = ['(S)-Lactate', 'Glycolate', 'Tryptophane', 'ATP', 'ADP', 'AMP']\n",
    "\n",
    "chem_obj = cheminfo.NameToSmile(names=mols, retest_none=False)\n",
    "\n",
    "type(chem_obj)"
   ]
  },
  {
   "cell_type": "markdown",
   "metadata": {},
   "source": [
    "Get a list of molecule names"
   ]
  },
  {
   "cell_type": "code",
   "execution_count": 7,
   "metadata": {},
   "outputs": [
    {
     "data": {
      "text/plain": [
       "['lactate', 'glycolate', 'tryptophane', 'atp', 'adp', 'amp']"
      ]
     },
     "execution_count": 7,
     "metadata": {},
     "output_type": "execute_result"
    }
   ],
   "source": [
    "molecules = chem_obj.names()\n",
    "\n",
    "molecules[:10]"
   ]
  },
  {
   "cell_type": "markdown",
   "metadata": {},
   "source": [
    "Get a list of all the smiles"
   ]
  },
  {
   "cell_type": "code",
   "execution_count": 8,
   "metadata": {},
   "outputs": [
    {
     "data": {
      "text/plain": [
       "['CC(C(=O)O)O',\n",
       " 'C(C(=O)O)O',\n",
       " 'C1=CC=C2C(=C1)C(=CN2)CC(C(=O)O)N',\n",
       " 'C1=NC2=C(C(=N1)N)N=CN2C3C(C(C(O3)COP(=O)(O)OP(=O)(O)OP(=O)(O)O)O)O',\n",
       " 'C1=NC2=C(C(=N1)N)N=CN2C3C(C(C(O3)COP(=O)(O)OP(=O)(O)O)O)O',\n",
       " 'C1=NC2=C(C(=N1)N)N=CN2C3C(C(C(O3)COP(=O)(O)O)O)O']"
      ]
     },
     "execution_count": 8,
     "metadata": {},
     "output_type": "execute_result"
    }
   ],
   "source": [
    "smiles = chem_obj.smiles()\n",
    "\n",
    "smiles[:10]"
   ]
  },
  {
   "cell_type": "markdown",
   "metadata": {},
   "source": [
    "Get a dictionary of all data with metabolite names as keys and smiles as values"
   ]
  },
  {
   "cell_type": "code",
   "execution_count": 9,
   "metadata": {},
   "outputs": [
    {
     "name": "stdout",
     "output_type": "stream",
     "text": [
      "['lactate', 'glycolate', 'tryptophane', 'atp', 'adp', 'amp']\n",
      "\n",
      "\n",
      "CC(C(=O)O)O\n"
     ]
    }
   ],
   "source": [
    "smile_data = chem_obj.data_dict()\n",
    "\n",
    "print(list(smile_data.keys())[:10])\n",
    "print('\\n')\n",
    "print(smile_data['lactate'])"
   ]
  },
  {
   "cell_type": "markdown",
   "metadata": {},
   "source": [
    "Get a data frame with the molecule names and smiles data"
   ]
  },
  {
   "cell_type": "code",
   "execution_count": 10,
   "metadata": {},
   "outputs": [
    {
     "data": {
      "text/html": [
       "<div>\n",
       "<style scoped>\n",
       "    .dataframe tbody tr th:only-of-type {\n",
       "        vertical-align: middle;\n",
       "    }\n",
       "\n",
       "    .dataframe tbody tr th {\n",
       "        vertical-align: top;\n",
       "    }\n",
       "\n",
       "    .dataframe thead th {\n",
       "        text-align: right;\n",
       "    }\n",
       "</style>\n",
       "<table border=\"1\" class=\"dataframe\">\n",
       "  <thead>\n",
       "    <tr style=\"text-align: right;\">\n",
       "      <th></th>\n",
       "      <th>molecule</th>\n",
       "      <th>smile</th>\n",
       "    </tr>\n",
       "  </thead>\n",
       "  <tbody>\n",
       "    <tr>\n",
       "      <th>0</th>\n",
       "      <td>lactate</td>\n",
       "      <td>CC(C(=O)O)O</td>\n",
       "    </tr>\n",
       "    <tr>\n",
       "      <th>1</th>\n",
       "      <td>glycolate</td>\n",
       "      <td>C(C(=O)O)O</td>\n",
       "    </tr>\n",
       "    <tr>\n",
       "      <th>2</th>\n",
       "      <td>tryptophane</td>\n",
       "      <td>C1=CC=C2C(=C1)C(=CN2)CC(C(=O)O)N</td>\n",
       "    </tr>\n",
       "    <tr>\n",
       "      <th>3</th>\n",
       "      <td>atp</td>\n",
       "      <td>C1=NC2=C(C(=N1)N)N=CN2C3C(C(C(O3)COP(=O)(O)OP(...</td>\n",
       "    </tr>\n",
       "    <tr>\n",
       "      <th>4</th>\n",
       "      <td>adp</td>\n",
       "      <td>C1=NC2=C(C(=N1)N)N=CN2C3C(C(C(O3)COP(=O)(O)OP(...</td>\n",
       "    </tr>\n",
       "  </tbody>\n",
       "</table>\n",
       "</div>"
      ],
      "text/plain": [
       "      molecule                                              smile\n",
       "0      lactate                                        CC(C(=O)O)O\n",
       "1    glycolate                                         C(C(=O)O)O\n",
       "2  tryptophane                   C1=CC=C2C(=C1)C(=CN2)CC(C(=O)O)N\n",
       "3          atp  C1=NC2=C(C(=N1)N)N=CN2C3C(C(C(O3)COP(=O)(O)OP(...\n",
       "4          adp  C1=NC2=C(C(=N1)N)N=CN2C3C(C(C(O3)COP(=O)(O)OP(..."
      ]
     },
     "execution_count": 10,
     "metadata": {},
     "output_type": "execute_result"
    }
   ],
   "source": [
    "smile_data = chem_obj.data_frame()\n",
    "\n",
    "smile_data.head()"
   ]
  },
  {
   "cell_type": "markdown",
   "metadata": {},
   "source": [
    "**Note**\n",
    "\n",
    "Each of the four methods names(), smiles(), data_dict(), and data_frame() take the optional argument \"exclude_none\". By default this is set to False and all molecule names for which no SMILE could be obtained are excluded. If set to True, these will be included in the output."
   ]
  },
  {
   "cell_type": "markdown",
   "metadata": {},
   "source": [
    "### Now let's look at getting interesting data out of the SMILES"
   ]
  },
  {
   "cell_type": "markdown",
   "metadata": {},
   "source": [
    "First create a data object using molecule names and smiles as input."
   ]
  },
  {
   "cell_type": "code",
   "execution_count": 11,
   "metadata": {},
   "outputs": [
    {
     "data": {
      "text/plain": [
       "cheminfo.SmileToData"
      ]
     },
     "execution_count": 11,
     "metadata": {},
     "output_type": "execute_result"
    }
   ],
   "source": [
    "data_obj = cheminfo.SmileToData(names=chem_obj.names(),\n",
    "                                smiles=chem_obj.smiles(), \n",
    "                                descriptor='morgan3', \n",
    "                                metric='tanimoto')\n",
    "\n",
    "type(data_obj)"
   ]
  },
  {
   "cell_type": "markdown",
   "metadata": {},
   "source": [
    "Several different alortithms for calculating descriptors are available. A list of the available ones can easily be obtained."
   ]
  },
  {
   "cell_type": "code",
   "execution_count": 12,
   "metadata": {},
   "outputs": [
    {
     "data": {
      "text/plain": [
       "['maccs', 'morgan3', 'morgan5', 'rdkit']"
      ]
     },
     "execution_count": 12,
     "metadata": {},
     "output_type": "execute_result"
    }
   ],
   "source": [
    "data_obj.valid_descriptors()"
   ]
  },
  {
   "cell_type": "markdown",
   "metadata": {},
   "source": [
    "Additionally several different metrics for comparing the molecules are available. A list of the available ones can easily be obtained."
   ]
  },
  {
   "cell_type": "code",
   "execution_count": 13,
   "metadata": {},
   "outputs": [
    {
     "data": {
      "text/plain": [
       "['asymmetric',\n",
       " 'braunblanquet',\n",
       " 'cosine',\n",
       " 'dice',\n",
       " 'kulczynski',\n",
       " 'mcconnaughey',\n",
       " 'rogotgoldberg',\n",
       " 'russel',\n",
       " 'sokal',\n",
       " 'tanimoto']"
      ]
     },
     "execution_count": 13,
     "metadata": {},
     "output_type": "execute_result"
    }
   ],
   "source": [
    "data_obj.valid_metrics()"
   ]
  },
  {
   "cell_type": "markdown",
   "metadata": {},
   "source": [
    "#### Obtaining basic properties for the molecules"
   ]
  },
  {
   "cell_type": "markdown",
   "metadata": {},
   "source": [
    "Get a list of the molecule names "
   ]
  },
  {
   "cell_type": "code",
   "execution_count": 14,
   "metadata": {},
   "outputs": [
    {
     "data": {
      "text/plain": [
       "['lactate', 'glycolate', 'tryptophane', 'atp', 'adp', 'amp']"
      ]
     },
     "execution_count": 14,
     "metadata": {},
     "output_type": "execute_result"
    }
   ],
   "source": [
    "names = data_obj.names()\n",
    "\n",
    "names[:10]"
   ]
  },
  {
   "cell_type": "markdown",
   "metadata": {},
   "source": [
    "Get a list of the molecule smiles"
   ]
  },
  {
   "cell_type": "code",
   "execution_count": 15,
   "metadata": {},
   "outputs": [
    {
     "data": {
      "text/plain": [
       "['CC(C(=O)O)O',\n",
       " 'C(C(=O)O)O',\n",
       " 'C1=CC=C2C(=C1)C(=CN2)CC(C(=O)O)N',\n",
       " 'C1=NC2=C(C(=N1)N)N=CN2C3C(C(C(O3)COP(=O)(O)OP(=O)(O)OP(=O)(O)O)O)O',\n",
       " 'C1=NC2=C(C(=N1)N)N=CN2C3C(C(C(O3)COP(=O)(O)OP(=O)(O)O)O)O',\n",
       " 'C1=NC2=C(C(=N1)N)N=CN2C3C(C(C(O3)COP(=O)(O)O)O)O']"
      ]
     },
     "execution_count": 15,
     "metadata": {},
     "output_type": "execute_result"
    }
   ],
   "source": [
    "smiles = data_obj.smiles()\n",
    "\n",
    "smiles[:10]"
   ]
  },
  {
   "cell_type": "markdown",
   "metadata": {},
   "source": [
    "Get a list of the molecule objects obtained from the smiles"
   ]
  },
  {
   "cell_type": "code",
   "execution_count": 16,
   "metadata": {},
   "outputs": [
    {
     "name": "stdout",
     "output_type": "stream",
     "text": [
      "[<rdkit.Chem.rdchem.Mol object at 0x7f34634210d0>, <rdkit.Chem.rdchem.Mol object at 0x7f3463421f30>, <rdkit.Chem.rdchem.Mol object at 0x7f3463421f80>, <rdkit.Chem.rdchem.Mol object at 0x7f34633ae030>, <rdkit.Chem.rdchem.Mol object at 0x7f34633ae080>, <rdkit.Chem.rdchem.Mol object at 0x7f34633ae0d0>]\n"
     ]
    },
    {
     "data": {
      "image/png": "[encoded data removed]",
      "text/plain": [
       "<rdkit.Chem.rdchem.Mol at 0x7f34634210d0>"
      ]
     },
     "metadata": {},
     "output_type": "display_data"
    },
    {
     "data": {
      "image/png": "[encoded data removed]",
      "text/plain": [
       "<rdkit.Chem.rdchem.Mol at 0x7f3463421f30>"
      ]
     },
     "metadata": {},
     "output_type": "display_data"
    },
    {
     "data": {
      "image/png": "[encoded data removed]",
      "text/plain": [
       "<rdkit.Chem.rdchem.Mol at 0x7f3463421f80>"
      ]
     },
     "metadata": {},
     "output_type": "display_data"
    },
    {
     "data": {
      "image/png": "[encoded data removed]",
      "text/plain": [
       "<rdkit.Chem.rdchem.Mol at 0x7f34633ae030>"
      ]
     },
     "metadata": {},
     "output_type": "display_data"
    },
    {
     "data": {
      "image/png": "[encoded data removed]",
      "text/plain": [
       "<rdkit.Chem.rdchem.Mol at 0x7f34633ae080>"
      ]
     },
     "metadata": {},
     "output_type": "display_data"
    },
    {
     "data": {
      "image/png": "[encoded data removed]",
      "text/plain": [
       "<rdkit.Chem.rdchem.Mol at 0x7f34633ae0d0>"
      ]
     },
     "metadata": {},
     "output_type": "display_data"
    }
   ],
   "source": [
    "mols = data_obj.molecules()\n",
    "\n",
    "print(mols[:10])\n",
    "\n",
    "for m in mols[:10]:\n",
    "    display(m)"
   ]
  },
  {
   "cell_type": "markdown",
   "metadata": {},
   "source": [
    "Get a list of fingerprint objects for each of the molecules"
   ]
  },
  {
   "cell_type": "code",
   "execution_count": 17,
   "metadata": {},
   "outputs": [
    {
     "data": {
      "text/plain": [
       "<rdkit.DataStructs.cDataStructs.ExplicitBitVect at 0x7f34633ae120>"
      ]
     },
     "execution_count": 17,
     "metadata": {},
     "output_type": "execute_result"
    }
   ],
   "source": [
    "fingerp = data_obj.fingerprints()\n",
    "\n",
    "fingerp[0]"
   ]
  },
  {
   "cell_type": "markdown",
   "metadata": {},
   "source": [
    "Get a list of molecule properties for the molecules"
   ]
  },
  {
   "cell_type": "code",
   "execution_count": 18,
   "metadata": {},
   "outputs": [
    {
     "data": {
      "text/plain": [
       "[90.031694052,\n",
       " 76.016043988,\n",
       " 204.089877624,\n",
       " 506.9957454619997,\n",
       " 427.0294149399998,\n",
       " 347.06308441799985]"
      ]
     },
     "execution_count": 18,
     "metadata": {},
     "output_type": "execute_result"
    }
   ],
   "source": [
    "props = data_obj.property(property_type='molwt')\n",
    "\n",
    "props[:10]"
   ]
  },
  {
   "cell_type": "markdown",
   "metadata": {},
   "source": [
    "You can easiliy obtain a list of which properties that are available"
   ]
  },
  {
   "cell_type": "code",
   "execution_count": 19,
   "metadata": {},
   "outputs": [
    {
     "data": {
      "text/plain": [
       "['molwt',\n",
       " 'num_alirings',\n",
       " 'num_arorings',\n",
       " 'num_hbond_acceptors',\n",
       " 'num_hbond_donors',\n",
       " 'num_hetatom',\n",
       " 'num_nhoh',\n",
       " 'num_no',\n",
       " 'num_rotbond',\n",
       " 'tpsa']"
      ]
     },
     "execution_count": 19,
     "metadata": {},
     "output_type": "execute_result"
    }
   ],
   "source": [
    "data_obj.valid_properties()"
   ]
  },
  {
   "cell_type": "markdown",
   "metadata": {},
   "source": [
    "These are a bit cryptic, so one can also get the explanation."
   ]
  },
  {
   "cell_type": "code",
   "execution_count": 20,
   "metadata": {},
   "outputs": [
    {
     "data": {
      "text/plain": [
       "['\"molwt\": molecular weight',\n",
       " '\"num_alirings\": number of aliphatic rings',\n",
       " '\"num_arorings\": number of aromatic rings',\n",
       " '\"num_hbond_acceptors\": number of hydrogen bond acceptors',\n",
       " '\"num_hbond_donors\": number of hydrogen bond donors',\n",
       " '\"num_hetatom\": number of hetero atoms',\n",
       " '\"num_nhoh\": number of NH and OH groups',\n",
       " '\"num_no\": number of N and O atoms',\n",
       " '\"num_rotbond\": number of rotatable bonds',\n",
       " '\"tpsa\": polar surface area']"
      ]
     },
     "execution_count": 20,
     "metadata": {},
     "output_type": "execute_result"
    }
   ],
   "source": [
    "data_obj.explain_properties()"
   ]
  },
  {
   "cell_type": "markdown",
   "metadata": {},
   "source": [
    "Get a dictionary containing a selection of chemical properties for each molecule"
   ]
  },
  {
   "cell_type": "code",
   "execution_count": 21,
   "metadata": {},
   "outputs": [
    {
     "name": "stdout",
     "output_type": "stream",
     "text": [
      "dict_keys(['lactate', 'glycolate', 'tryptophane', 'atp', 'adp', 'amp'])\n"
     ]
    },
    {
     "data": {
      "text/plain": [
       "{'smile': 'CC(C(=O)O)O',\n",
       " 'molwt': 90.031694052,\n",
       " 'num_alirings': 0,\n",
       " 'num_arorings': 0,\n",
       " 'num_hbond_acceptors': 2,\n",
       " 'num_hbond_donors': 2,\n",
       " 'num_hetatom': 3,\n",
       " 'num_nhoh': 2,\n",
       " 'num_no': 3,\n",
       " 'num_rotbond': 1,\n",
       " 'tpsa': 57.53}"
      ]
     },
     "execution_count": 21,
     "metadata": {},
     "output_type": "execute_result"
    }
   ],
   "source": [
    "prop_dict = data_obj.data_dict()\n",
    "\n",
    "print(prop_dict.keys())\n",
    "\n",
    "prop_dict['lactate']"
   ]
  },
  {
   "cell_type": "markdown",
   "metadata": {},
   "source": [
    "Get a data frame containing a selection of chemical properties for each molecule"
   ]
  },
  {
   "cell_type": "code",
   "execution_count": 22,
   "metadata": {},
   "outputs": [
    {
     "data": {
      "text/html": [
       "<div>\n",
       "<style scoped>\n",
       "    .dataframe tbody tr th:only-of-type {\n",
       "        vertical-align: middle;\n",
       "    }\n",
       "\n",
       "    .dataframe tbody tr th {\n",
       "        vertical-align: top;\n",
       "    }\n",
       "\n",
       "    .dataframe thead th {\n",
       "        text-align: right;\n",
       "    }\n",
       "</style>\n",
       "<table border=\"1\" class=\"dataframe\">\n",
       "  <thead>\n",
       "    <tr style=\"text-align: right;\">\n",
       "      <th></th>\n",
       "      <th>molecule</th>\n",
       "      <th>smile</th>\n",
       "      <th>molwt</th>\n",
       "      <th>num_alirings</th>\n",
       "      <th>num_arorings</th>\n",
       "      <th>num_hbond_acceptors</th>\n",
       "      <th>num_hbond_donors</th>\n",
       "      <th>num_hetatom</th>\n",
       "      <th>num_nhoh</th>\n",
       "      <th>num_no</th>\n",
       "      <th>num_rotbond</th>\n",
       "      <th>tpsa</th>\n",
       "    </tr>\n",
       "  </thead>\n",
       "  <tbody>\n",
       "    <tr>\n",
       "      <th>0</th>\n",
       "      <td>lactate</td>\n",
       "      <td>CC(C(=O)O)O</td>\n",
       "      <td>90.031694</td>\n",
       "      <td>0</td>\n",
       "      <td>0</td>\n",
       "      <td>2</td>\n",
       "      <td>2</td>\n",
       "      <td>3</td>\n",
       "      <td>2</td>\n",
       "      <td>3</td>\n",
       "      <td>1</td>\n",
       "      <td>57.53</td>\n",
       "    </tr>\n",
       "    <tr>\n",
       "      <th>1</th>\n",
       "      <td>glycolate</td>\n",
       "      <td>C(C(=O)O)O</td>\n",
       "      <td>76.016044</td>\n",
       "      <td>0</td>\n",
       "      <td>0</td>\n",
       "      <td>2</td>\n",
       "      <td>2</td>\n",
       "      <td>3</td>\n",
       "      <td>2</td>\n",
       "      <td>3</td>\n",
       "      <td>1</td>\n",
       "      <td>57.53</td>\n",
       "    </tr>\n",
       "    <tr>\n",
       "      <th>2</th>\n",
       "      <td>tryptophane</td>\n",
       "      <td>C1=CC=C2C(=C1)C(=CN2)CC(C(=O)O)N</td>\n",
       "      <td>204.089878</td>\n",
       "      <td>0</td>\n",
       "      <td>2</td>\n",
       "      <td>2</td>\n",
       "      <td>3</td>\n",
       "      <td>4</td>\n",
       "      <td>4</td>\n",
       "      <td>4</td>\n",
       "      <td>3</td>\n",
       "      <td>79.11</td>\n",
       "    </tr>\n",
       "    <tr>\n",
       "      <th>3</th>\n",
       "      <td>atp</td>\n",
       "      <td>C1=NC2=C(C(=N1)N)N=CN2C3C(C(C(O3)COP(=O)(O)OP(...</td>\n",
       "      <td>506.995745</td>\n",
       "      <td>1</td>\n",
       "      <td>2</td>\n",
       "      <td>14</td>\n",
       "      <td>7</td>\n",
       "      <td>21</td>\n",
       "      <td>8</td>\n",
       "      <td>18</td>\n",
       "      <td>8</td>\n",
       "      <td>279.13</td>\n",
       "    </tr>\n",
       "    <tr>\n",
       "      <th>4</th>\n",
       "      <td>adp</td>\n",
       "      <td>C1=NC2=C(C(=N1)N)N=CN2C3C(C(C(O3)COP(=O)(O)OP(...</td>\n",
       "      <td>427.029415</td>\n",
       "      <td>1</td>\n",
       "      <td>2</td>\n",
       "      <td>12</td>\n",
       "      <td>6</td>\n",
       "      <td>17</td>\n",
       "      <td>7</td>\n",
       "      <td>15</td>\n",
       "      <td>6</td>\n",
       "      <td>232.60</td>\n",
       "    </tr>\n",
       "  </tbody>\n",
       "</table>\n",
       "</div>"
      ],
      "text/plain": [
       "      molecule                                              smile       molwt  \\\n",
       "0      lactate                                        CC(C(=O)O)O   90.031694   \n",
       "1    glycolate                                         C(C(=O)O)O   76.016044   \n",
       "2  tryptophane                   C1=CC=C2C(=C1)C(=CN2)CC(C(=O)O)N  204.089878   \n",
       "3          atp  C1=NC2=C(C(=N1)N)N=CN2C3C(C(C(O3)COP(=O)(O)OP(...  506.995745   \n",
       "4          adp  C1=NC2=C(C(=N1)N)N=CN2C3C(C(C(O3)COP(=O)(O)OP(...  427.029415   \n",
       "\n",
       "   num_alirings  num_arorings  num_hbond_acceptors  num_hbond_donors  \\\n",
       "0             0             0                    2                 2   \n",
       "1             0             0                    2                 2   \n",
       "2             0             2                    2                 3   \n",
       "3             1             2                   14                 7   \n",
       "4             1             2                   12                 6   \n",
       "\n",
       "   num_hetatom  num_nhoh  num_no  num_rotbond    tpsa  \n",
       "0            3         2       3            1   57.53  \n",
       "1            3         2       3            1   57.53  \n",
       "2            4         4       4            3   79.11  \n",
       "3           21         8      18            8  279.13  \n",
       "4           17         7      15            6  232.60  "
      ]
     },
     "execution_count": 22,
     "metadata": {},
     "output_type": "execute_result"
    }
   ],
   "source": [
    "prop_data = data_obj.data_frame()\n",
    "\n",
    "prop_data.head()"
   ]
  },
  {
   "cell_type": "markdown",
   "metadata": {},
   "source": [
    "xyz"
   ]
  },
  {
   "cell_type": "code",
   "execution_count": null,
   "metadata": {},
   "outputs": [],
   "source": []
  },
  {
   "cell_type": "markdown",
   "metadata": {},
   "source": [
    "Get a matrix of all pairwise similarities between molecules"
   ]
  },
  {
   "cell_type": "code",
   "execution_count": 25,
   "metadata": {},
   "outputs": [
    {
     "data": {
      "text/html": [
       "<div>\n",
       "<style scoped>\n",
       "    .dataframe tbody tr th:only-of-type {\n",
       "        vertical-align: middle;\n",
       "    }\n",
       "\n",
       "    .dataframe tbody tr th {\n",
       "        vertical-align: top;\n",
       "    }\n",
       "\n",
       "    .dataframe thead th {\n",
       "        text-align: right;\n",
       "    }\n",
       "</style>\n",
       "<table border=\"1\" class=\"dataframe\">\n",
       "  <thead>\n",
       "    <tr style=\"text-align: right;\">\n",
       "      <th></th>\n",
       "      <th>lactate</th>\n",
       "      <th>glycolate</th>\n",
       "      <th>tryptophane</th>\n",
       "      <th>atp</th>\n",
       "      <th>adp</th>\n",
       "      <th>amp</th>\n",
       "    </tr>\n",
       "  </thead>\n",
       "  <tbody>\n",
       "    <tr>\n",
       "      <th>lactate</th>\n",
       "      <td>0.000000</td>\n",
       "      <td>0.750000</td>\n",
       "      <td>0.875000</td>\n",
       "      <td>0.962500</td>\n",
       "      <td>0.961039</td>\n",
       "      <td>0.957143</td>\n",
       "    </tr>\n",
       "    <tr>\n",
       "      <th>glycolate</th>\n",
       "      <td>0.750000</td>\n",
       "      <td>0.000000</td>\n",
       "      <td>0.893617</td>\n",
       "      <td>0.961538</td>\n",
       "      <td>0.960000</td>\n",
       "      <td>0.955882</td>\n",
       "    </tr>\n",
       "    <tr>\n",
       "      <th>tryptophane</th>\n",
       "      <td>0.875000</td>\n",
       "      <td>0.893617</td>\n",
       "      <td>0.000000</td>\n",
       "      <td>0.925234</td>\n",
       "      <td>0.923077</td>\n",
       "      <td>0.917526</td>\n",
       "    </tr>\n",
       "    <tr>\n",
       "      <th>atp</th>\n",
       "      <td>0.962500</td>\n",
       "      <td>0.961538</td>\n",
       "      <td>0.925234</td>\n",
       "      <td>0.000000</td>\n",
       "      <td>0.094595</td>\n",
       "      <td>0.213333</td>\n",
       "    </tr>\n",
       "    <tr>\n",
       "      <th>adp</th>\n",
       "      <td>0.961039</td>\n",
       "      <td>0.960000</td>\n",
       "      <td>0.923077</td>\n",
       "      <td>0.094595</td>\n",
       "      <td>0.000000</td>\n",
       "      <td>0.180556</td>\n",
       "    </tr>\n",
       "    <tr>\n",
       "      <th>amp</th>\n",
       "      <td>0.957143</td>\n",
       "      <td>0.955882</td>\n",
       "      <td>0.917526</td>\n",
       "      <td>0.213333</td>\n",
       "      <td>0.180556</td>\n",
       "      <td>0.000000</td>\n",
       "    </tr>\n",
       "  </tbody>\n",
       "</table>\n",
       "</div>"
      ],
      "text/plain": [
       "              lactate  glycolate  tryptophane       atp       adp       amp\n",
       "lactate      0.000000   0.750000     0.875000  0.962500  0.961039  0.957143\n",
       "glycolate    0.750000   0.000000     0.893617  0.961538  0.960000  0.955882\n",
       "tryptophane  0.875000   0.893617     0.000000  0.925234  0.923077  0.917526\n",
       "atp          0.962500   0.961538     0.925234  0.000000  0.094595  0.213333\n",
       "adp          0.961039   0.960000     0.923077  0.094595  0.000000  0.180556\n",
       "amp          0.957143   0.955882     0.917526  0.213333  0.180556  0.000000"
      ]
     },
     "execution_count": 25,
     "metadata": {},
     "output_type": "execute_result"
    }
   ],
   "source": [
    "data_obj.similarity()"
   ]
  },
  {
   "cell_type": "markdown",
   "metadata": {},
   "source": [
    "Get a matrix of all pairwise distances between molecules"
   ]
  },
  {
   "cell_type": "code",
   "execution_count": 24,
   "metadata": {},
   "outputs": [
    {
     "ename": "AttributeError",
     "evalue": "'SmileToData' object has no attribute 'distance_matrix'",
     "output_type": "error",
     "traceback": [
      "\u001b[0;31m---------------------------------------------------------------------------\u001b[0m",
      "\u001b[0;31mAttributeError\u001b[0m                            Traceback (most recent call last)",
      "\u001b[0;32m<ipython-input-24-cf4dab6d9c7b>\u001b[0m in \u001b[0;36m<module>\u001b[0;34m\u001b[0m\n\u001b[0;32m----> 1\u001b[0;31m \u001b[0mdata_obj\u001b[0m\u001b[0;34m.\u001b[0m\u001b[0mdistance\u001b[0m\u001b[0;34m(\u001b[0m\u001b[0;34m)\u001b[0m\u001b[0;34m\u001b[0m\u001b[0;34m\u001b[0m\u001b[0m\n\u001b[0m",
      "\u001b[0;32m/data/Work/projects/brenda_cheminformatics/code/cheminfo/cheminfo.py\u001b[0m in \u001b[0;36mdistance\u001b[0;34m(self)\u001b[0m\n\u001b[1;32m    464\u001b[0m                 \u001b[0mReturn\u001b[0m \u001b[0mdistance\u001b[0m \u001b[0mmatrix\u001b[0m \u001b[0;32mwith\u001b[0m \u001b[0mall\u001b[0m \u001b[0mchemnical\u001b[0m \u001b[0mdistances\u001b[0m\u001b[0;34m\u001b[0m\u001b[0;34m\u001b[0m\u001b[0m\n\u001b[1;32m    465\u001b[0m \t\t'''\n\u001b[0;32m--> 466\u001b[0;31m                 \u001b[0;32mreturn\u001b[0m \u001b[0mself\u001b[0m\u001b[0;34m.\u001b[0m\u001b[0mdistance_matrix\u001b[0m\u001b[0;34m\u001b[0m\u001b[0;34m\u001b[0m\u001b[0m\n\u001b[0m\u001b[1;32m    467\u001b[0m \u001b[0;34m\u001b[0m\u001b[0m\n\u001b[1;32m    468\u001b[0m \u001b[0;34m\u001b[0m\u001b[0m\n",
      "\u001b[0;31mAttributeError\u001b[0m: 'SmileToData' object has no attribute 'distance_matrix'"
     ]
    }
   ],
   "source": [
    "data_obj.distance()"
   ]
  },
  {
   "cell_type": "markdown",
   "metadata": {},
   "source": []
  },
  {
   "cell_type": "code",
   "execution_count": null,
   "metadata": {},
   "outputs": [],
   "source": [
    "data_obj.similarity_stats()"
   ]
  },
  {
   "cell_type": "markdown",
   "metadata": {},
   "source": [
    "Get a subset of diverse molecules, chosen from the total set of molecules. It is possible to specify already selected molecules in the \"firstpicks\" argument."
   ]
  },
  {
   "cell_type": "code",
   "execution_count": null,
   "metadata": {},
   "outputs": [],
   "source": [
    "data_obj.diversity_pick(n=3, firstpicks=['glycolate'])"
   ]
  },
  {
   "cell_type": "markdown",
   "metadata": {},
   "source": [
    "Draw the molecules"
   ]
  },
  {
   "cell_type": "code",
   "execution_count": null,
   "metadata": {},
   "outputs": [],
   "source": []
  },
  {
   "cell_type": "markdown",
   "metadata": {},
   "source": [
    "Draw the molecules and highlight the common substructure"
   ]
  },
  {
   "cell_type": "code",
   "execution_count": null,
   "metadata": {},
   "outputs": [],
   "source": []
  },
  {
   "cell_type": "markdown",
   "metadata": {},
   "source": [
    "Cluster the molecules and obtain a vector indicating cluster identity for each molecule"
   ]
  },
  {
   "cell_type": "code",
   "execution_count": null,
   "metadata": {},
   "outputs": [],
   "source": [
    "data_obj.cluster()"
   ]
  },
  {
   "cell_type": "markdown",
   "metadata": {},
   "source": [
    "Use t-SNE to visualize the relationship between all molecules"
   ]
  },
  {
   "cell_type": "code",
   "execution_count": null,
   "metadata": {},
   "outputs": [],
   "source": [
    "data_obj.tsne()"
   ]
  },
  {
   "cell_type": "markdown",
   "metadata": {},
   "source": [
    "Use PCA to visualize the relationship between all molecules"
   ]
  },
  {
   "cell_type": "code",
   "execution_count": null,
   "metadata": {},
   "outputs": [],
   "source": [
    "data_obj.pca()"
   ]
  },
  {
   "cell_type": "markdown",
   "metadata": {},
   "source": [
    "Use MDS to visualize the relationship between all molecules"
   ]
  },
  {
   "cell_type": "code",
   "execution_count": null,
   "metadata": {},
   "outputs": [],
   "source": [
    "data_obj.mds()"
   ]
  }
 ],
 "metadata": {
  "kernelspec": {
   "display_name": "Python 3",
   "language": "python",
   "name": "python3"
  },
  "language_info": {
   "codemirror_mode": {
    "name": "ipython",
    "version": 3
   },
   "file_extension": ".py",
   "mimetype": "text/x-python",
   "name": "python",
   "nbconvert_exporter": "python",
   "pygments_lexer": "ipython3",
   "version": "3.7.1"
  }
 },
 "nbformat": 4,
 "nbformat_minor": 2
}
