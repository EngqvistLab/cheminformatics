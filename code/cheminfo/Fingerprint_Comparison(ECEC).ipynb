{
 "cells": [
  {
   "cell_type": "code",
   "execution_count": 1,
   "metadata": {},
   "outputs": [],
   "source": [
    "# Koden har som input en Dictionary där Keys är Enzym och deras values är listor av deras substrat redan i smiles\n",
    "\n",
    "#imput \n",
    "import matplotlib.pyplot as plt\n",
    "import numpy as np\n",
    "from rdkit import Chem\n",
    "from rdkit.Chem import AllChem\n",
    "from rdkit import DataStructs\n",
    "import itertools\n",
    "import pandas as pd\n",
    "from rdkit.Chem import MACCSkeys\n",
    "from rdkit.Chem.Fingerprints import FingerprintMols\n",
    "import pylab\n",
    "\n",
    "dd = {'Enzym1': [\"C[C@@H](C(=O)[O-])O\" , \"[O-]C(=O)C(O)CCCCCCCCCC\" , \"C[C@@H](C(=O)[O-])O\"], \n",
    "      'Enzym2': [\"CCCC[C@@H](C(=O)[O-])O\" , \"CCCCCCCCCCCCCCC(C(=O)[O-])O\" , \"C[C@@H](C(=O)[O-])O\"]} # Exempel\n",
    "# alt sätt input till dd\n",
    "\n",
    "for key in dd: # Här loopas enzymen\n",
    "    morgan = []\n",
    "    maccs = []\n",
    "    topological = []\n",
    "    \n",
    "    morganpairs = []\n",
    "    maccspairs = []\n",
    "    topologicalpairs = []\n",
    "    \n",
    "    \n",
    "    for i in dd[key]: # Här loopas enzymens substrat och gör den till fp\n",
    "        mol=Chem.MolFromSmiles(i)\n",
    "        \n",
    "        morgan.append(AllChem.GetMorganFingerprintAsBitVect(mol,5))\n",
    "        \n",
    "        maccs.append(MACCSkeys.GenMACCSKeys(mol))\n",
    "        \n",
    "        topological.append(FingerprintMols.FingerprintMol(mol))\n",
    "        \n",
    "        \n",
    "    for x,y in itertools.combinations(morgan, 2):   # Här blir fp pairwise scores av olika slag\n",
    "        morganpairs.append(DataStructs.FingerprintSimilarity(x, y))\n",
    "        \n",
    "    for x,y in itertools.combinations(maccs, 2):\n",
    "        maccspairs.append(DataStructs.FingerprintSimilarity(x, y))\n",
    "    \n",
    "    for x,y in itertools.combinations(topological, 2):\n",
    "        topologicalpairs.append(DataStructs.FingerprintSimilarity(x, y))\n",
    "        \n",
    "    morgan_avg = sum(morganpairs) / len(morganpairs)\n",
    "    maccs_avg = sum(maccspairs) / len(maccspairs)\n",
    "    topological_avg = sum(topologicalpairs) / len(topologicalpairs)\n",
    "    \n",
    "    morgmacctopo = [morgan_avg,maccs_avg,topological_avg]\n",
    "    \n",
    "    dd[key] = morgmacctopo\n",
    "    \n",
    "    \n",
    "    # outputten blir asså dd = {'Enzym1': [morgan_avg,maccs_avg,topological_avg], ... }\n",
    "        \n",
    "        "
   ]
  },
  {
   "cell_type": "code",
   "execution_count": null,
   "metadata": {},
   "outputs": [],
   "source": [
    "\n",
    "## Om man hellre vill undersöka EC klass mot EC klass kan man använda cellen ovan precis som vanligt.\n",
    "## Inputen då är alltså Dictionary {Keys = EC klasser, Values = alla substrat till enzym i den EC klassen}\n"
   ]
  },
  {
   "cell_type": "code",
   "execution_count": 2,
   "metadata": {},
   "outputs": [
    {
     "data": {
      "text/plain": [
       "<matplotlib.legend.Legend at 0x1ec0f006c88>"
      ]
     },
     "execution_count": 2,
     "metadata": {},
     "output_type": "execute_result"
    },
    {
     "data": {
      "image/png": "[encoded data removed]",
      "text/plain": [
       "<Figure size 432x288 with 1 Axes>"
      ]
     },
     "metadata": {
      "needs_background": "light"
     },
     "output_type": "display_data"
    }
   ],
   "source": [
    "# Antingen plottar man bara här: Y(avgTanimoto) X(Enzym), 3st grafer - en för varje fp\n",
    "# ALT tar man avg på alla avgTanimoto för alla enzym = en siffra för hela enzym klassen, och sen plottar man Y(avgEC) X(EC)\n",
    "\n",
    "#plot\n",
    "\n",
    "#Loopa dict och appenda keys till en list för att sätta namn på x-axis\n",
    "\n",
    "x = range(len(dd))\n",
    "xticks = []\n",
    "morgan = []\n",
    "maccs = []\n",
    "topological = []\n",
    "for keys, values in dd.items():\n",
    "    xticks.append(keys)\n",
    "    morgan.append(values[0])\n",
    "    maccs.append(values[1])\n",
    "    topological.append(values[2])\n",
    "\n",
    "plt.ylabel ('Similarity')\n",
    "plt.xlabel ('Enzyme')\n",
    "plt.xticks (x,xticks)\n",
    "axes = plt.gca()\n",
    "axes.set_ylim([0,1])\n",
    "plt.scatter (x,morgan)\n",
    "plt.plot (x,morgan, label = 'Morgan')\n",
    "plt.scatter (x,maccs)\n",
    "plt.plot (x,maccs, label = 'Maccs')\n",
    "plt.scatter (x,topological)\n",
    "plt.plot (x,topological, label = 'Topological')\n",
    "pylab.legend(loc = 'upper right')"
   ]
  },
  {
   "cell_type": "code",
   "execution_count": 3,
   "metadata": {},
   "outputs": [
    {
     "data": {
      "image/png": "[encoded data removed]",
      "text/plain": [
       "<Figure size 432x288 with 1 Axes>"
      ]
     },
     "metadata": {
      "needs_background": "light"
     },
     "output_type": "display_data"
    }
   ],
   "source": [
    "## Box plot\n",
    "\n",
    "#d = {'a': [0.9,0.2,0.3], 'b': [0.2,0.6,0.9], 'c': [0.8,0.4,0.6]} #till exemepl\n",
    "\n",
    "morganbox = []\n",
    "maccsbox = []\n",
    "topologicalbox = []\n",
    "for key in dd:\n",
    "    morganbox.append(dd[key][0])\n",
    "    maccsbox.append(dd[key][1])\n",
    "    topologicalbox.append(dd[key][2])\n",
    "\n",
    "data = [morganbox,maccsbox,topologicalbox]\n",
    "\n",
    "# Multiple box plots on one Axes\n",
    "fig, ax = plt.subplots()\n",
    "\n",
    "ax.boxplot(data)\n",
    "xticks = ['Morgan', 'Maccs', 'Topological']\n",
    "plt.xticks ([1,2,3],xticks)\n",
    "plt.show()"
   ]
  },
  {
   "cell_type": "code",
   "execution_count": null,
   "metadata": {},
   "outputs": [],
   "source": []
  }
 ],
 "metadata": {
  "kernelspec": {
   "display_name": "Python 3",
   "language": "python",
   "name": "python3"
  },
  "language_info": {
   "codemirror_mode": {
    "name": "ipython",
    "version": 3
   },
   "file_extension": ".py",
   "mimetype": "text/x-python",
   "name": "python",
   "nbconvert_exporter": "python",
   "pygments_lexer": "ipython3",
   "version": "3.7.1"
  }
 },
 "nbformat": 4,
 "nbformat_minor": 2
}
