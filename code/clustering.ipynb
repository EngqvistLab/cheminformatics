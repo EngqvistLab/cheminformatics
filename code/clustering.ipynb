{
 "cells": [
  {
   "cell_type": "code",
   "execution_count": 7,
   "metadata": {},
   "outputs": [],
   "source": [
    "from rdkit import Chem\n",
    "from rdkit.Chem import AllChem\n",
    "from rdkit import DataStructs\n",
    "from rdkit.Chem import MACCSkeys\n",
    "from rdkit.ML.Cluster import Butina\n",
    "from sklearn.decomposition import PCA\n",
    "from sklearn.cluster import DBSCAN\n",
    "from sklearn.manifold import TSNE, MDS\n",
    "import matplotlib.pyplot as plt\n",
    "import numpy as np"
   ]
  },
  {
   "cell_type": "code",
   "execution_count": 30,
   "metadata": {},
   "outputs": [],
   "source": [
    "def butina_clustering(smile, cutoff=0.7):  \n",
    "    \"\"\"\n",
    "    Input: a list containing smiles.\n",
    "    Output: Butina cluster for the molecules, visualised with colours in a 2D plot and \n",
    "    a list with the smiles of each cluster.\n",
    "    Butina clustering: Butina clustering algorithm from RDKit is used on the fingerprint vectors.\n",
    "    The Tanimoto score is used for the clustering. The function returns the list: smile_cluster, \n",
    "    that contains lists with all the smiles in each of the clusters. To achive a good clustering, \n",
    "    parameter cutoff can be changed to fit the dataset.\n",
    "    Butina parameters:\n",
    "    cutoff: The cluster centroid is at least this similar to all other cluster members. \n",
    "    \"\"\"\n",
    "\n",
    "    # Calculates fingerprints for all smiles.\n",
    "    smiles_fps = {}\n",
    "    for molecule in smile:\n",
    "        try:\n",
    "            mol = Chem.MolFromSmiles(molecule)\n",
    "            smiles_fps[molecule] = MACCSkeys.GenMACCSKeys(mol)\n",
    "        except: \n",
    "            print(f\"The fingerprint for {molecule} could not be generated.\")\n",
    "            \n",
    "    # Makes 2 lists, one with all fingerprints and one with all smiles.        \n",
    "    fps_ = []\n",
    "    for value in smiles_fps.values():\n",
    "        fps_.append(value)\n",
    "        \n",
    "    # Creates one vector with the bits in the fingerprint and one list with the corresponding smiles.\n",
    "    bit_list = [] \n",
    "    smile_list = []\n",
    "    for key, value in smiles_fps.items():\n",
    "        bits = []\n",
    "        bit_fp = value.ToBitString()\n",
    "        for bit in bit_fp:\n",
    "            bits.append(int(bit)) \n",
    "        bit_list.append(bits)\n",
    "        smile_list.append(key)\n",
    "\n",
    "    #Butina cluster: Generate the distance matrix (metric=tanimoto):\n",
    "    dists = []\n",
    "    len_fps = len(smile_list) \n",
    "    for fp in range(1, len_fps):\n",
    "        similarities = DataStructs.BulkTanimotoSimilarity(fps_[fp], fps_[: fp])\n",
    "        dists.extend([1-x for x in similarities])\n",
    "        \n",
    "    #Cluster the data:\n",
    "    cluster = Butina.ClusterData(dists, len_fps, cutoff, isDistData=True)\n",
    "    #print(f\"Clusters: {cluster} \\nEach tuple represent a cluster, the numbers represent the index in smile_list.\")\n",
    "       \n",
    "    #Generates smile_cluster: a list with lists of all the smiles in one cluster and the cluster labels.\n",
    "    counter = 0\n",
    "    smile_cluster = []\n",
    "    cluster_label = ['#']*len_fps\n",
    "    for molecule in cluster:\n",
    "        clusters = []\n",
    "        for numb in molecule:\n",
    "            cluster_label[numb] = counter\n",
    "            clusters.append(smile_list[numb])\n",
    "        counter += 1\n",
    "        smile_cluster.append(clusters)\n",
    "\n",
    "    return(smile_cluster, cluster_label, bit_list, smile_list)  \n"
   ]
  },
  {
   "cell_type": "code",
   "execution_count": 41,
   "metadata": {},
   "outputs": [],
   "source": [
    "def dbscan_clustering(smile, eps=0.3, min_samples=2):\n",
    "    \"\"\"\n",
    "    Input: a list containing smiles.\n",
    "    Output: DBSCAN cluster for the molecules, and a list with the smiles of each cluster.\n",
    "    DBSCAN clustering: DBSCAN clustering algorithm from scikit learn is used on the \n",
    "    fingerprint vectors, with Jaccard as the pairwise distance metric. \n",
    "    The different clusters are visualised with different colours in the plot. \n",
    "    The function returns a list,called smile_cluster, containing lists with all the smiles in each cluster.\n",
    "    To achive a good clustering parameters eps and min_sample can be changed to fit the dataset.\n",
    "    Input to DBSCAN: \n",
    "    eps: The maximum distance between two points for them to be considered to belong in the same neighborhood.\n",
    "    min_sample: The number of samples in a neighborhood for a point to be considered as a core point (including the point itself).\n",
    "    \"\"\"\n",
    "    \n",
    "    # Calculates fingerprints for all smiles.\n",
    "    smiles_fps = {}\n",
    "    for molecule in smile:\n",
    "        try:\n",
    "            mol = Chem.MolFromSmiles(molecule)\n",
    "            smiles_fps[molecule] = MACCSkeys.GenMACCSKeys(mol)\n",
    "        except: \n",
    "            print(f\"The fingerprint for {molecule} could not be generated.\")\n",
    "        \n",
    "    # Creates one vector (list) with all the bits in a fingerprint and one list with all the corresponding smiles.\n",
    "    bit_list = [] \n",
    "    smile_list = []\n",
    "    for key, value in smiles_fps.items():\n",
    "        bits = []\n",
    "        bit_fp = value.ToBitString()\n",
    "        for bit in bit_fp:\n",
    "            bits.append(int(bit))  \n",
    "        bit_list.append(bits)\n",
    "        smile_list.append(key)\n",
    "\n",
    "    #DBSCAN, another clustering algoritm on the same data.\n",
    "    clustering = DBSCAN(eps=eps, min_samples=min_samples, metric='jaccard').fit(np.array(bit_list))\n",
    "    print(f\"The clustering labels are: {clustering.labels_}. \\nThe index of this list corresponds to the index of smile_list.\")\n",
    "    \n",
    "    #Generates a list that contains lists with all smiles that are in a cluster.\n",
    "    smile_cluster = []\n",
    "    for number in set(clustering.labels_):\n",
    "        index = 0\n",
    "        lista = []\n",
    "        for label in clustering.labels_:\n",
    "            if label == number:\n",
    "                lista.append(smile_list[index])\n",
    "            index += 1\n",
    "        smile_cluster.append(lista)     \n",
    "    \n",
    "    return smile_cluster, clustering.labels_, bit_list, smile_list\n"
   ]
  },
  {
   "cell_type": "markdown",
   "metadata": {},
   "source": [
    "# PCA"
   ]
  },
  {
   "cell_type": "code",
   "execution_count": 31,
   "metadata": {},
   "outputs": [],
   "source": [
    "def pca(fp_bit_list, clustering_labels, n_components=2):\n",
    "    \"\"\"\n",
    "    PCA on fingerprint data down to n_components dimensions.\n",
    "    clustering_labels colours the clusters according to their clusters.\n",
    "    input: list with Fingerprint as bit vectors.\n",
    "    output: a scatterplot of transformed data, coloured according to cluster_labels.\n",
    "    \"\"\"\n",
    "\n",
    "    data = np.array(fp_bit_list)   \n",
    "    pca = PCA(n_components=n_components).fit_transform(data)\n",
    "\n",
    "    pca_plot = plt.scatter(pca[:, 0], pca[:, 1], c=clustering_labels, cmap='rainbow')\n",
    "    \n",
    "    return pca_plot\n"
   ]
  },
  {
   "cell_type": "markdown",
   "metadata": {},
   "source": [
    "# tSNE"
   ]
  },
  {
   "cell_type": "code",
   "execution_count": 32,
   "metadata": {},
   "outputs": [],
   "source": [
    "def tsne(fp_bit_list, clustering_labels, n_components=2, perplexity = 10.0, learning_rate = 500.0, n_iter=5000):\n",
    "    \"\"\"\n",
    "    tsne on fingerprint data down to n_components dimensions.\n",
    "    clustering_labels colours the clusters according to their clusters.\n",
    "    input: list with Fingerprint as bit vectors.\n",
    "    output: a scatterplot of transformed data, coloured according to cluster_labels.\n",
    "    \"\"\"\n",
    "    data = np.array(fp_bit_list)\n",
    "    tsne = TSNE(n_components = 2, perplexity=perplexity, learning_rate=learning_rate, n_iter=n_iter).fit_transform(data)\n",
    "    tsne_plot = plt.scatter(tsne[:, 0], tsne[:, 1], c=clustering_labels, cmap='rainbow')\n",
    "    \n",
    "    return tsne_plot"
   ]
  },
  {
   "cell_type": "markdown",
   "metadata": {},
   "source": [
    "# MDS"
   ]
  },
  {
   "cell_type": "code",
   "execution_count": 33,
   "metadata": {},
   "outputs": [],
   "source": [
    "from sklearn.datasets import load_digits\n",
    "from sklearn.manifold import MDS  \n",
    "    \n",
    "def mds(fp_bit_list, clustering_labels, n_components=2 ):\n",
    "    \"\"\"\n",
    "    mds from fingerprint data down to n_components dimensions.\n",
    "    clustering_labels colours the clusters according to their clusters.\n",
    "    input: a list with Fingerprint as bit vectors.\n",
    "    output: a scatterplot of transformed data, coloured according to cluster_labels.\n",
    "    \"\"\"\n",
    "    data = fp_bit_list\n",
    "    embedding = MDS(n_components=2, metric='Jaccard')\n",
    "    mds_data= embedding.fit_transform(data)\n",
    "\n",
    "\n",
    "    mds_plot = plt.scatter(mds_data[:, 0], mds_data[:, 1], c=clustering_labels, cmap='rainbow')\n",
    "    \n",
    "    return mds_plot\n",
    "    "
   ]
  },
  {
   "cell_type": "code",
   "execution_count": 48,
   "metadata": {},
   "outputs": [],
   "source": [
    "# De fem sista är random substrat, resten är från samma EC klass\n",
    "smile = ['C[C@H](O)C([O-])=O',\n",
    " 'CCCCC(O)C([O-])=O',\n",
    " 'CCCCCCC(O)C([O-])=O',\n",
    " 'CCCCCCC(O)C([O-])=O',\n",
    " 'CCCCCCCCCCCCCCC(O)C([O-])=O',\n",
    " 'CC(O)C(O)=O',\n",
    " 'CSCCC(N)C(O)=O',\n",
    " 'C[C@H](N)C(O)=O',\n",
    " 'CC[C@H](C)[C@H](N)C(O)=O',\n",
    " 'C[C@H](O)C([O-])=O',\n",
    " 'CC(C)C[C@H](N)C(O)=O',\n",
    " 'NCCCC[C@H](N)C(O)=O',\n",
    " 'CSCC[C@H](N)C(O)=O',\n",
    " 'N[C@@H](Cc1ccccc1)C(O)=O',\n",
    " 'N[C@@H](Cc1c[nH]c2ccccc12)C(O)=O',\n",
    " 'N[C@@H](Cc1ccc(O)cc1)C(O)=O',\n",
    " 'CC(C)[C@H](N)C(O)=O',\n",
    " 'OCC([O-])=O',\n",
    " '[O-]C(=O)C=O',\n",
    " 'N[C@@H](CCO)C(O)=O',\n",
    " 'CC(O)C([O-])=O',\n",
    " 'CC(C)=CC(=O)SCCNC(=O)CCNC(=O)[C@H](O)C(C)(C)CO[P](O)(=O)O[P](O)(=O)OC[C@H]1O[C@H]([C@H](O)[C@@H]1O[P](O)(O)=O)n2cnc3c(N)ncnc23',\n",
    " '[Na].CC1(C)SC2C(NC(=O)Cc3ccccc3)C(=O)N2C1C(O)=O',\n",
    " 'CCCC',\n",
    " 'CC(C)=CCC/C(C)=C/CC\\\\C(C)=C\\\\CC\\\\C(C)=C\\\\CC\\\\C(C)=C\\\\CC\\\\C(C)=C\\\\CC\\\\C(C)=C\\\\CC\\\\C(C)=C\\\\CC\\\\C(C)=C\\\\CC\\\\C(C)=C\\\\CC\\\\C(C)=C\\\\CO[P](O)(=O)O[P](O)(O)=O',\n",
    " '[K+].OC[C@H]1O[C@@H](SC(/CC=C)=N/O[S]([O-])(=O)=O)[C@H](O)[C@@H](O)[C@@H]1O']"
   ]
  },
  {
   "cell_type": "code",
   "execution_count": 35,
   "metadata": {},
   "outputs": [
    {
     "data": {
      "text/plain": [
       "<matplotlib.collections.PathCollection at 0x12792f908>"
      ]
     },
     "execution_count": 35,
     "metadata": {},
     "output_type": "execute_result"
    },
    {
     "data": {
      "image/png": "[encoded data removed]",
      "text/plain": [
       "<Figure size 432x288 with 1 Axes>"
      ]
     },
     "metadata": {
      "needs_background": "light"
     },
     "output_type": "display_data"
    }
   ],
   "source": [
    "pca(fp_bit_list=butina_clustering(smile)[2],clustering_labels=butina_clustering(smile)[1],)"
   ]
  },
  {
   "cell_type": "code",
   "execution_count": 36,
   "metadata": {},
   "outputs": [
    {
     "data": {
      "text/plain": [
       "<matplotlib.collections.PathCollection at 0x1279cceb8>"
      ]
     },
     "execution_count": 36,
     "metadata": {},
     "output_type": "execute_result"
    },
    {
     "data": {
      "image/png": "[encoded data removed]",
      "text/plain": [
       "<Figure size 432x288 with 1 Axes>"
      ]
     },
     "metadata": {
      "needs_background": "light"
     },
     "output_type": "display_data"
    }
   ],
   "source": [
    "tsne(fp_bit_list=butina_clustering(smile)[2],clustering_labels=butina_clustering(smile)[1],)"
   ]
  },
  {
   "cell_type": "code",
   "execution_count": 37,
   "metadata": {},
   "outputs": [
    {
     "data": {
      "text/plain": [
       "<matplotlib.collections.PathCollection at 0x127a81ef0>"
      ]
     },
     "execution_count": 37,
     "metadata": {},
     "output_type": "execute_result"
    },
    {
     "data": {
      "image/png": "[encoded data removed]",
      "text/plain": [
       "<Figure size 432x288 with 1 Axes>"
      ]
     },
     "metadata": {
      "needs_background": "light"
     },
     "output_type": "display_data"
    }
   ],
   "source": [
    "mds(fp_bit_list=butina_clustering(smile)[2],clustering_labels=butina_clustering(smile)[1],)"
   ]
  },
  {
   "cell_type": "code",
   "execution_count": 42,
   "metadata": {},
   "outputs": [
    {
     "data": {
      "text/plain": [
       "<matplotlib.collections.PathCollection at 0x127ea5a90>"
      ]
     },
     "execution_count": 42,
     "metadata": {},
     "output_type": "execute_result"
    },
    {
     "data": {
      "image/png": "[encoded data removed]",
      "text/plain": [
       "<Figure size 432x288 with 1 Axes>"
      ]
     },
     "metadata": {
      "needs_background": "light"
     },
     "output_type": "display_data"
    }
   ],
   "source": [
    "pca(fp_bit_list=dbscan_clustering(smile)[2],clustering_labels=dbscan_clustering(smile)[1],)"
   ]
  },
  {
   "cell_type": "code",
   "execution_count": 44,
   "metadata": {},
   "outputs": [
    {
     "data": {
      "text/plain": [
       "<matplotlib.collections.PathCollection at 0x12800f588>"
      ]
     },
     "execution_count": 44,
     "metadata": {},
     "output_type": "execute_result"
    },
    {
     "data": {
      "image/png": "[encoded data removed]",
      "text/plain": [
       "<Figure size 432x288 with 1 Axes>"
      ]
     },
     "metadata": {
      "needs_background": "light"
     },
     "output_type": "display_data"
    }
   ],
   "source": [
    "tsne(fp_bit_list=dbscan_clustering(smile)[2],clustering_labels=dbscan_clustering(smile)[1],)"
   ]
  },
  {
   "cell_type": "code",
   "execution_count": 45,
   "metadata": {},
   "outputs": [
    {
     "data": {
      "text/plain": [
       "<matplotlib.collections.PathCollection at 0x1280c4780>"
      ]
     },
     "execution_count": 45,
     "metadata": {},
     "output_type": "execute_result"
    },
    {
     "data": {
      "image/png": "[encoded data removed]",
      "text/plain": [
       "<Figure size 432x288 with 1 Axes>"
      ]
     },
     "metadata": {
      "needs_background": "light"
     },
     "output_type": "display_data"
    }
   ],
   "source": [
    "mds(fp_bit_list=dbscan_clustering(smile)[2],clustering_labels=dbscan_clustering(smile)[1],)"
   ]
  }
 ],
 "metadata": {
  "kernelspec": {
   "display_name": "Python 3",
   "language": "python",
   "name": "python3"
  },
  "language_info": {
   "codemirror_mode": {
    "name": "ipython",
    "version": 3
   },
   "file_extension": ".py",
   "mimetype": "text/x-python",
   "name": "python",
   "nbconvert_exporter": "python",
   "pygments_lexer": "ipython3",
   "version": "3.7.1"
  }
 },
 "nbformat": 4,
 "nbformat_minor": 2
}
